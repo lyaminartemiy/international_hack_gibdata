{
 "cells": [
  {
   "cell_type": "markdown",
   "id": "0ad8c9a8-044f-4680-aa25-d968902aef8e",
   "metadata": {},
   "source": [
    "## requirements.txt"
   ]
  },
  {
   "cell_type": "code",
   "execution_count": 1,
   "id": "7b768526-e1a8-4809-a8c3-9325deeefc91",
   "metadata": {},
   "outputs": [],
   "source": [
    "!pip freeze > requirements.txt\n",
    "# !pip install -r requirements.txt"
   ]
  },
  {
   "cell_type": "markdown",
   "id": "4b90dabf-cd6c-4562-8adb-5f68392cbdef",
   "metadata": {},
   "source": [
    "## Загрузка библиотек и зависимостей"
   ]
  },
  {
   "cell_type": "code",
   "execution_count": 1,
   "id": "f25866c7-1a7f-4c06-a0aa-31bbe3978c02",
   "metadata": {},
   "outputs": [],
   "source": [
    "# Необходимые библиотеки\n",
    "import time\n",
    "import pandas as pd\n",
    "import numpy as np\n",
    "\n",
    "from tqdm import tqdm, trange\n",
    "from matplotlib import pyplot as plt\n",
    "import seaborn as sns\n",
    "%matplotlib inline\n",
    "\n",
    "import warnings\n",
    "warnings.filterwarnings('ignore')"
   ]
  },
  {
   "cell_type": "code",
   "execution_count": 2,
   "id": "1c9eeb15-c3b9-4ede-a4f0-65755d7e7687",
   "metadata": {},
   "outputs": [],
   "source": [
    "# Зависимости для машинного обучения\n",
    "from xgboost import XGBClassifier\n",
    "from lightgbm import LGBMClassifier\n",
    "from catboost import CatBoostClassifier, CatBoostRegressor\n",
    "\n",
    "from sklearn.metrics import roc_auc_score, roc_curve, f1_score, classification_report, \\\n",
    "    precision_score, recall_score, f1_score, mean_squared_error\n",
    "from sklearn.model_selection import train_test_split\n",
    "from sklearn.utils.class_weight import compute_class_weight\n",
    "from sklearn.preprocessing import LabelEncoder"
   ]
  },
  {
   "cell_type": "code",
   "execution_count": 3,
   "id": "39fa56ee-987b-4b25-a678-30ab599e845d",
   "metadata": {},
   "outputs": [],
   "source": [
    "# Imbalanced Dependencies\n",
    "from imblearn.under_sampling import TomekLinks\n",
    "from imblearn.over_sampling import RandomOverSampler, ADASYN, BorderlineSMOTE"
   ]
  },
  {
   "cell_type": "markdown",
   "id": "de20530c-6e38-4eb5-b526-92d5827f630e",
   "metadata": {},
   "source": [
    "## Загрузка данных"
   ]
  },
  {
   "cell_type": "code",
   "execution_count": 4,
   "id": "f22b014d-2cd2-4038-ba06-0ff4254cee8b",
   "metadata": {},
   "outputs": [
    {
     "data": {
      "text/plain": [
       "((12129384, 9), (2498034, 7))"
      ]
     },
     "execution_count": 4,
     "metadata": {},
     "output_type": "execute_result"
    }
   ],
   "source": [
    "# Загружаем обучающие и тестовые данные. Также сабмит для отправки\n",
    "df_train = pd.read_parquet(\"DCS/Train/hackaton2023_train.gzip\")\n",
    "df_test = pd.read_parquet(\"DCS/Test/hackaton2023_test.gzip\")\n",
    "submit = pd.read_csv(\"DCS/submission.csv\", sep=';')\n",
    "\n",
    "df_train.shape, df_test.shape"
   ]
  },
  {
   "cell_type": "markdown",
   "id": "1d838608-d3af-470b-8f24-d864b00b6e7a",
   "metadata": {},
   "source": [
    "|     Название                |     Описание                                                                             |     Тип   переменной    |     Комментарий                |   |\n",
    "|-----------------------------|------------------------------------------------------------------------------------------|-------------------------|--------------------------------|---|\n",
    "|     customer_id             |     Идентификатор   клиента                                                              |     int                 |                                |   |\n",
    "|     group_name              |     Группа:   train (обучение) – test(контроль)                                          |                         |                                |   |\n",
    "|     revenue                 |     Выручка   от продажи блюда в заказе                                                  |     float               |                                |   |\n",
    "|     startdatetime           |     Дата   и время продажи                                                               |     datetime            |                                |   |\n",
    "|     dish_name               |     Название   блюда                                                                     |     string              |                                |   |\n",
    "|     ownareaall_sqm          |     Площадь   ресторана                                                                  |     float               |                                |   |\n",
    "|     format_name             |     Формат   ресторана                                                                   |                         |                                |   |\n",
    "|     buy_post                |     Таргет   1: флаг оттока     (0 – отток, 1 – не отток)                                |     bool                |     Только   в train данных    |   |\n",
    "|     date_diff_post          |     Таргет   2: количество дней между последней покупкой в прошлом и первой в будущем    |     int                 |     Только   в train данных    |   |"
   ]
  },
  {
   "cell_type": "code",
   "execution_count": 5,
   "id": "cd5dbe26-9e94-4739-8c1b-0ccf8d593070",
   "metadata": {},
   "outputs": [
    {
     "data": {
      "text/html": [
       "<div>\n",
       "<style scoped>\n",
       "    .dataframe tbody tr th:only-of-type {\n",
       "        vertical-align: middle;\n",
       "    }\n",
       "\n",
       "    .dataframe tbody tr th {\n",
       "        vertical-align: top;\n",
       "    }\n",
       "\n",
       "    .dataframe thead th {\n",
       "        text-align: right;\n",
       "    }\n",
       "</style>\n",
       "<table border=\"1\" class=\"dataframe\">\n",
       "  <thead>\n",
       "    <tr style=\"text-align: right;\">\n",
       "      <th></th>\n",
       "      <th>customer_id</th>\n",
       "      <th>date_diff_post</th>\n",
       "      <th>buy_post</th>\n",
       "      <th>group_name</th>\n",
       "      <th>revenue</th>\n",
       "      <th>startdatetime</th>\n",
       "      <th>dish_name</th>\n",
       "      <th>ownareaall_sqm</th>\n",
       "      <th>format_name</th>\n",
       "    </tr>\n",
       "  </thead>\n",
       "  <tbody>\n",
       "    <tr>\n",
       "      <th>0</th>\n",
       "      <td>29891</td>\n",
       "      <td>9.0</td>\n",
       "      <td>1</td>\n",
       "      <td>train</td>\n",
       "      <td>69.99</td>\n",
       "      <td>2022-12-05 12:03:58</td>\n",
       "      <td>Кинг Фри станд</td>\n",
       "      <td>300.0</td>\n",
       "      <td>Отдельно стоящий без внешней зоны</td>\n",
       "    </tr>\n",
       "    <tr>\n",
       "      <th>1</th>\n",
       "      <td>29891</td>\n",
       "      <td>9.0</td>\n",
       "      <td>1</td>\n",
       "      <td>train</td>\n",
       "      <td>190.00</td>\n",
       "      <td>2022-12-05 12:03:58</td>\n",
       "      <td>Чикен Тар-Тар</td>\n",
       "      <td>300.0</td>\n",
       "      <td>Отдельно стоящий без внешней зоны</td>\n",
       "    </tr>\n",
       "    <tr>\n",
       "      <th>2</th>\n",
       "      <td>29891</td>\n",
       "      <td>9.0</td>\n",
       "      <td>1</td>\n",
       "      <td>train</td>\n",
       "      <td>9.99</td>\n",
       "      <td>2022-12-05 12:03:58</td>\n",
       "      <td>Соус Сырный</td>\n",
       "      <td>300.0</td>\n",
       "      <td>Отдельно стоящий без внешней зоны</td>\n",
       "    </tr>\n",
       "    <tr>\n",
       "      <th>3</th>\n",
       "      <td>29891</td>\n",
       "      <td>9.0</td>\n",
       "      <td>1</td>\n",
       "      <td>train</td>\n",
       "      <td>119.99</td>\n",
       "      <td>2022-12-05 12:03:58</td>\n",
       "      <td>Энергет.нап. Адреналин Раш</td>\n",
       "      <td>300.0</td>\n",
       "      <td>Отдельно стоящий без внешней зоны</td>\n",
       "    </tr>\n",
       "    <tr>\n",
       "      <th>4</th>\n",
       "      <td>29891</td>\n",
       "      <td>9.0</td>\n",
       "      <td>1</td>\n",
       "      <td>train</td>\n",
       "      <td>119.99</td>\n",
       "      <td>2022-12-05 14:28:35</td>\n",
       "      <td>Латте (СТАНД.)</td>\n",
       "      <td>300.0</td>\n",
       "      <td>Отдельно стоящий без внешней зоны</td>\n",
       "    </tr>\n",
       "    <tr>\n",
       "      <th>5</th>\n",
       "      <td>29891</td>\n",
       "      <td>9.0</td>\n",
       "      <td>1</td>\n",
       "      <td>train</td>\n",
       "      <td>60.00</td>\n",
       "      <td>2022-12-15 00:37:19</td>\n",
       "      <td>Чизбургер</td>\n",
       "      <td>463.0</td>\n",
       "      <td>Отдельно стоящий с внешней зоной</td>\n",
       "    </tr>\n",
       "    <tr>\n",
       "      <th>6</th>\n",
       "      <td>29891</td>\n",
       "      <td>9.0</td>\n",
       "      <td>1</td>\n",
       "      <td>train</td>\n",
       "      <td>209.99</td>\n",
       "      <td>2022-12-15 00:37:19</td>\n",
       "      <td>Воппер Ролл</td>\n",
       "      <td>463.0</td>\n",
       "      <td>Отдельно стоящий с внешней зоной</td>\n",
       "    </tr>\n",
       "  </tbody>\n",
       "</table>\n",
       "</div>"
      ],
      "text/plain": [
       "   customer_id  date_diff_post  buy_post group_name  revenue  \\\n",
       "0        29891             9.0         1      train    69.99   \n",
       "1        29891             9.0         1      train   190.00   \n",
       "2        29891             9.0         1      train     9.99   \n",
       "3        29891             9.0         1      train   119.99   \n",
       "4        29891             9.0         1      train   119.99   \n",
       "5        29891             9.0         1      train    60.00   \n",
       "6        29891             9.0         1      train   209.99   \n",
       "\n",
       "        startdatetime                   dish_name  ownareaall_sqm  \\\n",
       "0 2022-12-05 12:03:58              Кинг Фри станд           300.0   \n",
       "1 2022-12-05 12:03:58               Чикен Тар-Тар           300.0   \n",
       "2 2022-12-05 12:03:58                 Соус Сырный           300.0   \n",
       "3 2022-12-05 12:03:58  Энергет.нап. Адреналин Раш           300.0   \n",
       "4 2022-12-05 14:28:35              Латте (СТАНД.)           300.0   \n",
       "5 2022-12-15 00:37:19                   Чизбургер           463.0   \n",
       "6 2022-12-15 00:37:19                 Воппер Ролл           463.0   \n",
       "\n",
       "                         format_name  \n",
       "0  Отдельно стоящий без внешней зоны  \n",
       "1  Отдельно стоящий без внешней зоны  \n",
       "2  Отдельно стоящий без внешней зоны  \n",
       "3  Отдельно стоящий без внешней зоны  \n",
       "4  Отдельно стоящий без внешней зоны  \n",
       "5   Отдельно стоящий с внешней зоной  \n",
       "6   Отдельно стоящий с внешней зоной  "
      ]
     },
     "execution_count": 5,
     "metadata": {},
     "output_type": "execute_result"
    }
   ],
   "source": [
    "df_train.head(7)"
   ]
  },
  {
   "cell_type": "markdown",
   "id": "0754c4fe-ab00-4534-b76f-32974db10908",
   "metadata": {},
   "source": [
    "## EDA"
   ]
  },
  {
   "cell_type": "code",
   "execution_count": 6,
   "id": "c0b235a2-f84c-4b24-abdb-1f94224e0c6f",
   "metadata": {},
   "outputs": [
    {
     "data": {
      "text/html": [
       "<div>\n",
       "<style scoped>\n",
       "    .dataframe tbody tr th:only-of-type {\n",
       "        vertical-align: middle;\n",
       "    }\n",
       "\n",
       "    .dataframe tbody tr th {\n",
       "        vertical-align: top;\n",
       "    }\n",
       "\n",
       "    .dataframe thead th {\n",
       "        text-align: right;\n",
       "    }\n",
       "</style>\n",
       "<table border=\"1\" class=\"dataframe\">\n",
       "  <thead>\n",
       "    <tr style=\"text-align: right;\">\n",
       "      <th></th>\n",
       "      <th>count</th>\n",
       "    </tr>\n",
       "    <tr>\n",
       "      <th>buy_post</th>\n",
       "      <th></th>\n",
       "    </tr>\n",
       "  </thead>\n",
       "  <tbody>\n",
       "    <tr>\n",
       "      <th>1</th>\n",
       "      <td>9660867</td>\n",
       "    </tr>\n",
       "    <tr>\n",
       "      <th>0</th>\n",
       "      <td>2468517</td>\n",
       "    </tr>\n",
       "  </tbody>\n",
       "</table>\n",
       "</div>"
      ],
      "text/plain": [
       "            count\n",
       "buy_post         \n",
       "1         9660867\n",
       "0         2468517"
      ]
     },
     "execution_count": 6,
     "metadata": {},
     "output_type": "execute_result"
    }
   ],
   "source": [
    "# Распределение таргета\n",
    "target_d = pd.DataFrame(df_train['buy_post'].value_counts())\n",
    "target_d"
   ]
  },
  {
   "cell_type": "code",
   "execution_count": 7,
   "id": "5d199268-9467-4514-a3bf-e3984c650fe6",
   "metadata": {},
   "outputs": [],
   "source": [
    "# Проверка на новых пользователей в тестовой выборке\n",
    "train_customers = set(df_train['customer_id'].unique().tolist())\n",
    "test_customers = set(df_test['customer_id'].unique().tolist())\n",
    "\n",
    "assert len(train_customers - test_customers) == len(train_customers), \"Клиенты в трейне не повторяются!\"\n",
    "assert len(test_customers - train_customers) == len(test_customers), \"Клиенты в тесте не повторяются!\"\n",
    "\n",
    "# Делаем вывод, что для валидации нужно брать клиентов не из обучающей выборки"
   ]
  },
  {
   "cell_type": "markdown",
   "id": "462997a5-0b0b-4d78-a917-52045eaba724",
   "metadata": {},
   "source": [
    "## Обработка данных"
   ]
  },
  {
   "cell_type": "code",
   "execution_count": 8,
   "id": "d62065c0-267c-4b53-8ce5-d59daeaaaaf6",
   "metadata": {},
   "outputs": [],
   "source": [
    "# Объединяем данные\n",
    "data = pd.concat([df_train, df_test])"
   ]
  },
  {
   "cell_type": "code",
   "execution_count": 9,
   "id": "fd59d235-1ecc-4f45-9b56-6d764daad082",
   "metadata": {},
   "outputs": [],
   "source": [
    "# Сортируем по ID клиента и по дате транзакции\n",
    "data = data.sort_values(by=['customer_id', 'startdatetime'], ascending=True)"
   ]
  },
  {
   "cell_type": "code",
   "execution_count": 10,
   "id": "a221500c-9eee-443d-81f0-60cd8ed55859",
   "metadata": {},
   "outputs": [],
   "source": [
    "# --- Сохранение данных в локальную базу данных\n",
    "# Label-кодирование строковых данных и сохранение справочников id-наименование\n",
    "\n",
    "# encoder = LabelEncoder()\n",
    "# data['encode_format_name'] = encoder.fit_transform(data['format_name'])\n",
    "# data['encode_dish_name'] = encoder.fit_transform(data['dish_name'])\n",
    "\n",
    "# data['is_test'] = data['group_name'].map({'train': 0, 'test': 1})\n",
    "# data = data.drop(columns=['group_name'])\n",
    "\n",
    "# format_name = data[['encode_format_name', 'format_name']].drop_duplicates().to_parquet(\"format_name.parquet\", index=False)\n",
    "# dish_name = data[['encode_dish_name', 'dish_name']].drop_duplicates().to_parquet(\"dish_name.parquet\", index=False)\n",
    "# data = data.drop(columns=['format_name', 'dish_name'])\n",
    "\n",
    "# data.to_parquet(\"data.parquet\", index=False)"
   ]
  },
  {
   "cell_type": "code",
   "execution_count": 11,
   "id": "278899b5-6874-4a1c-8f95-712643b7baae",
   "metadata": {},
   "outputs": [],
   "source": [
    "# Загрузка справочников\n",
    "dish_name = pd.read_parquet(\"dish_name.parquet\")\n",
    "format_name = pd.read_parquet(\"format_name.parquet\")"
   ]
  },
  {
   "cell_type": "code",
   "execution_count": 12,
   "id": "789a6963-c366-458d-90e4-db46e5fe248e",
   "metadata": {},
   "outputs": [],
   "source": [
    "train_data = data[data['group_name'] == 'train']\n",
    "test_data = data[data['group_name'] == 'test']\n",
    "\n",
    "# Считаем средние категории для каждого категориального признака\n",
    "fn_churn_stats = train_data.groupby('format_name').agg(\n",
    "    fn_churn_mean=(\"buy_post\", \"mean\"),\n",
    "    fn_churn_std=(\"buy_post\", \"std\"),\n",
    "    fn_churn_min=(\"buy_post\", \"min\"),\n",
    "    fn_churn_max=(\"buy_post\", \"max\")\n",
    ")\n",
    "\n",
    "dn_churn_stats = train_data.groupby('dish_name').agg(\n",
    "    dn_churn_mean=(\"buy_post\", \"mean\"),\n",
    "    dn_churn_std=(\"buy_post\", \"std\"),\n",
    "    dn_churn_min=(\"buy_post\", \"min\"),\n",
    "    dn_churn_max=(\"buy_post\", \"max\")\n",
    ")"
   ]
  },
  {
   "cell_type": "code",
   "execution_count": 13,
   "id": "64a13782-44f2-4544-9ce7-6301d2e13f4b",
   "metadata": {},
   "outputs": [],
   "source": [
    "# Данные о количестве строк по пользователям\n",
    "train_customer_counts = train_data.groupby('customer_id', as_index=False).agg({'group_name': 'count'})\n",
    "train_customer_counts['count_n'] = train_customer_counts['group_name']\n",
    "train_customer_counts = train_customer_counts.drop(columns=['group_name'])\n",
    "\n",
    "# Данные о количестве строк по пользователям\n",
    "test_customer_counts = test_data.groupby('customer_id', as_index=False).agg({'group_name': 'count'})\n",
    "test_customer_counts['count_n'] = test_customer_counts['group_name']\n",
    "test_customer_counts = test_customer_counts.drop(columns=['group_name'])"
   ]
  },
  {
   "cell_type": "code",
   "execution_count": 14,
   "id": "ad065700-4135-4cb7-8df4-e7fc6ef9b5e0",
   "metadata": {},
   "outputs": [],
   "source": [
    "# --- Собираем строки в заказы\n",
    "\n",
    "# Группируем по колонкам и генерируем минимальные фичи\n",
    "data = data.groupby([\"customer_id\", \"startdatetime\"], as_index=False).agg(\n",
    "    churn=(\"buy_post\", \"last\"),\n",
    "    date_diff_post=(\"date_diff_post\", \"last\"),\n",
    "    buy_post=(\"buy_post\", \"last\"),\n",
    "    group_name=(\"group_name\", \"last\"),\n",
    "    revenue=(\"revenue\", \"sum\"),\n",
    "    ownareaall_sqm=(\"ownareaall_sqm\", \"last\"),\n",
    "    format_name=(\"format_name\", \"last\"),\n",
    "    pos_n=(\"format_name\", \"count\"),\n",
    ")"
   ]
  },
  {
   "cell_type": "code",
   "execution_count": 15,
   "id": "2f66ae0d-b810-4dfe-b270-1f119a836a9c",
   "metadata": {},
   "outputs": [],
   "source": [
    "# Приводим таргеты к целочисленным форматам\n",
    "data['buy_post'] = data['buy_post'].astype('Int64')\n",
    "data['date_diff_post'] = data['date_diff_post'].astype('Int64')"
   ]
  },
  {
   "cell_type": "code",
   "execution_count": 16,
   "id": "eff9746e-2df2-484f-9419-9898060641f9",
   "metadata": {},
   "outputs": [],
   "source": [
    "# Добавляем информацию по таргетам\n",
    "data = data.merge(fn_churn_stats, how='left', on='format_name')"
   ]
  },
  {
   "cell_type": "code",
   "execution_count": 125,
   "id": "05b0bf7e-0b16-4a25-8a3c-4747b52706f4",
   "metadata": {},
   "outputs": [],
   "source": [
    "# Разделяем данные на обучающие и тестовые\n",
    "df_train = data[data['group_name'] == \"train\"]\n",
    "df_test = data[data['group_name'] == \"test\"]"
   ]
  },
  {
   "cell_type": "code",
   "execution_count": 126,
   "id": "3ce101e4-4fd4-4bcf-b4ec-929709839778",
   "metadata": {},
   "outputs": [],
   "source": [
    "# Считываем данные из локальной базы данных\n",
    "\n",
    "# Любимые продукты для каждого пользователя и количество данных продуктов для него же\n",
    "favorite_products = pd.read_parquet(\"DCS/Features/favorite_products.parquet\")\n",
    "favorite_products = favorite_products.merge(dish_name, how='left', on='encode_dish_name')\n",
    "favorite_products = favorite_products.drop(columns=['encode_dish_name'])\n",
    "favorite_products = favorite_products.merge(dn_churn_stats, how=\"left\", on=\"dish_name\")\n",
    "\n",
    "# Любимый формат для каждого пользователя и количество данных для него же\n",
    "favorite_formats = pd.read_parquet(\"DCS/Features/favorite_format.parquet\")\n",
    "favorite_formats = favorite_formats.merge(format_name, how='left', on='encode_format_name')\n",
    "favorite_formats = favorite_formats.drop(columns=['encode_format_name'])\n",
    "favorite_formats = favorite_formats.merge(fn_churn_stats, how=\"left\", on=\"format_name\")"
   ]
  },
  {
   "cell_type": "code",
   "execution_count": 127,
   "id": "40fb1564-53ed-4eec-b36c-22354caf26ea",
   "metadata": {},
   "outputs": [
    {
     "data": {
      "text/plain": [
       "(500000, 31)"
      ]
     },
     "execution_count": 127,
     "metadata": {},
     "output_type": "execute_result"
    }
   ],
   "source": [
    "# --- Feature Engineering\n",
    "\n",
    "# Считаем признаки через агрегации \n",
    "df_train = df_train.groupby(\"customer_id\", as_index=False).agg(\n",
    "    # Churn\n",
    "    churn=(\"buy_post\", \"last\"),\n",
    "    date_diff_post=(\"date_diff_post\", \"last\"),\n",
    "    \n",
    "    # Revenue\n",
    "    revenue_mean=(\"revenue\", \"mean\"),\n",
    "    revenue_sum=(\"revenue\", \"sum\"),\n",
    "    revenue_max=(\"revenue\", \"max\"),\n",
    "    revenue_min=(\"revenue\", \"min\"),\n",
    "    revenue_std=(\"revenue\", \"std\"),\n",
    "    revenue_last=(\"revenue\", \"last\"),\n",
    "\n",
    "    # Area\n",
    "    ownareaall_sqm_mean=(\"ownareaall_sqm\", \"mean\"),\n",
    "    ownareaall_sqm_max=(\"ownareaall_sqm\", \"max\"),\n",
    "    ownareaall_sqm_min=(\"ownareaall_sqm\", \"min\"),\n",
    "    ownareaall_sqm_std=(\"ownareaall_sqm\", \"std\"),\n",
    "    ownareaall_sqm_last=(\"ownareaall_sqm\", \"last\"),\n",
    "\n",
    "    # Format name\n",
    "    format_name_last=(\"format_name\", \"last\"),\n",
    "\n",
    "    # StartDateTime\n",
    "    startdatetime_count=(\"startdatetime\", \"count\"),\n",
    "    startdatetime_last=(\"startdatetime\", \"last\"),\n",
    "    startdatetime_std=(\"startdatetime\", \"std\"),\n",
    "\n",
    "    # Target Encoding\n",
    "    churn_mean_mean=(\"fn_churn_mean\", \"mean\"),\n",
    "    churn_mean_std=(\"fn_churn_mean\", \"std\"),\n",
    "    churn_mean_min=(\"fn_churn_mean\", \"min\"),\n",
    "    churn_mean_max=(\"fn_churn_mean\", \"max\"),\n",
    "\n",
    "    churn_std_mean=(\"fn_churn_std\", \"mean\"),\n",
    "    churn_std_std=(\"fn_churn_std\", \"std\"),\n",
    "    churn_std_min=(\"fn_churn_std\", \"min\"),\n",
    "    churn_std_max=(\"fn_churn_std\", \"max\"),\n",
    "    \n",
    "    pos_n_last=(\"pos_n\", \"last\"),\n",
    "    pos_n_mean=(\"pos_n\", \"mean\"),\n",
    ")\n",
    "df_train['startdatetime_std'] = df_train['startdatetime_std'].dt.days\n",
    "df_train['startdatetime_last_day'] = df_train['startdatetime_last'].dt.day\n",
    "df_train['startdatetime_last_hour'] = df_train['startdatetime_last'].dt.hour\n",
    "df_train['startdatetime_last_day_of_week'] = df_train['startdatetime_last'].dt.day_of_week\n",
    "df_train = df_train.drop(columns=['startdatetime_last'])\n",
    "\n",
    "df_train = df_train.merge(train_customer_counts, how='left', on='customer_id')\n",
    "# df_train = df_train.merge(favorite_products, how='left', on='customer_id')\n",
    "# df_train = df_train.merge(favorite_formats, how='left', on='customer_id')\n",
    "df_train.shape"
   ]
  },
  {
   "cell_type": "markdown",
   "id": "4eb721fe-f7c9-4f92-add1-252d5e99023b",
   "metadata": {},
   "source": [
    "## Custom Train-Test Split"
   ]
  },
  {
   "cell_type": "code",
   "execution_count": 128,
   "id": "112149c4-4115-4383-a874-2aea3fb41f2a",
   "metadata": {},
   "outputs": [],
   "source": [
    "def split_by_client(df, test_size=0.5):\n",
    "    \"\"\"\n",
    "        Метод разделения трейн теста, таким образом чтобы одинаковые клиенты не попадали в разные наборы\n",
    "        и при этом сохранилась стратификация по данным\n",
    "    \"\"\"\n",
    "    clients_target_1 = df[df[\"churn\"] == 1][\"customer_id\"].unique()\n",
    "    clients_t1_train, clients_t1_test = train_test_split(clients_target_1, test_size=test_size, shuffle=True, random_state=53)\n",
    "    \n",
    "    clients_target_0 = df[df[\"churn\"] == 0][\"customer_id\"].unique()\n",
    "    clients_t0_train, clients_t0_test = train_test_split(clients_target_0, test_size=test_size, shuffle=True, random_state=53)\n",
    "    \n",
    "    clients_t0_train = list(set(clients_t0_train) - set(clients_t1_test))\n",
    "    clients_t0_test = list(set(clients_t0_test) - set(clients_t1_train))\n",
    "    \n",
    "    train = pd.concat([df[(df['customer_id'].isin(clients_t0_train))], df[(df['customer_id'].isin(clients_t1_train))] ] )\n",
    "    test = pd.concat([df[(df['customer_id'].isin(clients_t0_test))], df[(df['customer_id'].isin(clients_t1_test))]])\n",
    "    \n",
    "    return train, test\n"
   ]
  },
  {
   "cell_type": "code",
   "execution_count": 129,
   "id": "66aa4f2d-8a91-41b8-a8f7-4c4e78c3e06c",
   "metadata": {},
   "outputs": [
    {
     "data": {
      "text/plain": [
       "((400000, 31), (50001, 31), (49999, 31))"
      ]
     },
     "execution_count": 129,
     "metadata": {},
     "output_type": "execute_result"
    }
   ],
   "source": [
    "train_data, val_data = split_by_client(df_train, test_size=0.2)\n",
    "val_data, test_data = split_by_client(val_data, test_size=0.5)\n",
    "\n",
    "# Проверяем, что нет лика данных по клиентам между трайн/вал/тест\n",
    "assert len(set(train_data[\"customer_id\"]) & set(val_data[\"customer_id\"])) == 0, \"Лик train val\"\n",
    "assert len(set(train_data[\"customer_id\"]) & set(test_data[\"customer_id\"])) == 0, \"Лик train test\"\n",
    "assert len(set(test_data[\"customer_id\"]) & set(val_data[\"customer_id\"])) == 0, \"Лик test val\"\n",
    "\n",
    "train_data.shape, test_data.shape, val_data.shape"
   ]
  },
  {
   "cell_type": "code",
   "execution_count": 130,
   "id": "a63db073-3937-439f-80c7-f71e43f2d133",
   "metadata": {},
   "outputs": [
    {
     "data": {
      "text/plain": [
       "(churn\n",
       " 1    287276\n",
       " 0    112724\n",
       " Name: count, dtype: Int64,\n",
       " churn\n",
       " 1    35909\n",
       " 0    14090\n",
       " Name: count, dtype: Int64,\n",
       " churn\n",
       " 1    35910\n",
       " 0    14091\n",
       " Name: count, dtype: Int64)"
      ]
     },
     "execution_count": 130,
     "metadata": {},
     "output_type": "execute_result"
    }
   ],
   "source": [
    "# Проверяем дисбаланс разбиения train/val/test\n",
    "train_data[\"churn\"].value_counts(), val_data[\"churn\"].value_counts(), test_data[\"churn\"].value_counts()"
   ]
  },
  {
   "cell_type": "code",
   "execution_count": 131,
   "id": "b8643755-ae2e-4dde-a427-a0a6b559148d",
   "metadata": {},
   "outputs": [
    {
     "data": {
      "text/plain": [
       "format_name_last    object\n",
       "dtype: object"
      ]
     },
     "execution_count": 131,
     "metadata": {},
     "output_type": "execute_result"
    }
   ],
   "source": [
    "df_train.dtypes[(df_train.dtypes == 'object') | (df_train.dtypes == 'category')]"
   ]
  },
  {
   "cell_type": "code",
   "execution_count": 132,
   "id": "db21ca25-befa-4ef4-be54-6bef9ca26909",
   "metadata": {},
   "outputs": [],
   "source": [
    "target_column = ['churn', 'date_diff_post']\n",
    "cat_columns = ['format_name_last']  # , 'dish_name', 'format_name'\n",
    "id_column = ['customer_id']\n",
    "feature_columns = list(set(df_train.columns) - set(target_column + id_column))"
   ]
  },
  {
   "cell_type": "code",
   "execution_count": 133,
   "id": "143a45f4-dad6-456e-b92b-35f1cdd8424a",
   "metadata": {},
   "outputs": [
    {
     "data": {
      "text/plain": [
       "((400000, 28), (400000,), (49999, 28), (49999,), (50001,), (50001, 28))"
      ]
     },
     "execution_count": 133,
     "metadata": {},
     "output_type": "execute_result"
    }
   ],
   "source": [
    "X_train = train_data[feature_columns]\n",
    "y_train = train_data[target_column[0]]\n",
    "\n",
    "X_val = val_data[feature_columns]\n",
    "y_val = val_data[target_column[0]]\n",
    "\n",
    "X_test = test_data[feature_columns]\n",
    "y_test = test_data[target_column[0]]\n",
    "\n",
    "X_train.shape, y_train.shape, X_val.shape, y_val.shape, y_test.shape, X_test.shape"
   ]
  },
  {
   "cell_type": "code",
   "execution_count": 134,
   "id": "d37476ff-c945-4ea5-84fa-61628581adc8",
   "metadata": {},
   "outputs": [],
   "source": [
    "X = df_train.drop(columns=id_column+target_column)\n",
    "y = df_train[target_column[0]]"
   ]
  },
  {
   "cell_type": "markdown",
   "id": "f96568c4-5ece-40b8-89b8-1c02e3ae0498",
   "metadata": {},
   "source": [
    "## Кастомные вспомогательные функции"
   ]
  },
  {
   "cell_type": "code",
   "execution_count": 26,
   "id": "87f79f2d-1118-4e5a-9b33-ebf987b34cc0",
   "metadata": {},
   "outputs": [],
   "source": [
    "# Вывод графика ROC-AUC\n",
    "def plot_roc_auc(y_true, y_pred):\n",
    "    fpr, tpr, _ = roc_curve(y_true=y_true, y_score=y_pred)\n",
    "    roc_auc = roc_auc_score(y_true=y_true, y_score=y_pred)\n",
    "\n",
    "    plt.figure(figsize=(10, 3))\n",
    "    plt.plot(fpr, tpr, color='darkorange',\n",
    "             lw=2, label='ROC curve (area = %0.4f)' % roc_auc, alpha=0.5)\n",
    "\n",
    "    plt.plot([0, 1], [0, 1], color='navy', lw=2, linestyle='--', alpha=0.5)\n",
    "\n",
    "    plt.xlim([0.0, 1.0])\n",
    "    plt.ylim([0.0, 1.05])\n",
    "    plt.xticks(fontsize=12)\n",
    "    plt.yticks(fontsize=12)\n",
    "    plt.grid(True)\n",
    "    plt.xlabel('False Positive Rate', fontsize=12)\n",
    "    plt.ylabel('True Positive Rate', fontsize=12)\n",
    "    plt.title('Receiver operating characteristic', fontsize=16)\n",
    "    plt.legend(loc=\"lower right\", fontsize=12)\n",
    "    plt.show()\n",
    "    return roc_auc\n"
   ]
  },
  {
   "cell_type": "code",
   "execution_count": 27,
   "id": "a2e89b7e-9c59-48a6-90a4-8637511b8ab2",
   "metadata": {},
   "outputs": [],
   "source": [
    "# Вывод графика feature importance\n",
    "def plot_feature_importance(importance, names, model_name=\"\", top_n=-1, skip_columns=[]):\n",
    "    \"\"\"\n",
    "        Функция вывода feature importance\n",
    "            :importance - массив важности фичей, полученный от модели\n",
    "            :names - массив названий фичей\n",
    "            :model_name - название модели\n",
    "            :top_n - кол-во выводимых фичей\n",
    "            :skip_columns: какие фичи пропустить, такое может понадобиться чтобы временно убрать \n",
    "                            из отображаемых горячие фичи, и изучить менее сильные\n",
    "            :return - fi_df - feature importance датафрейм\n",
    "    \"\"\"\n",
    "    feature_importance = np.array(importance)\n",
    "    feature_names = np.array(names)\n",
    "    \n",
    "    data={'feature_names':feature_names,'feature_importance':feature_importance}\n",
    "    fi_df = pd.DataFrame(data)\n",
    "    fi_df = fi_df[~fi_df['feature_names'].isin(skip_columns)]\n",
    "    fi_df.sort_values(by=['feature_importance'], ascending=False,inplace=True)\n",
    "    \n",
    "    plt.figure(figsize=(10,8))\n",
    "    sns.barplot(x=fi_df['feature_importance'][:top_n], y=fi_df['feature_names'][:top_n])\n",
    "    if top_n != -1:\n",
    "        plt.title(f\"{model_name} FEATURE IMPORTANCE (Top: {top_n})\")\n",
    "    else:\n",
    "        plt.title(f\"{model_name} FEATURE IMPORTANCE\")\n",
    "    plt.xlabel('FEATURE IMPORTANCE')\n",
    "    plt.ylabel('FEATURE NAMES')\n",
    "    return fi_df\n"
   ]
  },
  {
   "cell_type": "markdown",
   "id": "a5411047-2ceb-4db0-ba67-ad1fa94344a9",
   "metadata": {},
   "source": [
    "## OverSampling"
   ]
  },
  {
   "cell_type": "code",
   "execution_count": 135,
   "id": "7c98bdbc-e1e3-4727-acc6-a0bee715cc4c",
   "metadata": {},
   "outputs": [
    {
     "data": {
      "text/plain": [
       "((400000, 28), (400000,), (49999, 28), (49999,), (50001,), (50001, 28))"
      ]
     },
     "execution_count": 135,
     "metadata": {},
     "output_type": "execute_result"
    }
   ],
   "source": [
    "# X_train, y_train = RandomOverSampler(random_state=53).fit_resample(X_train, y_train)\n",
    "X_train.shape, y_train.shape, X_val.shape, y_val.shape, y_test.shape, X_test.shape\n",
    "\n",
    "# По итогам анализа выявлено, что сэмплирование данных неплохо работает для данного датасета"
   ]
  },
  {
   "cell_type": "markdown",
   "id": "b461a898-2402-4077-a5fc-a617d1f83322",
   "metadata": {},
   "source": [
    "## CatBoost | Отток пользователей (Бинарная классификация)"
   ]
  },
  {
   "cell_type": "code",
   "execution_count": 28,
   "id": "6b102a77-0921-4f4a-a75a-4c1bf364d7ad",
   "metadata": {},
   "outputs": [
    {
     "data": {
      "text/plain": [
       "{0: 2.5484901174550227, 1: 0.3923892006293599}"
      ]
     },
     "execution_count": 28,
     "metadata": {},
     "output_type": "execute_result"
    }
   ],
   "source": [
    "# Расчет дисбалнса классов\n",
    "tdist = y.value_counts()\n",
    "class_weights = {0: tdist[1] / tdist[0], 1: tdist[0] / tdist[1]}\n",
    "\n",
    "class_weights"
   ]
  },
  {
   "cell_type": "code",
   "execution_count": 29,
   "id": "97e76204-3691-444e-89c3-71c18b801530",
   "metadata": {},
   "outputs": [
    {
     "data": {
      "application/vnd.jupyter.widget-view+json": {
       "model_id": "2ed4bbb8dd4b4d969e086569bb54738b",
       "version_major": 2,
       "version_minor": 0
      },
      "text/plain": [
       "MetricVisualizer(layout=Layout(align_self='stretch', height='500px'))"
      ]
     },
     "metadata": {},
     "output_type": "display_data"
    },
    {
     "data": {
      "text/plain": [
       "<catboost.core.CatBoostClassifier at 0x1fecf832650>"
      ]
     },
     "execution_count": 29,
     "metadata": {},
     "output_type": "execute_result"
    }
   ],
   "source": [
    "model_1 = CatBoostClassifier(\n",
    "    iterations=1000,\n",
    "    \n",
    "    loss_function='Logloss',\n",
    "    eval_metric=\"F1\",\n",
    "    \n",
    "    class_weights=class_weights, \n",
    "    cat_features=cat_columns,\n",
    "\n",
    "    # Параметры ускорения\n",
    "    task_type=\"GPU\",    \n",
    "    thread_count=-1,\n",
    "    bootstrap_type=\"Bernoulli\", \n",
    "    \n",
    "    # Остальное\n",
    "    random_seed=7575,\n",
    "    # auto_class_weights=\"SqrtBalanced\",\n",
    "    early_stopping_rounds=200\n",
    ")\n",
    "model_1.fit(\n",
    "    X, \n",
    "    y, \n",
    "    # eval_set=(X_val, y_val), \n",
    "    plot=True, verbose=False\n",
    ")"
   ]
  },
  {
   "cell_type": "code",
   "execution_count": 170,
   "id": "3647995a-4e3c-4ed6-94e0-b4b072bdfb0d",
   "metadata": {},
   "outputs": [],
   "source": [
    "X_test = X_test.fillna(\"Прочее\")"
   ]
  },
  {
   "cell_type": "code",
   "execution_count": null,
   "id": "290c60de-5747-4b00-b363-7c902846e102",
   "metadata": {},
   "outputs": [],
   "source": [
    "y_pred_proba = model_1.predict_proba(X_test)[:, 1]\n",
    "y_pred = pd.Series([1 if pred >= 0.5 else 0 for pred in y_pred_proba])"
   ]
  },
  {
   "cell_type": "code",
   "execution_count": null,
   "id": "a17bdf7b-5c92-4f30-b8b2-e019c14a50ad",
   "metadata": {},
   "outputs": [],
   "source": [
    "# Для рассчета ROC-AUC на baseline моделе используем тестовые данные\n",
    "y_pred_proba = model_1.predict_proba(X_test)[:, 1]\n",
    "y_pred = model_1.predict(X_test)"
   ]
  },
  {
   "cell_type": "code",
   "execution_count": 41,
   "id": "c7fe0dc3-784b-457f-890a-8d054191e979",
   "metadata": {},
   "outputs": [
    {
     "data": {
      "image/png": "[encoded data removed]",
      "text/plain": [
       "<Figure size 1000x300 with 1 Axes>"
      ]
     },
     "metadata": {},
     "output_type": "display_data"
    },
    {
     "name": "stdout",
     "output_type": "stream",
     "text": [
      "ROC-AUC Score:  0.7384666730736824\n",
      "              precision    recall  f1-score   support\n",
      "\n",
      "         0.0       0.35      0.94      0.51     14091\n",
      "         1.0       0.93      0.31      0.47     35910\n",
      "\n",
      "    accuracy                           0.49     50001\n",
      "   macro avg       0.64      0.63      0.49     50001\n",
      "weighted avg       0.77      0.49      0.48     50001\n",
      "\n",
      "F1 Score:  0.46549888301981335\n"
     ]
    }
   ],
   "source": [
    "# Строим график ROC-AUC\n",
    "roc_auc = plot_roc_auc(y_true=y_test, y_pred=y_pred_proba)\n",
    "print(\"ROC-AUC Score: \", roc_auc)\n",
    "print(classification_report(y_test, y_pred))\n",
    "print(\"F1 Score: \", f1_score(y_test, y_pred))"
   ]
  },
  {
   "cell_type": "code",
   "execution_count": 42,
   "id": "d59e52a5-a8bb-474c-b0d3-976e53706b68",
   "metadata": {},
   "outputs": [
    {
     "data": {
      "image/png": "[encoded data removed]",
      "text/plain": [
       "<Figure size 1000x800 with 1 Axes>"
      ]
     },
     "metadata": {},
     "output_type": "display_data"
    }
   ],
   "source": [
    "# Построение важности признаков\n",
    "dfi = plot_feature_importance(model_1.get_feature_importance(), X_test.columns, top_n=30) "
   ]
  },
  {
   "cell_type": "markdown",
   "id": "869d6fa9-9df5-4d26-a68e-02cb561d4324",
   "metadata": {},
   "source": [
    "## Локальная валидация и тестирование"
   ]
  },
  {
   "cell_type": "code",
   "execution_count": 30,
   "id": "446a4c69-e243-4ab0-9d5c-c6c7a8e32415",
   "metadata": {},
   "outputs": [
    {
     "data": {
      "text/plain": [
       "(112334, 29)"
      ]
     },
     "execution_count": 30,
     "metadata": {},
     "output_type": "execute_result"
    }
   ],
   "source": [
    "# --- Feature Engineering\n",
    "\n",
    "# Считаем признаки через агрегации \n",
    "df_test = df_test.groupby(\"customer_id\", as_index=False).agg(\n",
    "    # Churn\n",
    "    # churn=(\"buy_post\", \"last\"),\n",
    "    # date_diff_post=(\"date_diff_post\", \"last\"),\n",
    "    \n",
    "    # Revenue\n",
    "    revenue_mean=(\"revenue\", \"mean\"),\n",
    "    revenue_sum=(\"revenue\", \"sum\"),\n",
    "    revenue_max=(\"revenue\", \"max\"),\n",
    "    revenue_min=(\"revenue\", \"min\"),\n",
    "    revenue_std=(\"revenue\", \"std\"),\n",
    "    revenue_last=(\"revenue\", \"last\"),\n",
    "\n",
    "    # Area\n",
    "    ownareaall_sqm_mean=(\"ownareaall_sqm\", \"mean\"),\n",
    "    ownareaall_sqm_max=(\"ownareaall_sqm\", \"max\"),\n",
    "    ownareaall_sqm_min=(\"ownareaall_sqm\", \"min\"),\n",
    "    ownareaall_sqm_std=(\"ownareaall_sqm\", \"std\"),\n",
    "    ownareaall_sqm_last=(\"ownareaall_sqm\", \"last\"),\n",
    "\n",
    "    # Format name\n",
    "    format_name_last=(\"format_name\", \"last\"),\n",
    "\n",
    "    # StartDateTime\n",
    "    startdatetime_count=(\"startdatetime\", \"count\"),\n",
    "    startdatetime_last=(\"startdatetime\", \"last\"),\n",
    "    startdatetime_std=(\"startdatetime\", \"std\"),\n",
    "\n",
    "    # Target Encoding\n",
    "    churn_mean_mean=(\"fn_churn_mean\", \"mean\"),\n",
    "    churn_mean_std=(\"fn_churn_mean\", \"std\"),\n",
    "    churn_mean_min=(\"fn_churn_mean\", \"min\"),\n",
    "    churn_mean_max=(\"fn_churn_mean\", \"max\"),\n",
    "\n",
    "    churn_std_mean=(\"fn_churn_std\", \"mean\"),\n",
    "    churn_std_std=(\"fn_churn_std\", \"std\"),\n",
    "    churn_std_min=(\"fn_churn_std\", \"min\"),\n",
    "    churn_std_max=(\"fn_churn_std\", \"max\"),\n",
    "    \n",
    "    pos_n_last=(\"pos_n\", \"last\"),\n",
    "    pos_n_mean=(\"pos_n\", \"mean\"),\n",
    ")\n",
    "df_test['startdatetime_std'] = df_test['startdatetime_std'].dt.days\n",
    "df_test['startdatetime_last_day'] = df_test['startdatetime_last'].dt.day\n",
    "df_test['startdatetime_last_hour'] = df_test['startdatetime_last'].dt.hour\n",
    "df_test['startdatetime_last_day_of_week'] = df_test['startdatetime_last'].dt.day_of_week\n",
    "df_test = df_test.drop(columns=['startdatetime_last'])\n",
    "\n",
    "df_test = df_test.merge(test_customer_counts, how='left', on='customer_id')\n",
    "# df_test = df_test.merge(favorite_products, how='left', on='customer_id')\n",
    "# df_test = df_test.merge(favorite_formats, how='left', on='customer_id')\n",
    "df_test.shape"
   ]
  },
  {
   "cell_type": "code",
   "execution_count": 31,
   "id": "b1cdfecb-3a89-4e16-abc2-7989d56d92a5",
   "metadata": {},
   "outputs": [],
   "source": [
    "# X_test_final = X_test_final.fillna(\"Пропуск\")"
   ]
  },
  {
   "cell_type": "code",
   "execution_count": 36,
   "id": "8255e17c-c75f-4450-bfd1-59a198614553",
   "metadata": {},
   "outputs": [],
   "source": [
    "X_test_final.iloc[:, 11] = X_test_final.iloc[:, 11].astype('float64')"
   ]
  },
  {
   "cell_type": "code",
   "execution_count": 38,
   "id": "49aea142-a46d-43fa-a361-64cebaba8112",
   "metadata": {},
   "outputs": [
    {
     "data": {
      "text/plain": [
       "0         499.94\n",
       "1         374.98\n",
       "2           1.00\n",
       "3         109.99\n",
       "4         281.98\n",
       "           ...  \n",
       "112329    139.99\n",
       "112330      1.00\n",
       "112331    124.99\n",
       "112332    209.99\n",
       "112333     94.99\n",
       "Name: revenue_min, Length: 112334, dtype: float64"
      ]
     },
     "execution_count": 38,
     "metadata": {},
     "output_type": "execute_result"
    }
   ],
   "source": [
    "X_test_final.iloc[:, 11]"
   ]
  },
  {
   "cell_type": "code",
   "execution_count": 40,
   "id": "b660d331-ad76-4e7a-bc7a-6b0e708159bf",
   "metadata": {},
   "outputs": [
    {
     "data": {
      "text/plain": [
       "0                      Отдельно стоящий с внешней зоной\n",
       "1                     Отдельно стоящий без внешней зоны\n",
       "2                                   Фудкорт без туалета\n",
       "3         Отдельно стоящий без внешней зоны без туалета\n",
       "4                      Отдельно стоящий с внешней зоной\n",
       "                              ...                      \n",
       "499995                              Фудкорт без туалета\n",
       "499996                               Фудкорт с туалетом\n",
       "499997                              Фудкорт без туалета\n",
       "499998                 Отдельно стоящий с внешней зоной\n",
       "499999                               Фудкорт с туалетом\n",
       "Name: format_name_last, Length: 500000, dtype: object"
      ]
     },
     "execution_count": 40,
     "metadata": {},
     "output_type": "execute_result"
    }
   ],
   "source": [
    "X['format_name_last']"
   ]
  },
  {
   "cell_type": "code",
   "execution_count": null,
   "id": "225c97d4-2d5d-4186-b21e-402bcc1e2f15",
   "metadata": {},
   "outputs": [],
   "source": [
    "feature_columns"
   ]
  },
  {
   "cell_type": "code",
   "execution_count": 41,
   "id": "7b320ab1-465c-4d78-83f5-e87257ab1418",
   "metadata": {},
   "outputs": [],
   "source": [
    "X_test_final = df_test[X.columns]\n",
    "pred_proba = model_1.predict_proba(X_test_final)"
   ]
  },
  {
   "cell_type": "code",
   "execution_count": 123,
   "id": "0c1c17a7-817b-4eb7-9809-77f1ebbcf07d",
   "metadata": {},
   "outputs": [],
   "source": [
    "# Делаем сабмит\n",
    "df_test['churn_pred'] = pd.Series([1 if pred > 0.2755 else 0 for pred in pred_proba[:, 1]])\n",
    "submit = submit.merge(df_test[['customer_id', 'churn_pred']], how='left', on='customer_id')\n",
    "submit['buy_post'] = submit['churn_pred']\n",
    "submit = submit.drop(columns='churn_pred')"
   ]
  },
  {
   "cell_type": "code",
   "execution_count": 124,
   "id": "77b6cefa-71a6-4f5c-9b67-132b22c6277b",
   "metadata": {},
   "outputs": [
    {
     "data": {
      "text/plain": [
       "buy_post\n",
       "0    60513\n",
       "1    51821\n",
       "Name: count, dtype: int64"
      ]
     },
     "execution_count": 124,
     "metadata": {},
     "output_type": "execute_result"
    }
   ],
   "source": [
    "submit['buy_post'].value_counts()"
   ]
  },
  {
   "cell_type": "code",
   "execution_count": 118,
   "id": "16425dcc-a4e6-4e37-97d4-28458fab8188",
   "metadata": {},
   "outputs": [],
   "source": [
    "last_submit = pd.read_csv(\"GibData_Solution.csv\", sep=';')\n",
    "submit['date_diff_post'] = last_submit['date_diff_post']"
   ]
  },
  {
   "cell_type": "code",
   "execution_count": 119,
   "id": "12b49fbb-d0d7-4f2e-a9ab-899bc1c40d65",
   "metadata": {},
   "outputs": [],
   "source": [
    "submit.to_csv(\"GibData.csv\", sep=';', index=False)"
   ]
  },
  {
   "cell_type": "code",
   "execution_count": 120,
   "id": "97797a12-a9d0-4808-8365-caf41b934380",
   "metadata": {},
   "outputs": [
    {
     "data": {
      "text/html": [
       "<div>\n",
       "<style scoped>\n",
       "    .dataframe tbody tr th:only-of-type {\n",
       "        vertical-align: middle;\n",
       "    }\n",
       "\n",
       "    .dataframe tbody tr th {\n",
       "        vertical-align: top;\n",
       "    }\n",
       "\n",
       "    .dataframe thead th {\n",
       "        text-align: right;\n",
       "    }\n",
       "</style>\n",
       "<table border=\"1\" class=\"dataframe\">\n",
       "  <thead>\n",
       "    <tr style=\"text-align: right;\">\n",
       "      <th></th>\n",
       "      <th>customer_id</th>\n",
       "      <th>date_diff_post</th>\n",
       "      <th>buy_post</th>\n",
       "    </tr>\n",
       "  </thead>\n",
       "  <tbody>\n",
       "    <tr>\n",
       "      <th>0</th>\n",
       "      <td>13220760</td>\n",
       "      <td>8.431643</td>\n",
       "      <td>1</td>\n",
       "    </tr>\n",
       "    <tr>\n",
       "      <th>1</th>\n",
       "      <td>30315975</td>\n",
       "      <td>40.337601</td>\n",
       "      <td>0</td>\n",
       "    </tr>\n",
       "    <tr>\n",
       "      <th>2</th>\n",
       "      <td>21679985</td>\n",
       "      <td>20.674490</td>\n",
       "      <td>1</td>\n",
       "    </tr>\n",
       "    <tr>\n",
       "      <th>3</th>\n",
       "      <td>29754274</td>\n",
       "      <td>23.895579</td>\n",
       "      <td>1</td>\n",
       "    </tr>\n",
       "    <tr>\n",
       "      <th>4</th>\n",
       "      <td>7797823</td>\n",
       "      <td>15.615926</td>\n",
       "      <td>1</td>\n",
       "    </tr>\n",
       "    <tr>\n",
       "      <th>...</th>\n",
       "      <td>...</td>\n",
       "      <td>...</td>\n",
       "      <td>...</td>\n",
       "    </tr>\n",
       "    <tr>\n",
       "      <th>112329</th>\n",
       "      <td>14023374</td>\n",
       "      <td>29.049256</td>\n",
       "      <td>0</td>\n",
       "    </tr>\n",
       "    <tr>\n",
       "      <th>112330</th>\n",
       "      <td>34923292</td>\n",
       "      <td>41.278484</td>\n",
       "      <td>0</td>\n",
       "    </tr>\n",
       "    <tr>\n",
       "      <th>112331</th>\n",
       "      <td>32761835</td>\n",
       "      <td>42.120547</td>\n",
       "      <td>0</td>\n",
       "    </tr>\n",
       "    <tr>\n",
       "      <th>112332</th>\n",
       "      <td>38322785</td>\n",
       "      <td>43.025484</td>\n",
       "      <td>0</td>\n",
       "    </tr>\n",
       "    <tr>\n",
       "      <th>112333</th>\n",
       "      <td>22730497</td>\n",
       "      <td>32.439676</td>\n",
       "      <td>0</td>\n",
       "    </tr>\n",
       "  </tbody>\n",
       "</table>\n",
       "<p>112334 rows × 3 columns</p>\n",
       "</div>"
      ],
      "text/plain": [
       "        customer_id  date_diff_post  buy_post\n",
       "0          13220760        8.431643         1\n",
       "1          30315975       40.337601         0\n",
       "2          21679985       20.674490         1\n",
       "3          29754274       23.895579         1\n",
       "4           7797823       15.615926         1\n",
       "...             ...             ...       ...\n",
       "112329     14023374       29.049256         0\n",
       "112330     34923292       41.278484         0\n",
       "112331     32761835       42.120547         0\n",
       "112332     38322785       43.025484         0\n",
       "112333     22730497       32.439676         0\n",
       "\n",
       "[112334 rows x 3 columns]"
      ]
     },
     "execution_count": 120,
     "metadata": {},
     "output_type": "execute_result"
    }
   ],
   "source": [
    "submit"
   ]
  },
  {
   "cell_type": "markdown",
   "id": "36f45058-8be9-4065-a158-3c218880f1a9",
   "metadata": {},
   "source": [
    "## CatBoost | Регрессия времени до минимальной будущей транзакции"
   ]
  },
  {
   "cell_type": "code",
   "execution_count": 39,
   "id": "f98b1403-5593-4d6c-83e4-6ffdc22d801d",
   "metadata": {},
   "outputs": [
    {
     "data": {
      "text/plain": [
       "((287276, 40), (287276,), (35909, 40), (35909,), (35910,), (35910, 40))"
      ]
     },
     "execution_count": 39,
     "metadata": {},
     "output_type": "execute_result"
    }
   ],
   "source": [
    "train_data = train_data[train_data['churn'] == 1]\n",
    "val_data = val_data[val_data['churn'] == 1]\n",
    "test_data = test_data[test_data['churn'] == 1]\n",
    "\n",
    "X_train = train_data[feature_columns]\n",
    "y_train = train_data[target_column[1]]\n",
    "\n",
    "X_val = val_data[feature_columns]\n",
    "y_val = val_data[target_column[1]]\n",
    "\n",
    "X_test = test_data[feature_columns]\n",
    "y_test = test_data[target_column[1]]\n",
    "\n",
    "X_train.shape, y_train.shape, X_val.shape, y_val.shape, y_test.shape, X_test.shape"
   ]
  },
  {
   "cell_type": "code",
   "execution_count": 40,
   "id": "e0ed4727-ed28-4706-9773-7027f9820c5b",
   "metadata": {},
   "outputs": [
    {
     "data": {
      "application/vnd.jupyter.widget-view+json": {
       "model_id": "e39057256cbc49f39520ab8203a4230b",
       "version_major": 2,
       "version_minor": 0
      },
      "text/plain": [
       "MetricVisualizer(layout=Layout(align_self='stretch', height='500px'))"
      ]
     },
     "metadata": {},
     "output_type": "display_data"
    },
    {
     "data": {
      "text/plain": [
       "<catboost.core.CatBoostRegressor at 0x1da684b9210>"
      ]
     },
     "execution_count": 40,
     "metadata": {},
     "output_type": "execute_result"
    }
   ],
   "source": [
    "model_2 = CatBoostRegressor(\n",
    "    iterations=10,\n",
    "    loss_function='RMSE', \n",
    "    cat_features=cat_columns,\n",
    "\n",
    "    # Параметры ускорения\n",
    "    task_type=\"GPU\",    \n",
    "    thread_count=-1,\n",
    "    bootstrap_type=\"Bernoulli\", \n",
    "    \n",
    "    # Остальное\n",
    "    random_seed=7575,\n",
    "    early_stopping_rounds=200\n",
    ")\n",
    "model_2.fit(\n",
    "    X_train, \n",
    "    y_train, \n",
    "    eval_set=(X_val, y_val), \n",
    "    plot=True, verbose=False\n",
    ")"
   ]
  },
  {
   "cell_type": "code",
   "execution_count": 41,
   "id": "ffb910ed-0ae4-48cb-bca7-3e0bbadeb4f7",
   "metadata": {},
   "outputs": [
    {
     "name": "stdout",
     "output_type": "stream",
     "text": [
      "RMSE score:  12.914129469112911\n"
     ]
    }
   ],
   "source": [
    "y_pred = model_2.predict(X_test)\n",
    "print(\"RMSE score: \", np.sqrt(mean_squared_error(y_test, y_pred)))"
   ]
  },
  {
   "cell_type": "markdown",
   "id": "58123732-7234-4d84-9ace-57e9628b0e5e",
   "metadata": {},
   "source": [
    "# Делаем финальный сабмит"
   ]
  },
  {
   "cell_type": "markdown",
   "id": "48981dcd-c558-464e-82b1-08d7cea4919e",
   "metadata": {},
   "source": [
    "## Classification"
   ]
  },
  {
   "cell_type": "code",
   "execution_count": 42,
   "id": "c6194f39-e6f3-4e76-83c0-acb80134d546",
   "metadata": {},
   "outputs": [],
   "source": [
    "class MetaModel:\n",
    "    def __init__(self, params, type='classification'):\n",
    "        self.models = []\n",
    "        self.params = params\n",
    "        self.scores = []\n",
    "        self.type = type\n",
    "        \n",
    "    def fit(self, **kwargs):\n",
    "        self.models = []\n",
    "        self.scores = []\n",
    "        \n",
    "        for i in range(5):\n",
    "            print(f\"Model #{i+1}\")\n",
    "            now_params = self.params.copy()\n",
    "            now_params['random_seed'] = 42 + (i * 10)\n",
    "            if self.type == 'classification':\n",
    "                now_model = CatBoostClassifier(**now_params)\n",
    "            else:\n",
    "                now_model = CatBoostRegressor(**now_params)\n",
    "            now_model.fit(**kwargs)\n",
    "\n",
    "            self.models.append(now_model)\n",
    "            print('---------------------------------------------')\n",
    "        print('---------------------------------------------')\n",
    "    \n",
    "    def predict(self, X):\n",
    "        if len(self.models) == 0:\n",
    "            raise Exception(\"There is not fitted model\")\n",
    "\n",
    "        if self.type == 'classification':\n",
    "            preds = np.concatenate([model.predict_proba(X).reshape(-1, 1) for model in self.models], axis=1)\n",
    "        else:\n",
    "            preds = np.concatenate([model.predict(X).reshape(-1, 1) for model in self.models], axis=1)\n",
    "        return preds.mean(axis=1)\n"
   ]
  },
  {
   "cell_type": "code",
   "execution_count": 43,
   "id": "3bf48f45-62f1-419a-8e82-4d2142c77133",
   "metadata": {},
   "outputs": [],
   "source": [
    "params = dict(\n",
    "    iterations=1000,\n",
    "    \n",
    "    loss_function='Logloss',\n",
    "    eval_metric=\"F1\",\n",
    "    \n",
    "    # class_weights=class_weights, \n",
    "    cat_features=cat_columns,\n",
    "\n",
    "    # Параметры ускорения\n",
    "    task_type=\"GPU\",    \n",
    "    thread_count=-1,\n",
    "    bootstrap_type=\"Bernoulli\", \n",
    "    \n",
    "    # Остальное\n",
    "    random_seed=7575,\n",
    "    early_stopping_rounds=200\n",
    ")"
   ]
  },
  {
   "cell_type": "code",
   "execution_count": 44,
   "id": "52262a21-eb14-4235-8f5d-e4686d48c110",
   "metadata": {},
   "outputs": [],
   "source": [
    "X = df_train.drop(columns=target_column+id_column)\n",
    "y = df_train[target_column[0]]"
   ]
  },
  {
   "cell_type": "code",
   "execution_count": 45,
   "id": "5637da36-483e-4287-96eb-14d6cfcc8b91",
   "metadata": {},
   "outputs": [],
   "source": [
    "X_res, y_res = RandomOverSampler(random_state=53).fit_resample(X, y)"
   ]
  },
  {
   "cell_type": "code",
   "execution_count": 46,
   "id": "1e5396cc-6cc5-4537-a953-3337b48aab4e",
   "metadata": {},
   "outputs": [
    {
     "name": "stdout",
     "output_type": "stream",
     "text": [
      "Model #1\n",
      "Learning rate set to 0.023479\n",
      "0:\tlearn: 0.6080020\ttotal: 276ms\tremaining: 4m 35s\n",
      "50:\tlearn: 0.6434619\ttotal: 8.01s\tremaining: 2m 29s\n",
      "100:\tlearn: 0.6490683\ttotal: 15.8s\tremaining: 2m 20s\n",
      "150:\tlearn: 0.6522262\ttotal: 23.3s\tremaining: 2m 11s\n",
      "200:\tlearn: 0.6549537\ttotal: 31.2s\tremaining: 2m 3s\n",
      "250:\tlearn: 0.6618341\ttotal: 39.7s\tremaining: 1m 58s\n",
      "300:\tlearn: 0.6680355\ttotal: 47.7s\tremaining: 1m 50s\n",
      "350:\tlearn: 0.6699960\ttotal: 55.6s\tremaining: 1m 42s\n",
      "400:\tlearn: 0.6721982\ttotal: 1m 3s\tremaining: 1m 34s\n",
      "450:\tlearn: 0.6739448\ttotal: 1m 11s\tremaining: 1m 27s\n",
      "500:\tlearn: 0.6757954\ttotal: 1m 20s\tremaining: 1m 19s\n",
      "550:\tlearn: 0.6767552\ttotal: 1m 28s\tremaining: 1m 11s\n",
      "600:\tlearn: 0.6777805\ttotal: 1m 36s\tremaining: 1m 4s\n",
      "650:\tlearn: 0.6785134\ttotal: 1m 45s\tremaining: 56.3s\n",
      "700:\tlearn: 0.6795141\ttotal: 1m 53s\tremaining: 48.4s\n",
      "750:\tlearn: 0.6801112\ttotal: 2m 2s\tremaining: 40.5s\n",
      "800:\tlearn: 0.6809585\ttotal: 2m 11s\tremaining: 32.6s\n",
      "850:\tlearn: 0.6818399\ttotal: 2m 19s\tremaining: 24.5s\n",
      "900:\tlearn: 0.6824439\ttotal: 2m 28s\tremaining: 16.3s\n",
      "950:\tlearn: 0.6830380\ttotal: 2m 37s\tremaining: 8.12s\n",
      "999:\tlearn: 0.6837369\ttotal: 2m 46s\tremaining: 0us\n",
      "---------------------------------------------\n",
      "Model #2\n",
      "Learning rate set to 0.023479\n",
      "0:\tlearn: 0.6080020\ttotal: 294ms\tremaining: 4m 53s\n",
      "50:\tlearn: 0.6448809\ttotal: 8.63s\tremaining: 2m 40s\n",
      "100:\tlearn: 0.6490133\ttotal: 17.6s\tremaining: 2m 36s\n",
      "150:\tlearn: 0.6520112\ttotal: 26.3s\tremaining: 2m 27s\n",
      "200:\tlearn: 0.6552064\ttotal: 35.3s\tremaining: 2m 20s\n",
      "250:\tlearn: 0.6611406\ttotal: 44.8s\tremaining: 2m 13s\n",
      "300:\tlearn: 0.6669321\ttotal: 54.5s\tremaining: 2m 6s\n",
      "350:\tlearn: 0.6704282\ttotal: 1m 2s\tremaining: 1m 56s\n",
      "400:\tlearn: 0.6722237\ttotal: 1m 11s\tremaining: 1m 46s\n",
      "450:\tlearn: 0.6736558\ttotal: 1m 19s\tremaining: 1m 36s\n",
      "500:\tlearn: 0.6750272\ttotal: 1m 27s\tremaining: 1m 27s\n",
      "550:\tlearn: 0.6760872\ttotal: 1m 35s\tremaining: 1m 18s\n",
      "600:\tlearn: 0.6773041\ttotal: 1m 44s\tremaining: 1m 9s\n",
      "650:\tlearn: 0.6784768\ttotal: 1m 53s\tremaining: 1m\n",
      "700:\tlearn: 0.6792474\ttotal: 2m 1s\tremaining: 51.9s\n",
      "750:\tlearn: 0.6801163\ttotal: 2m 10s\tremaining: 43.1s\n",
      "800:\tlearn: 0.6809688\ttotal: 2m 18s\tremaining: 34.4s\n",
      "850:\tlearn: 0.6817827\ttotal: 2m 26s\tremaining: 25.7s\n",
      "900:\tlearn: 0.6824234\ttotal: 2m 35s\tremaining: 17.1s\n",
      "950:\tlearn: 0.6834381\ttotal: 2m 43s\tremaining: 8.42s\n",
      "999:\tlearn: 0.6842089\ttotal: 2m 51s\tremaining: 0us\n",
      "---------------------------------------------\n",
      "Model #3\n",
      "Learning rate set to 0.023479\n",
      "0:\tlearn: 0.6080020\ttotal: 372ms\tremaining: 6m 11s\n",
      "50:\tlearn: 0.6429707\ttotal: 9s\tremaining: 2m 47s\n",
      "100:\tlearn: 0.6495411\ttotal: 18.7s\tremaining: 2m 46s\n",
      "150:\tlearn: 0.6521668\ttotal: 27s\tremaining: 2m 31s\n",
      "200:\tlearn: 0.6551303\ttotal: 35.4s\tremaining: 2m 20s\n",
      "250:\tlearn: 0.6589617\ttotal: 44.5s\tremaining: 2m 12s\n",
      "300:\tlearn: 0.6651822\ttotal: 54.6s\tremaining: 2m 6s\n",
      "350:\tlearn: 0.6693887\ttotal: 1m 3s\tremaining: 1m 56s\n",
      "400:\tlearn: 0.6718088\ttotal: 1m 11s\tremaining: 1m 47s\n",
      "450:\tlearn: 0.6741216\ttotal: 1m 22s\tremaining: 1m 39s\n",
      "500:\tlearn: 0.6755542\ttotal: 1m 32s\tremaining: 1m 31s\n",
      "550:\tlearn: 0.6770428\ttotal: 1m 42s\tremaining: 1m 23s\n",
      "600:\tlearn: 0.6778624\ttotal: 1m 51s\tremaining: 1m 13s\n",
      "650:\tlearn: 0.6790961\ttotal: 1m 59s\tremaining: 1m 4s\n",
      "700:\tlearn: 0.6799907\ttotal: 2m 7s\tremaining: 54.5s\n",
      "750:\tlearn: 0.6806467\ttotal: 2m 16s\tremaining: 45.2s\n",
      "800:\tlearn: 0.6816227\ttotal: 2m 24s\tremaining: 36s\n",
      "850:\tlearn: 0.6823067\ttotal: 2m 33s\tremaining: 26.9s\n",
      "900:\tlearn: 0.6829076\ttotal: 2m 42s\tremaining: 17.8s\n",
      "950:\tlearn: 0.6834676\ttotal: 2m 50s\tremaining: 8.78s\n",
      "999:\tlearn: 0.6842027\ttotal: 2m 59s\tremaining: 0us\n",
      "---------------------------------------------\n",
      "Model #4\n",
      "Learning rate set to 0.023479\n",
      "0:\tlearn: 0.6080020\ttotal: 343ms\tremaining: 5m 42s\n",
      "50:\tlearn: 0.6441818\ttotal: 9.19s\tremaining: 2m 50s\n",
      "100:\tlearn: 0.6498030\ttotal: 18.6s\tremaining: 2m 45s\n",
      "150:\tlearn: 0.6516602\ttotal: 27.8s\tremaining: 2m 36s\n",
      "200:\tlearn: 0.6543513\ttotal: 36.1s\tremaining: 2m 23s\n",
      "250:\tlearn: 0.6592516\ttotal: 45.1s\tremaining: 2m 14s\n",
      "300:\tlearn: 0.6647043\ttotal: 54s\tremaining: 2m 5s\n",
      "350:\tlearn: 0.6688267\ttotal: 1m 2s\tremaining: 1m 55s\n",
      "400:\tlearn: 0.6708142\ttotal: 1m 11s\tremaining: 1m 46s\n",
      "450:\tlearn: 0.6722800\ttotal: 1m 19s\tremaining: 1m 36s\n",
      "500:\tlearn: 0.6742068\ttotal: 1m 28s\tremaining: 1m 27s\n",
      "550:\tlearn: 0.6757740\ttotal: 1m 36s\tremaining: 1m 18s\n",
      "600:\tlearn: 0.6770566\ttotal: 1m 44s\tremaining: 1m 9s\n",
      "650:\tlearn: 0.6782028\ttotal: 1m 53s\tremaining: 1m\n",
      "700:\tlearn: 0.6789556\ttotal: 2m 2s\tremaining: 52.1s\n",
      "750:\tlearn: 0.6797674\ttotal: 2m 10s\tremaining: 43.3s\n",
      "800:\tlearn: 0.6807556\ttotal: 2m 19s\tremaining: 34.6s\n",
      "850:\tlearn: 0.6815458\ttotal: 2m 27s\tremaining: 25.9s\n",
      "900:\tlearn: 0.6825519\ttotal: 2m 36s\tremaining: 17.2s\n",
      "950:\tlearn: 0.6831462\ttotal: 2m 44s\tremaining: 8.5s\n",
      "999:\tlearn: 0.6837053\ttotal: 2m 53s\tremaining: 0us\n",
      "---------------------------------------------\n",
      "Model #5\n",
      "Learning rate set to 0.023479\n",
      "0:\tlearn: 0.6080020\ttotal: 408ms\tremaining: 6m 47s\n",
      "50:\tlearn: 0.6437514\ttotal: 9.25s\tremaining: 2m 52s\n",
      "100:\tlearn: 0.6491976\ttotal: 18.5s\tremaining: 2m 44s\n",
      "150:\tlearn: 0.6518267\ttotal: 28s\tremaining: 2m 37s\n",
      "200:\tlearn: 0.6545295\ttotal: 38s\tremaining: 2m 30s\n",
      "250:\tlearn: 0.6607307\ttotal: 48.8s\tremaining: 2m 25s\n",
      "300:\tlearn: 0.6651698\ttotal: 59.1s\tremaining: 2m 17s\n",
      "350:\tlearn: 0.6694462\ttotal: 1m 8s\tremaining: 2m 5s\n",
      "400:\tlearn: 0.6717188\ttotal: 1m 17s\tremaining: 1m 55s\n",
      "450:\tlearn: 0.6731886\ttotal: 1m 25s\tremaining: 1m 43s\n",
      "500:\tlearn: 0.6744612\ttotal: 1m 33s\tremaining: 1m 33s\n",
      "550:\tlearn: 0.6754571\ttotal: 1m 42s\tremaining: 1m 23s\n",
      "600:\tlearn: 0.6765668\ttotal: 1m 50s\tremaining: 1m 13s\n",
      "650:\tlearn: 0.6778405\ttotal: 1m 59s\tremaining: 1m 4s\n",
      "700:\tlearn: 0.6787280\ttotal: 2m 10s\tremaining: 55.5s\n",
      "750:\tlearn: 0.6796598\ttotal: 2m 19s\tremaining: 46.4s\n",
      "800:\tlearn: 0.6805574\ttotal: 2m 30s\tremaining: 37.4s\n",
      "850:\tlearn: 0.6813585\ttotal: 2m 41s\tremaining: 28.3s\n",
      "900:\tlearn: 0.6819736\ttotal: 2m 50s\tremaining: 18.7s\n",
      "950:\tlearn: 0.6827423\ttotal: 2m 59s\tremaining: 9.22s\n",
      "999:\tlearn: 0.6834539\ttotal: 3m 7s\tremaining: 0us\n",
      "---------------------------------------------\n",
      "---------------------------------------------\n"
     ]
    }
   ],
   "source": [
    "meta_model1 = MetaModel(params)\n",
    "meta_model1.fit(X=X_res, y=y_res, verbose=50, early_stopping_rounds=200)"
   ]
  },
  {
   "cell_type": "code",
   "execution_count": 47,
   "id": "7c8b4a06-bf60-4937-9531-5d8f7065bc07",
   "metadata": {},
   "outputs": [],
   "source": [
    "X_test_final = df_test.drop(columns=id_column)"
   ]
  },
  {
   "cell_type": "code",
   "execution_count": 48,
   "id": "dd3e43bd-5529-4578-80c9-8d9aa979fce0",
   "metadata": {},
   "outputs": [],
   "source": [
    "pred_meta = meta_model1.predict(X_test_final)\n",
    "pred_meta = pred_meta.reshape(-1, 2)\n",
    "y_pred = pd.Series([1 if pred >= 0.5 else 0 for pred in pred_meta[:, 1]])"
   ]
  },
  {
   "cell_type": "code",
   "execution_count": 49,
   "id": "562f05c3-d806-446c-b7eb-104247982fa3",
   "metadata": {},
   "outputs": [
    {
     "data": {
      "text/plain": [
       "0    58656\n",
       "1    53678\n",
       "Name: count, dtype: int64"
      ]
     },
     "execution_count": 49,
     "metadata": {},
     "output_type": "execute_result"
    }
   ],
   "source": [
    "y_pred.value_counts()"
   ]
  },
  {
   "cell_type": "code",
   "execution_count": 50,
   "id": "81540459-cd3c-40e7-a3a0-43f8263653bf",
   "metadata": {},
   "outputs": [],
   "source": [
    "df_test['churn_pred'] = y_pred\n",
    "submit = submit.merge(df_test[['customer_id', 'churn_pred']], how='left', on='customer_id')\n",
    "submit['buy_post'] = submit['churn_pred']\n",
    "submit = submit.drop(columns='churn_pred')"
   ]
  },
  {
   "cell_type": "code",
   "execution_count": 51,
   "id": "eb4f63cf-f2e0-4a82-bd73-f258edcee4e0",
   "metadata": {},
   "outputs": [],
   "source": [
    "submit.to_csv(\"GibData_Solution.csv\", sep=';', index=False)"
   ]
  },
  {
   "cell_type": "markdown",
   "id": "f5c9ac35-8615-4973-9785-467757ec4fc6",
   "metadata": {},
   "source": [
    "## Regression"
   ]
  },
  {
   "cell_type": "code",
   "execution_count": 52,
   "id": "f9169559-f57f-45ef-91c3-d46d637bcfff",
   "metadata": {},
   "outputs": [],
   "source": [
    "df_train_clear = df_train[df_train[target_column[0]] == 1]\n",
    "\n",
    "X = df_train_clear.drop(columns=target_column+id_column)\n",
    "y = df_train_clear[target_column[1]]"
   ]
  },
  {
   "cell_type": "code",
   "execution_count": 53,
   "id": "8bc4b641-d420-4bbf-b683-a834f75c547e",
   "metadata": {},
   "outputs": [],
   "source": [
    "params = dict(\n",
    "    iterations=1000,\n",
    "    loss_function='RMSE', \n",
    "    cat_features=cat_columns,\n",
    "\n",
    "    # Параметры ускорения\n",
    "    task_type=\"GPU\",    \n",
    "    thread_count=-1,\n",
    "    bootstrap_type=\"Bernoulli\", \n",
    "    \n",
    "    # Остальное\n",
    "    random_seed=7575,\n",
    "    early_stopping_rounds=200\n",
    ")"
   ]
  },
  {
   "cell_type": "code",
   "execution_count": 54,
   "id": "83058726-8321-4a0c-bd63-51f3810a20f6",
   "metadata": {},
   "outputs": [
    {
     "name": "stdout",
     "output_type": "stream",
     "text": [
      "Model #1\n",
      "Learning rate set to 0.087306\n",
      "0:\tlearn: 15.2720972\ttotal: 75.8ms\tremaining: 1m 15s\n",
      "50:\tlearn: 12.9735439\ttotal: 3.83s\tremaining: 1m 11s\n",
      "100:\tlearn: 12.9376661\ttotal: 7.88s\tremaining: 1m 10s\n",
      "150:\tlearn: 12.9202522\ttotal: 12.4s\tremaining: 1m 9s\n",
      "200:\tlearn: 12.9048292\ttotal: 17s\tremaining: 1m 7s\n",
      "250:\tlearn: 12.8891686\ttotal: 21.6s\tremaining: 1m 4s\n",
      "300:\tlearn: 12.8764440\ttotal: 26.1s\tremaining: 1m\n",
      "350:\tlearn: 12.8646346\ttotal: 30.9s\tremaining: 57s\n",
      "400:\tlearn: 12.8528707\ttotal: 35.7s\tremaining: 53.3s\n",
      "450:\tlearn: 12.8419604\ttotal: 40s\tremaining: 48.7s\n",
      "500:\tlearn: 12.8316750\ttotal: 44.3s\tremaining: 44.1s\n",
      "550:\tlearn: 12.8201558\ttotal: 48.5s\tremaining: 39.5s\n",
      "600:\tlearn: 12.8097760\ttotal: 52.7s\tremaining: 35s\n",
      "650:\tlearn: 12.7978824\ttotal: 56.9s\tremaining: 30.5s\n",
      "700:\tlearn: 12.7872828\ttotal: 1m 1s\tremaining: 26.1s\n",
      "750:\tlearn: 12.7775445\ttotal: 1m 6s\tremaining: 21.9s\n",
      "800:\tlearn: 12.7675836\ttotal: 1m 10s\tremaining: 17.6s\n",
      "850:\tlearn: 12.7577814\ttotal: 1m 15s\tremaining: 13.3s\n",
      "900:\tlearn: 12.7476779\ttotal: 1m 20s\tremaining: 8.84s\n",
      "950:\tlearn: 12.7381822\ttotal: 1m 24s\tremaining: 4.36s\n",
      "999:\tlearn: 12.7288539\ttotal: 1m 29s\tremaining: 0us\n",
      "---------------------------------------------\n",
      "Model #2\n",
      "Learning rate set to 0.087306\n",
      "0:\tlearn: 15.2720914\ttotal: 212ms\tremaining: 3m 32s\n",
      "50:\tlearn: 12.9746558\ttotal: 4.15s\tremaining: 1m 17s\n",
      "100:\tlearn: 12.9400168\ttotal: 8.55s\tremaining: 1m 16s\n",
      "150:\tlearn: 12.9188757\ttotal: 12.6s\tremaining: 1m 11s\n",
      "200:\tlearn: 12.9031502\ttotal: 16.6s\tremaining: 1m 6s\n",
      "250:\tlearn: 12.8901041\ttotal: 21.4s\tremaining: 1m 3s\n",
      "300:\tlearn: 12.8780084\ttotal: 26.1s\tremaining: 1m\n",
      "350:\tlearn: 12.8662208\ttotal: 30.3s\tremaining: 56.1s\n",
      "400:\tlearn: 12.8539856\ttotal: 34.7s\tremaining: 51.8s\n",
      "450:\tlearn: 12.8431591\ttotal: 39.1s\tremaining: 47.5s\n",
      "500:\tlearn: 12.8321681\ttotal: 43.5s\tremaining: 43.3s\n",
      "550:\tlearn: 12.8213609\ttotal: 47.7s\tremaining: 38.9s\n",
      "600:\tlearn: 12.8115172\ttotal: 52s\tremaining: 34.5s\n",
      "650:\tlearn: 12.8020279\ttotal: 56.3s\tremaining: 30.2s\n",
      "700:\tlearn: 12.7919920\ttotal: 1m\tremaining: 25.8s\n",
      "750:\tlearn: 12.7818211\ttotal: 1m 4s\tremaining: 21.4s\n",
      "800:\tlearn: 12.7727820\ttotal: 1m 8s\tremaining: 17.1s\n",
      "850:\tlearn: 12.7641479\ttotal: 1m 13s\tremaining: 12.9s\n",
      "900:\tlearn: 12.7540962\ttotal: 1m 18s\tremaining: 8.61s\n",
      "950:\tlearn: 12.7445257\ttotal: 1m 23s\tremaining: 4.28s\n",
      "999:\tlearn: 12.7358804\ttotal: 1m 27s\tremaining: 0us\n",
      "---------------------------------------------\n",
      "Model #3\n",
      "Learning rate set to 0.087306\n",
      "0:\tlearn: 15.2720958\ttotal: 196ms\tremaining: 3m 15s\n",
      "50:\tlearn: 12.9744192\ttotal: 4.19s\tremaining: 1m 17s\n",
      "100:\tlearn: 12.9386683\ttotal: 8.69s\tremaining: 1m 17s\n",
      "150:\tlearn: 12.9184364\ttotal: 13.1s\tremaining: 1m 13s\n",
      "200:\tlearn: 12.9005596\ttotal: 17.4s\tremaining: 1m 9s\n",
      "250:\tlearn: 12.8879664\ttotal: 21.7s\tremaining: 1m 4s\n",
      "300:\tlearn: 12.8758017\ttotal: 26.6s\tremaining: 1m 1s\n",
      "350:\tlearn: 12.8644398\ttotal: 31.6s\tremaining: 58.4s\n",
      "400:\tlearn: 12.8527888\ttotal: 36.5s\tremaining: 54.5s\n",
      "450:\tlearn: 12.8411797\ttotal: 41.4s\tremaining: 50.4s\n",
      "500:\tlearn: 12.8301115\ttotal: 46.1s\tremaining: 45.9s\n",
      "550:\tlearn: 12.8188668\ttotal: 51s\tremaining: 41.6s\n",
      "600:\tlearn: 12.8074783\ttotal: 55.8s\tremaining: 37.1s\n",
      "650:\tlearn: 12.7970965\ttotal: 1m\tremaining: 32.5s\n",
      "700:\tlearn: 12.7869431\ttotal: 1m 5s\tremaining: 28s\n",
      "750:\tlearn: 12.7769678\ttotal: 1m 9s\tremaining: 23.2s\n",
      "800:\tlearn: 12.7679688\ttotal: 1m 14s\tremaining: 18.5s\n",
      "850:\tlearn: 12.7580267\ttotal: 1m 18s\tremaining: 13.8s\n",
      "900:\tlearn: 12.7479423\ttotal: 1m 22s\tremaining: 9.11s\n",
      "950:\tlearn: 12.7385700\ttotal: 1m 27s\tremaining: 4.5s\n",
      "999:\tlearn: 12.7289125\ttotal: 1m 31s\tremaining: 0us\n",
      "---------------------------------------------\n",
      "Model #4\n",
      "Learning rate set to 0.087306\n",
      "0:\tlearn: 15.2720950\ttotal: 192ms\tremaining: 3m 12s\n",
      "50:\tlearn: 12.9735534\ttotal: 4.3s\tremaining: 1m 20s\n",
      "100:\tlearn: 12.9385081\ttotal: 8.81s\tremaining: 1m 18s\n",
      "150:\tlearn: 12.9202475\ttotal: 13.2s\tremaining: 1m 13s\n",
      "200:\tlearn: 12.9042785\ttotal: 17.3s\tremaining: 1m 8s\n",
      "250:\tlearn: 12.8902290\ttotal: 21.6s\tremaining: 1m 4s\n",
      "300:\tlearn: 12.8774141\ttotal: 25.7s\tremaining: 59.7s\n",
      "350:\tlearn: 12.8654178\ttotal: 30.5s\tremaining: 56.3s\n",
      "400:\tlearn: 12.8536983\ttotal: 35.2s\tremaining: 52.6s\n",
      "450:\tlearn: 12.8421152\ttotal: 40s\tremaining: 48.7s\n",
      "500:\tlearn: 12.8304570\ttotal: 44.5s\tremaining: 44.3s\n",
      "550:\tlearn: 12.8195024\ttotal: 49.4s\tremaining: 40.3s\n",
      "600:\tlearn: 12.8092664\ttotal: 54.5s\tremaining: 36.2s\n",
      "650:\tlearn: 12.7989351\ttotal: 59.4s\tremaining: 31.9s\n",
      "700:\tlearn: 12.7882920\ttotal: 1m 4s\tremaining: 27.4s\n",
      "750:\tlearn: 12.7790652\ttotal: 1m 8s\tremaining: 22.8s\n",
      "800:\tlearn: 12.7696111\ttotal: 1m 14s\tremaining: 18.4s\n",
      "850:\tlearn: 12.7592861\ttotal: 1m 18s\tremaining: 13.8s\n",
      "900:\tlearn: 12.7496627\ttotal: 1m 23s\tremaining: 9.16s\n",
      "950:\tlearn: 12.7396700\ttotal: 1m 27s\tremaining: 4.52s\n",
      "999:\tlearn: 12.7301144\ttotal: 1m 31s\tremaining: 0us\n",
      "---------------------------------------------\n",
      "Model #5\n",
      "Learning rate set to 0.087306\n",
      "0:\tlearn: 15.2720943\ttotal: 208ms\tremaining: 3m 27s\n",
      "50:\tlearn: 12.9738015\ttotal: 4.16s\tremaining: 1m 17s\n",
      "100:\tlearn: 12.9369347\ttotal: 8.66s\tremaining: 1m 17s\n",
      "150:\tlearn: 12.9193573\ttotal: 13.5s\tremaining: 1m 15s\n",
      "200:\tlearn: 12.9015202\ttotal: 18.1s\tremaining: 1m 11s\n",
      "250:\tlearn: 12.8882676\ttotal: 22.7s\tremaining: 1m 7s\n",
      "300:\tlearn: 12.8767853\ttotal: 26.9s\tremaining: 1m 2s\n",
      "350:\tlearn: 12.8626971\ttotal: 31.2s\tremaining: 57.7s\n",
      "400:\tlearn: 12.8517743\ttotal: 35.6s\tremaining: 53.2s\n",
      "450:\tlearn: 12.8414343\ttotal: 39.7s\tremaining: 48.3s\n",
      "500:\tlearn: 12.8310018\ttotal: 43.9s\tremaining: 43.7s\n",
      "550:\tlearn: 12.8187786\ttotal: 48s\tremaining: 39.1s\n",
      "600:\tlearn: 12.8074344\ttotal: 52.4s\tremaining: 34.8s\n",
      "650:\tlearn: 12.7976170\ttotal: 57.4s\tremaining: 30.8s\n",
      "700:\tlearn: 12.7870929\ttotal: 1m 1s\tremaining: 26.3s\n",
      "750:\tlearn: 12.7769791\ttotal: 1m 6s\tremaining: 21.9s\n",
      "800:\tlearn: 12.7674035\ttotal: 1m 11s\tremaining: 17.7s\n",
      "850:\tlearn: 12.7579669\ttotal: 1m 15s\tremaining: 13.3s\n",
      "900:\tlearn: 12.7483958\ttotal: 1m 20s\tremaining: 8.8s\n",
      "950:\tlearn: 12.7387934\ttotal: 1m 24s\tremaining: 4.35s\n",
      "999:\tlearn: 12.7288149\ttotal: 1m 28s\tremaining: 0us\n",
      "---------------------------------------------\n",
      "---------------------------------------------\n"
     ]
    }
   ],
   "source": [
    "meta_model2 = MetaModel(params, type='regression')\n",
    "meta_model2.fit(X=X, y=y, verbose=50, early_stopping_rounds=200)"
   ]
  },
  {
   "cell_type": "code",
   "execution_count": 55,
   "id": "04d3bb47-da66-4791-91f4-8646e5a2b597",
   "metadata": {},
   "outputs": [],
   "source": [
    "X_test_final = df_test.drop(columns=id_column)\n",
    "diff_pred = meta_model2.predict(X_test_final)"
   ]
  },
  {
   "cell_type": "code",
   "execution_count": 56,
   "id": "af823461-09b6-4390-834b-e80fba5b05e3",
   "metadata": {},
   "outputs": [],
   "source": [
    "df_test['diff_pred'] = diff_pred\n",
    "submit = submit.merge(df_test[['customer_id', 'diff_pred']], how='left', on='customer_id')\n",
    "submit['date_diff_post'] = submit['diff_pred']\n",
    "submit = submit.drop(columns='diff_pred')"
   ]
  },
  {
   "cell_type": "code",
   "execution_count": 57,
   "id": "5eee1e0a-07a2-4234-9887-4a8dfc250650",
   "metadata": {},
   "outputs": [],
   "source": [
    "submit.to_csv(\"GibData_Solution.csv\", sep=';', index=False)"
   ]
  }
 ],
 "metadata": {
  "kernelspec": {
   "display_name": "Python 3 (ipykernel)",
   "language": "python",
   "name": "python3"
  },
  "language_info": {
   "codemirror_mode": {
    "name": "ipython",
    "version": 3
   },
   "file_extension": ".py",
   "mimetype": "text/x-python",
   "name": "python",
   "nbconvert_exporter": "python",
   "pygments_lexer": "ipython3",
   "version": "3.11.3"
  }
 },
 "nbformat": 4,
 "nbformat_minor": 5
}
