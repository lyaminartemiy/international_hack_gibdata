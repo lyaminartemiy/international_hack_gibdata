{
 "cells": [
  {
   "cell_type": "markdown",
   "id": "0ad8c9a8-044f-4680-aa25-d968902aef8e",
   "metadata": {},
   "source": [
    "## requirements.txt"
   ]
  },
  {
   "cell_type": "code",
   "execution_count": 1,
   "id": "7b768526-e1a8-4809-a8c3-9325deeefc91",
   "metadata": {},
   "outputs": [
    {
     "name": "stdout",
     "output_type": "stream",
     "text": [
      "Requirement already satisfied: anyio==4.1.0 in c:\\users\\artemiy\\desktop\\data science\\хакатоны\\цифровой прорыв, бургер кинг\\hackvenv\\lib\\site-packages (from -r requirements.txt (line 1)) (4.1.0)\n",
      "Requirement already satisfied: argon2-cffi==23.1.0 in c:\\users\\artemiy\\desktop\\data science\\хакатоны\\цифровой прорыв, бургер кинг\\hackvenv\\lib\\site-packages (from -r requirements.txt (line 2)) (23.1.0)\n",
      "Requirement already satisfied: argon2-cffi-bindings==21.2.0 in c:\\users\\artemiy\\desktop\\data science\\хакатоны\\цифровой прорыв, бургер кинг\\hackvenv\\lib\\site-packages (from -r requirements.txt (line 3)) (21.2.0)\n",
      "Requirement already satisfied: arrow==1.3.0 in c:\\users\\artemiy\\desktop\\data science\\хакатоны\\цифровой прорыв, бургер кинг\\hackvenv\\lib\\site-packages (from -r requirements.txt (line 4)) (1.3.0)\n",
      "Requirement already satisfied: asttokens==2.4.1 in c:\\users\\artemiy\\desktop\\data science\\хакатоны\\цифровой прорыв, бургер кинг\\hackvenv\\lib\\site-packages (from -r requirements.txt (line 5)) (2.4.1)\n",
      "Requirement already satisfied: async-lru==2.0.4 in c:\\users\\artemiy\\desktop\\data science\\хакатоны\\цифровой прорыв, бургер кинг\\hackvenv\\lib\\site-packages (from -r requirements.txt (line 6)) (2.0.4)\n",
      "Requirement already satisfied: attrs==23.1.0 in c:\\users\\artemiy\\desktop\\data science\\хакатоны\\цифровой прорыв, бургер кинг\\hackvenv\\lib\\site-packages (from -r requirements.txt (line 7)) (23.1.0)\n",
      "Requirement already satisfied: Babel==2.13.1 in c:\\users\\artemiy\\desktop\\data science\\хакатоны\\цифровой прорыв, бургер кинг\\hackvenv\\lib\\site-packages (from -r requirements.txt (line 8)) (2.13.1)\n",
      "Requirement already satisfied: beautifulsoup4==4.12.2 in c:\\users\\artemiy\\desktop\\data science\\хакатоны\\цифровой прорыв, бургер кинг\\hackvenv\\lib\\site-packages (from -r requirements.txt (line 9)) (4.12.2)\n",
      "Requirement already satisfied: bleach==6.1.0 in c:\\users\\artemiy\\desktop\\data science\\хакатоны\\цифровой прорыв, бургер кинг\\hackvenv\\lib\\site-packages (from -r requirements.txt (line 10)) (6.1.0)\n",
      "Requirement already satisfied: certifi==2023.11.17 in c:\\users\\artemiy\\desktop\\data science\\хакатоны\\цифровой прорыв, бургер кинг\\hackvenv\\lib\\site-packages (from -r requirements.txt (line 11)) (2023.11.17)\n",
      "Requirement already satisfied: cffi==1.16.0 in c:\\users\\artemiy\\desktop\\data science\\хакатоны\\цифровой прорыв, бургер кинг\\hackvenv\\lib\\site-packages (from -r requirements.txt (line 12)) (1.16.0)\n",
      "Requirement already satisfied: charset-normalizer==3.3.2 in c:\\users\\artemiy\\desktop\\data science\\хакатоны\\цифровой прорыв, бургер кинг\\hackvenv\\lib\\site-packages (from -r requirements.txt (line 13)) (3.3.2)\n",
      "Requirement already satisfied: colorama==0.4.6 in c:\\users\\artemiy\\desktop\\data science\\хакатоны\\цифровой прорыв, бургер кинг\\hackvenv\\lib\\site-packages (from -r requirements.txt (line 14)) (0.4.6)\n",
      "Requirement already satisfied: comm==0.2.0 in c:\\users\\artemiy\\desktop\\data science\\хакатоны\\цифровой прорыв, бургер кинг\\hackvenv\\lib\\site-packages (from -r requirements.txt (line 15)) (0.2.0)\n",
      "Requirement already satisfied: debugpy==1.8.0 in c:\\users\\artemiy\\desktop\\data science\\хакатоны\\цифровой прорыв, бургер кинг\\hackvenv\\lib\\site-packages (from -r requirements.txt (line 16)) (1.8.0)\n",
      "Requirement already satisfied: decorator==5.1.1 in c:\\users\\artemiy\\desktop\\data science\\хакатоны\\цифровой прорыв, бургер кинг\\hackvenv\\lib\\site-packages (from -r requirements.txt (line 17)) (5.1.1)\n",
      "Requirement already satisfied: defusedxml==0.7.1 in c:\\users\\artemiy\\desktop\\data science\\хакатоны\\цифровой прорыв, бургер кинг\\hackvenv\\lib\\site-packages (from -r requirements.txt (line 18)) (0.7.1)\n",
      "Requirement already satisfied: docopt==0.6.2 in c:\\users\\artemiy\\desktop\\data science\\хакатоны\\цифровой прорыв, бургер кинг\\hackvenv\\lib\\site-packages (from -r requirements.txt (line 19)) (0.6.2)\n",
      "Requirement already satisfied: executing==2.0.1 in c:\\users\\artemiy\\desktop\\data science\\хакатоны\\цифровой прорыв, бургер кинг\\hackvenv\\lib\\site-packages (from -r requirements.txt (line 20)) (2.0.1)\n",
      "Requirement already satisfied: fastjsonschema==2.19.0 in c:\\users\\artemiy\\desktop\\data science\\хакатоны\\цифровой прорыв, бургер кинг\\hackvenv\\lib\\site-packages (from -r requirements.txt (line 21)) (2.19.0)\n",
      "Requirement already satisfied: fqdn==1.5.1 in c:\\users\\artemiy\\desktop\\data science\\хакатоны\\цифровой прорыв, бургер кинг\\hackvenv\\lib\\site-packages (from -r requirements.txt (line 22)) (1.5.1)\n",
      "Requirement already satisfied: idna==3.4 in c:\\users\\artemiy\\desktop\\data science\\хакатоны\\цифровой прорыв, бургер кинг\\hackvenv\\lib\\site-packages (from -r requirements.txt (line 23)) (3.4)\n",
      "Requirement already satisfied: ipykernel==6.27.0 in c:\\users\\artemiy\\desktop\\data science\\хакатоны\\цифровой прорыв, бургер кинг\\hackvenv\\lib\\site-packages (from -r requirements.txt (line 24)) (6.27.0)\n",
      "Requirement already satisfied: ipython==8.17.2 in c:\\users\\artemiy\\desktop\\data science\\хакатоны\\цифровой прорыв, бургер кинг\\hackvenv\\lib\\site-packages (from -r requirements.txt (line 25)) (8.17.2)\n",
      "Requirement already satisfied: ipywidgets==8.1.1 in c:\\users\\artemiy\\desktop\\data science\\хакатоны\\цифровой прорыв, бургер кинг\\hackvenv\\lib\\site-packages (from -r requirements.txt (line 26)) (8.1.1)\n",
      "Requirement already satisfied: isoduration==20.11.0 in c:\\users\\artemiy\\desktop\\data science\\хакатоны\\цифровой прорыв, бургер кинг\\hackvenv\\lib\\site-packages (from -r requirements.txt (line 27)) (20.11.0)\n",
      "Requirement already satisfied: jedi==0.19.1 in c:\\users\\artemiy\\desktop\\data science\\хакатоны\\цифровой прорыв, бургер кинг\\hackvenv\\lib\\site-packages (from -r requirements.txt (line 28)) (0.19.1)\n",
      "Requirement already satisfied: Jinja2==3.1.2 in c:\\users\\artemiy\\desktop\\data science\\хакатоны\\цифровой прорыв, бургер кинг\\hackvenv\\lib\\site-packages (from -r requirements.txt (line 29)) (3.1.2)\n",
      "Requirement already satisfied: json5==0.9.14 in c:\\users\\artemiy\\desktop\\data science\\хакатоны\\цифровой прорыв, бургер кинг\\hackvenv\\lib\\site-packages (from -r requirements.txt (line 30)) (0.9.14)\n",
      "Requirement already satisfied: jsonpointer==2.4 in c:\\users\\artemiy\\desktop\\data science\\хакатоны\\цифровой прорыв, бургер кинг\\hackvenv\\lib\\site-packages (from -r requirements.txt (line 31)) (2.4)\n",
      "Requirement already satisfied: jsonschema==4.20.0 in c:\\users\\artemiy\\desktop\\data science\\хакатоны\\цифровой прорыв, бургер кинг\\hackvenv\\lib\\site-packages (from -r requirements.txt (line 32)) (4.20.0)\n",
      "Requirement already satisfied: jsonschema-specifications==2023.11.1 in c:\\users\\artemiy\\desktop\\data science\\хакатоны\\цифровой прорыв, бургер кинг\\hackvenv\\lib\\site-packages (from -r requirements.txt (line 33)) (2023.11.1)\n",
      "Requirement already satisfied: jupyter==1.0.0 in c:\\users\\artemiy\\desktop\\data science\\хакатоны\\цифровой прорыв, бургер кинг\\hackvenv\\lib\\site-packages (from -r requirements.txt (line 34)) (1.0.0)\n",
      "Requirement already satisfied: jupyter-console==6.6.3 in c:\\users\\artemiy\\desktop\\data science\\хакатоны\\цифровой прорыв, бургер кинг\\hackvenv\\lib\\site-packages (from -r requirements.txt (line 35)) (6.6.3)\n",
      "Requirement already satisfied: jupyter-events==0.9.0 in c:\\users\\artemiy\\desktop\\data science\\хакатоны\\цифровой прорыв, бургер кинг\\hackvenv\\lib\\site-packages (from -r requirements.txt (line 36)) (0.9.0)\n",
      "Requirement already satisfied: jupyter-lsp==2.2.0 in c:\\users\\artemiy\\desktop\\data science\\хакатоны\\цифровой прорыв, бургер кинг\\hackvenv\\lib\\site-packages (from -r requirements.txt (line 37)) (2.2.0)\n",
      "Requirement already satisfied: jupyter_client==8.6.0 in c:\\users\\artemiy\\desktop\\data science\\хакатоны\\цифровой прорыв, бургер кинг\\hackvenv\\lib\\site-packages (from -r requirements.txt (line 38)) (8.6.0)\n",
      "Requirement already satisfied: jupyter_core==5.5.0 in c:\\users\\artemiy\\desktop\\data science\\хакатоны\\цифровой прорыв, бургер кинг\\hackvenv\\lib\\site-packages (from -r requirements.txt (line 39)) (5.5.0)\n",
      "Requirement already satisfied: jupyter_server==2.10.1 in c:\\users\\artemiy\\desktop\\data science\\хакатоны\\цифровой прорыв, бургер кинг\\hackvenv\\lib\\site-packages (from -r requirements.txt (line 40)) (2.10.1)\n",
      "Requirement already satisfied: jupyter_server_terminals==0.4.4 in c:\\users\\artemiy\\desktop\\data science\\хакатоны\\цифровой прорыв, бургер кинг\\hackvenv\\lib\\site-packages (from -r requirements.txt (line 41)) (0.4.4)\n",
      "Requirement already satisfied: jupyterlab==4.0.9 in c:\\users\\artemiy\\desktop\\data science\\хакатоны\\цифровой прорыв, бургер кинг\\hackvenv\\lib\\site-packages (from -r requirements.txt (line 42)) (4.0.9)\n",
      "Requirement already satisfied: jupyterlab-widgets==3.0.9 in c:\\users\\artemiy\\desktop\\data science\\хакатоны\\цифровой прорыв, бургер кинг\\hackvenv\\lib\\site-packages (from -r requirements.txt (line 43)) (3.0.9)\n",
      "Requirement already satisfied: jupyterlab_pygments==0.3.0 in c:\\users\\artemiy\\desktop\\data science\\хакатоны\\цифровой прорыв, бургер кинг\\hackvenv\\lib\\site-packages (from -r requirements.txt (line 44)) (0.3.0)\n",
      "Requirement already satisfied: jupyterlab_server==2.25.2 in c:\\users\\artemiy\\desktop\\data science\\хакатоны\\цифровой прорыв, бургер кинг\\hackvenv\\lib\\site-packages (from -r requirements.txt (line 45)) (2.25.2)\n",
      "Requirement already satisfied: MarkupSafe==2.1.3 in c:\\users\\artemiy\\desktop\\data science\\хакатоны\\цифровой прорыв, бургер кинг\\hackvenv\\lib\\site-packages (from -r requirements.txt (line 46)) (2.1.3)\n",
      "Requirement already satisfied: matplotlib-inline==0.1.6 in c:\\users\\artemiy\\desktop\\data science\\хакатоны\\цифровой прорыв, бургер кинг\\hackvenv\\lib\\site-packages (from -r requirements.txt (line 47)) (0.1.6)\n",
      "Requirement already satisfied: mistune==3.0.2 in c:\\users\\artemiy\\desktop\\data science\\хакатоны\\цифровой прорыв, бургер кинг\\hackvenv\\lib\\site-packages (from -r requirements.txt (line 48)) (3.0.2)\n",
      "Requirement already satisfied: nbclient==0.9.0 in c:\\users\\artemiy\\desktop\\data science\\хакатоны\\цифровой прорыв, бургер кинг\\hackvenv\\lib\\site-packages (from -r requirements.txt (line 49)) (0.9.0)\n",
      "Requirement already satisfied: nbconvert==7.11.0 in c:\\users\\artemiy\\desktop\\data science\\хакатоны\\цифровой прорыв, бургер кинг\\hackvenv\\lib\\site-packages (from -r requirements.txt (line 50)) (7.11.0)\n",
      "Requirement already satisfied: nbformat==5.9.2 in c:\\users\\artemiy\\desktop\\data science\\хакатоны\\цифровой прорыв, бургер кинг\\hackvenv\\lib\\site-packages (from -r requirements.txt (line 51)) (5.9.2)\n",
      "Requirement already satisfied: nest-asyncio==1.5.8 in c:\\users\\artemiy\\desktop\\data science\\хакатоны\\цифровой прорыв, бургер кинг\\hackvenv\\lib\\site-packages (from -r requirements.txt (line 52)) (1.5.8)\n",
      "Requirement already satisfied: notebook==7.0.6 in c:\\users\\artemiy\\desktop\\data science\\хакатоны\\цифровой прорыв, бургер кинг\\hackvenv\\lib\\site-packages (from -r requirements.txt (line 53)) (7.0.6)\n",
      "Requirement already satisfied: notebook_shim==0.2.3 in c:\\users\\artemiy\\desktop\\data science\\хакатоны\\цифровой прорыв, бургер кинг\\hackvenv\\lib\\site-packages (from -r requirements.txt (line 54)) (0.2.3)\n",
      "Requirement already satisfied: overrides==7.4.0 in c:\\users\\artemiy\\desktop\\data science\\хакатоны\\цифровой прорыв, бургер кинг\\hackvenv\\lib\\site-packages (from -r requirements.txt (line 55)) (7.4.0)\n",
      "Requirement already satisfied: packaging==23.2 in c:\\users\\artemiy\\desktop\\data science\\хакатоны\\цифровой прорыв, бургер кинг\\hackvenv\\lib\\site-packages (from -r requirements.txt (line 56)) (23.2)\n",
      "Requirement already satisfied: pandocfilters==1.5.0 in c:\\users\\artemiy\\desktop\\data science\\хакатоны\\цифровой прорыв, бургер кинг\\hackvenv\\lib\\site-packages (from -r requirements.txt (line 57)) (1.5.0)\n",
      "Requirement already satisfied: parso==0.8.3 in c:\\users\\artemiy\\desktop\\data science\\хакатоны\\цифровой прорыв, бургер кинг\\hackvenv\\lib\\site-packages (from -r requirements.txt (line 58)) (0.8.3)\n",
      "Requirement already satisfied: pipreqs==0.4.13 in c:\\users\\artemiy\\desktop\\data science\\хакатоны\\цифровой прорыв, бургер кинг\\hackvenv\\lib\\site-packages (from -r requirements.txt (line 59)) (0.4.13)\n",
      "Requirement already satisfied: platformdirs==4.0.0 in c:\\users\\artemiy\\desktop\\data science\\хакатоны\\цифровой прорыв, бургер кинг\\hackvenv\\lib\\site-packages (from -r requirements.txt (line 60)) (4.0.0)\n",
      "Requirement already satisfied: prometheus-client==0.19.0 in c:\\users\\artemiy\\desktop\\data science\\хакатоны\\цифровой прорыв, бургер кинг\\hackvenv\\lib\\site-packages (from -r requirements.txt (line 61)) (0.19.0)\n",
      "Requirement already satisfied: prompt-toolkit==3.0.41 in c:\\users\\artemiy\\desktop\\data science\\хакатоны\\цифровой прорыв, бургер кинг\\hackvenv\\lib\\site-packages (from -r requirements.txt (line 62)) (3.0.41)\n",
      "Requirement already satisfied: psutil==5.9.6 in c:\\users\\artemiy\\desktop\\data science\\хакатоны\\цифровой прорыв, бургер кинг\\hackvenv\\lib\\site-packages (from -r requirements.txt (line 63)) (5.9.6)\n",
      "Requirement already satisfied: pure-eval==0.2.2 in c:\\users\\artemiy\\desktop\\data science\\хакатоны\\цифровой прорыв, бургер кинг\\hackvenv\\lib\\site-packages (from -r requirements.txt (line 64)) (0.2.2)\n",
      "Requirement already satisfied: pycparser==2.21 in c:\\users\\artemiy\\desktop\\data science\\хакатоны\\цифровой прорыв, бургер кинг\\hackvenv\\lib\\site-packages (from -r requirements.txt (line 65)) (2.21)\n",
      "Requirement already satisfied: Pygments==2.17.2 in c:\\users\\artemiy\\desktop\\data science\\хакатоны\\цифровой прорыв, бургер кинг\\hackvenv\\lib\\site-packages (from -r requirements.txt (line 66)) (2.17.2)\n",
      "Requirement already satisfied: python-dateutil==2.8.2 in c:\\users\\artemiy\\desktop\\data science\\хакатоны\\цифровой прорыв, бургер кинг\\hackvenv\\lib\\site-packages (from -r requirements.txt (line 67)) (2.8.2)\n",
      "Requirement already satisfied: python-json-logger==2.0.7 in c:\\users\\artemiy\\desktop\\data science\\хакатоны\\цифровой прорыв, бургер кинг\\hackvenv\\lib\\site-packages (from -r requirements.txt (line 68)) (2.0.7)\n",
      "Requirement already satisfied: pywin32==306 in c:\\users\\artemiy\\desktop\\data science\\хакатоны\\цифровой прорыв, бургер кинг\\hackvenv\\lib\\site-packages (from -r requirements.txt (line 69)) (306)\n",
      "Requirement already satisfied: pywinpty==2.0.12 in c:\\users\\artemiy\\desktop\\data science\\хакатоны\\цифровой прорыв, бургер кинг\\hackvenv\\lib\\site-packages (from -r requirements.txt (line 70)) (2.0.12)\n",
      "Requirement already satisfied: PyYAML==6.0.1 in c:\\users\\artemiy\\desktop\\data science\\хакатоны\\цифровой прорыв, бургер кинг\\hackvenv\\lib\\site-packages (from -r requirements.txt (line 71)) (6.0.1)\n",
      "Requirement already satisfied: pyzmq==25.1.1 in c:\\users\\artemiy\\desktop\\data science\\хакатоны\\цифровой прорыв, бургер кинг\\hackvenv\\lib\\site-packages (from -r requirements.txt (line 72)) (25.1.1)\n",
      "Requirement already satisfied: qtconsole==5.5.1 in c:\\users\\artemiy\\desktop\\data science\\хакатоны\\цифровой прорыв, бургер кинг\\hackvenv\\lib\\site-packages (from -r requirements.txt (line 73)) (5.5.1)\n",
      "Requirement already satisfied: QtPy==2.4.1 in c:\\users\\artemiy\\desktop\\data science\\хакатоны\\цифровой прорыв, бургер кинг\\hackvenv\\lib\\site-packages (from -r requirements.txt (line 74)) (2.4.1)\n",
      "Requirement already satisfied: referencing==0.31.0 in c:\\users\\artemiy\\desktop\\data science\\хакатоны\\цифровой прорыв, бургер кинг\\hackvenv\\lib\\site-packages (from -r requirements.txt (line 75)) (0.31.0)\n",
      "Requirement already satisfied: requests==2.31.0 in c:\\users\\artemiy\\desktop\\data science\\хакатоны\\цифровой прорыв, бургер кинг\\hackvenv\\lib\\site-packages (from -r requirements.txt (line 76)) (2.31.0)\n",
      "Requirement already satisfied: rfc3339-validator==0.1.4 in c:\\users\\artemiy\\desktop\\data science\\хакатоны\\цифровой прорыв, бургер кинг\\hackvenv\\lib\\site-packages (from -r requirements.txt (line 77)) (0.1.4)\n",
      "Requirement already satisfied: rfc3986-validator==0.1.1 in c:\\users\\artemiy\\desktop\\data science\\хакатоны\\цифровой прорыв, бургер кинг\\hackvenv\\lib\\site-packages (from -r requirements.txt (line 78)) (0.1.1)\n",
      "Requirement already satisfied: rpds-py==0.13.1 in c:\\users\\artemiy\\desktop\\data science\\хакатоны\\цифровой прорыв, бургер кинг\\hackvenv\\lib\\site-packages (from -r requirements.txt (line 79)) (0.13.1)\n",
      "Requirement already satisfied: Send2Trash==1.8.2 in c:\\users\\artemiy\\desktop\\data science\\хакатоны\\цифровой прорыв, бургер кинг\\hackvenv\\lib\\site-packages (from -r requirements.txt (line 80)) (1.8.2)\n",
      "Requirement already satisfied: six==1.16.0 in c:\\users\\artemiy\\desktop\\data science\\хакатоны\\цифровой прорыв, бургер кинг\\hackvenv\\lib\\site-packages (from -r requirements.txt (line 81)) (1.16.0)\n",
      "Requirement already satisfied: sniffio==1.3.0 in c:\\users\\artemiy\\desktop\\data science\\хакатоны\\цифровой прорыв, бургер кинг\\hackvenv\\lib\\site-packages (from -r requirements.txt (line 82)) (1.3.0)\n",
      "Requirement already satisfied: soupsieve==2.5 in c:\\users\\artemiy\\desktop\\data science\\хакатоны\\цифровой прорыв, бургер кинг\\hackvenv\\lib\\site-packages (from -r requirements.txt (line 83)) (2.5)\n",
      "Requirement already satisfied: stack-data==0.6.3 in c:\\users\\artemiy\\desktop\\data science\\хакатоны\\цифровой прорыв, бургер кинг\\hackvenv\\lib\\site-packages (from -r requirements.txt (line 84)) (0.6.3)\n",
      "Requirement already satisfied: terminado==0.18.0 in c:\\users\\artemiy\\desktop\\data science\\хакатоны\\цифровой прорыв, бургер кинг\\hackvenv\\lib\\site-packages (from -r requirements.txt (line 85)) (0.18.0)\n",
      "Requirement already satisfied: tinycss2==1.2.1 in c:\\users\\artemiy\\desktop\\data science\\хакатоны\\цифровой прорыв, бургер кинг\\hackvenv\\lib\\site-packages (from -r requirements.txt (line 86)) (1.2.1)\n",
      "Requirement already satisfied: tornado==6.3.3 in c:\\users\\artemiy\\desktop\\data science\\хакатоны\\цифровой прорыв, бургер кинг\\hackvenv\\lib\\site-packages (from -r requirements.txt (line 87)) (6.3.3)\n",
      "Requirement already satisfied: traitlets==5.13.0 in c:\\users\\artemiy\\desktop\\data science\\хакатоны\\цифровой прорыв, бургер кинг\\hackvenv\\lib\\site-packages (from -r requirements.txt (line 88)) (5.13.0)\n",
      "Requirement already satisfied: types-python-dateutil==2.8.19.14 in c:\\users\\artemiy\\desktop\\data science\\хакатоны\\цифровой прорыв, бургер кинг\\hackvenv\\lib\\site-packages (from -r requirements.txt (line 89)) (2.8.19.14)\n",
      "Requirement already satisfied: uri-template==1.3.0 in c:\\users\\artemiy\\desktop\\data science\\хакатоны\\цифровой прорыв, бургер кинг\\hackvenv\\lib\\site-packages (from -r requirements.txt (line 90)) (1.3.0)\n",
      "Requirement already satisfied: urllib3==2.1.0 in c:\\users\\artemiy\\desktop\\data science\\хакатоны\\цифровой прорыв, бургер кинг\\hackvenv\\lib\\site-packages (from -r requirements.txt (line 91)) (2.1.0)\n",
      "Requirement already satisfied: wcwidth==0.2.12 in c:\\users\\artemiy\\desktop\\data science\\хакатоны\\цифровой прорыв, бургер кинг\\hackvenv\\lib\\site-packages (from -r requirements.txt (line 92)) (0.2.12)\n",
      "Requirement already satisfied: webcolors==1.13 in c:\\users\\artemiy\\desktop\\data science\\хакатоны\\цифровой прорыв, бургер кинг\\hackvenv\\lib\\site-packages (from -r requirements.txt (line 93)) (1.13)\n",
      "Requirement already satisfied: webencodings==0.5.1 in c:\\users\\artemiy\\desktop\\data science\\хакатоны\\цифровой прорыв, бургер кинг\\hackvenv\\lib\\site-packages (from -r requirements.txt (line 94)) (0.5.1)\n",
      "Requirement already satisfied: websocket-client==1.6.4 in c:\\users\\artemiy\\desktop\\data science\\хакатоны\\цифровой прорыв, бургер кинг\\hackvenv\\lib\\site-packages (from -r requirements.txt (line 95)) (1.6.4)\n",
      "Requirement already satisfied: widgetsnbextension==4.0.9 in c:\\users\\artemiy\\desktop\\data science\\хакатоны\\цифровой прорыв, бургер кинг\\hackvenv\\lib\\site-packages (from -r requirements.txt (line 96)) (4.0.9)\n",
      "Requirement already satisfied: yarg==0.1.9 in c:\\users\\artemiy\\desktop\\data science\\хакатоны\\цифровой прорыв, бургер кинг\\hackvenv\\lib\\site-packages (from -r requirements.txt (line 97)) (0.1.9)\n"
     ]
    }
   ],
   "source": [
    "# !pip freeze > requirements.txt\n",
    "!pip install -r requirements.txt"
   ]
  },
  {
   "cell_type": "markdown",
   "id": "4b90dabf-cd6c-4562-8adb-5f68392cbdef",
   "metadata": {},
   "source": [
    "## Загрузка библиотек и зависимостей"
   ]
  },
  {
   "cell_type": "code",
   "execution_count": 2,
   "id": "cd6b34a9-5e21-4470-8b45-c30004983728",
   "metadata": {},
   "outputs": [],
   "source": [
    "import time\n",
    "import pandas as pd\n",
    "import numpy as np\n",
    "\n",
    "from matplotlib import pyplot as plt\n",
    "import seaborn as sns\n",
    "%matplotlib inline\n",
    "\n",
    "import warnings\n",
    "warnings.filterwarnings('ignore')"
   ]
  },
  {
   "cell_type": "code",
   "execution_count": 3,
   "id": "1c9eeb15-c3b9-4ede-a4f0-65755d7e7687",
   "metadata": {},
   "outputs": [],
   "source": [
    "import catboost\n",
    "from catboost import Pool, CatBoostClassifier\n",
    "\n",
    "from sklearn.metrics import roc_auc_score, roc_curve, f1_score, classification_report, precision_score, recall_score, f1_score\n",
    "from sklearn.model_selection import train_test_split\n",
    "from sklearn.utils.class_weight import compute_class_weight\n",
    "from sklearn.preprocessing import LabelEncoder\n",
    "\n",
    "import tsfresh as tsf\n",
    "from tsfresh import extract_features\n",
    "from tsfresh.utilities.dataframe_functions import roll_time_series"
   ]
  },
  {
   "cell_type": "code",
   "execution_count": 4,
   "id": "39fa56ee-987b-4b25-a678-30ab599e845d",
   "metadata": {},
   "outputs": [],
   "source": [
    "# Imbalanced Dependencies\n",
    "from imblearn.under_sampling import TomekLinks\n",
    "from imblearn.over_sampling import RandomOverSampler, ADASYN, BorderlineSMOTE\n",
    "from imblearn.ensemble import BalancedBaggingClassifier, EasyEnsembleClassifier\n",
    "from imblearn.ensemble import RUSBoostClassifier, BalancedRandomForestClassifier\n",
    "\n",
    "# Under/Over Sampling\n",
    "from imblearn.under_sampling import TomekLinks\n",
    "from imblearn.over_sampling import RandomOverSampler, ADASYN, BorderlineSMOTE"
   ]
  },
  {
   "cell_type": "markdown",
   "id": "de20530c-6e38-4eb5-b526-92d5827f630e",
   "metadata": {},
   "source": [
    "## Загрузка данных"
   ]
  },
  {
   "cell_type": "code",
   "execution_count": 5,
   "id": "f22b014d-2cd2-4038-ba06-0ff4254cee8b",
   "metadata": {},
   "outputs": [
    {
     "data": {
      "text/plain": [
       "((12129384, 9), (2498034, 7))"
      ]
     },
     "execution_count": 5,
     "metadata": {},
     "output_type": "execute_result"
    }
   ],
   "source": [
    "df_train = pd.read_parquet(\"DCS/Train/hackaton2023_train.gzip\")\n",
    "df_test = pd.read_parquet(\"DCS/Test/hackaton2023_test.gzip\")\n",
    "submit = pd.read_csv(\"DCS/submission.csv\", sep=';')\n",
    "\n",
    "df_train.shape, df_test.shape"
   ]
  },
  {
   "cell_type": "markdown",
   "id": "1d838608-d3af-470b-8f24-d864b00b6e7a",
   "metadata": {},
   "source": [
    "|     Название                |     Описание                                                                             |     Тип   переменной    |     Комментарий                |   |\n",
    "|-----------------------------|------------------------------------------------------------------------------------------|-------------------------|--------------------------------|---|\n",
    "|     customer_id             |     Идентификатор   клиента                                                              |     int                 |                                |   |\n",
    "|     group_name              |     Группа:   train (обучение) – test(контроль)                                          |                         |                                |   |\n",
    "|     revenue                 |     Выручка   от продажи блюда в заказе                                                  |     float               |                                |   |\n",
    "|     startdatetime           |     Дата   и время продажи                                                               |     datetime            |                                |   |\n",
    "|     dish_name               |     Название   блюда                                                                     |     string              |                                |   |\n",
    "|     ownareaall_sqm          |     Площадь   ресторана                                                                  |     float               |                                |   |\n",
    "|     format_name             |     Формат   ресторана                                                                   |                         |                                |   |\n",
    "|     buy_post                |     Таргет   1: флаг оттока     (0 – отток, 1 – не отток)                                |     bool                |     Только   в train данных    |   |\n",
    "|     date_diff_post          |     Таргет   2: количество дней между последней покупкой в прошлом и первой в будущем    |     int                 |     Только   в train данных    |   |"
   ]
  },
  {
   "cell_type": "code",
   "execution_count": 6,
   "id": "cd5dbe26-9e94-4739-8c1b-0ccf8d593070",
   "metadata": {},
   "outputs": [
    {
     "data": {
      "text/html": [
       "<div>\n",
       "<style scoped>\n",
       "    .dataframe tbody tr th:only-of-type {\n",
       "        vertical-align: middle;\n",
       "    }\n",
       "\n",
       "    .dataframe tbody tr th {\n",
       "        vertical-align: top;\n",
       "    }\n",
       "\n",
       "    .dataframe thead th {\n",
       "        text-align: right;\n",
       "    }\n",
       "</style>\n",
       "<table border=\"1\" class=\"dataframe\">\n",
       "  <thead>\n",
       "    <tr style=\"text-align: right;\">\n",
       "      <th></th>\n",
       "      <th>customer_id</th>\n",
       "      <th>date_diff_post</th>\n",
       "      <th>buy_post</th>\n",
       "      <th>group_name</th>\n",
       "      <th>revenue</th>\n",
       "      <th>startdatetime</th>\n",
       "      <th>dish_name</th>\n",
       "      <th>ownareaall_sqm</th>\n",
       "      <th>format_name</th>\n",
       "    </tr>\n",
       "  </thead>\n",
       "  <tbody>\n",
       "    <tr>\n",
       "      <th>0</th>\n",
       "      <td>29891</td>\n",
       "      <td>9.0</td>\n",
       "      <td>1</td>\n",
       "      <td>train</td>\n",
       "      <td>69.99</td>\n",
       "      <td>2022-12-05 12:03:58</td>\n",
       "      <td>Кинг Фри станд</td>\n",
       "      <td>300.0</td>\n",
       "      <td>Отдельно стоящий без внешней зоны</td>\n",
       "    </tr>\n",
       "    <tr>\n",
       "      <th>1</th>\n",
       "      <td>29891</td>\n",
       "      <td>9.0</td>\n",
       "      <td>1</td>\n",
       "      <td>train</td>\n",
       "      <td>190.00</td>\n",
       "      <td>2022-12-05 12:03:58</td>\n",
       "      <td>Чикен Тар-Тар</td>\n",
       "      <td>300.0</td>\n",
       "      <td>Отдельно стоящий без внешней зоны</td>\n",
       "    </tr>\n",
       "    <tr>\n",
       "      <th>2</th>\n",
       "      <td>29891</td>\n",
       "      <td>9.0</td>\n",
       "      <td>1</td>\n",
       "      <td>train</td>\n",
       "      <td>9.99</td>\n",
       "      <td>2022-12-05 12:03:58</td>\n",
       "      <td>Соус Сырный</td>\n",
       "      <td>300.0</td>\n",
       "      <td>Отдельно стоящий без внешней зоны</td>\n",
       "    </tr>\n",
       "    <tr>\n",
       "      <th>3</th>\n",
       "      <td>29891</td>\n",
       "      <td>9.0</td>\n",
       "      <td>1</td>\n",
       "      <td>train</td>\n",
       "      <td>119.99</td>\n",
       "      <td>2022-12-05 12:03:58</td>\n",
       "      <td>Энергет.нап. Адреналин Раш</td>\n",
       "      <td>300.0</td>\n",
       "      <td>Отдельно стоящий без внешней зоны</td>\n",
       "    </tr>\n",
       "    <tr>\n",
       "      <th>4</th>\n",
       "      <td>29891</td>\n",
       "      <td>9.0</td>\n",
       "      <td>1</td>\n",
       "      <td>train</td>\n",
       "      <td>119.99</td>\n",
       "      <td>2022-12-05 14:28:35</td>\n",
       "      <td>Латте (СТАНД.)</td>\n",
       "      <td>300.0</td>\n",
       "      <td>Отдельно стоящий без внешней зоны</td>\n",
       "    </tr>\n",
       "    <tr>\n",
       "      <th>5</th>\n",
       "      <td>29891</td>\n",
       "      <td>9.0</td>\n",
       "      <td>1</td>\n",
       "      <td>train</td>\n",
       "      <td>60.00</td>\n",
       "      <td>2022-12-15 00:37:19</td>\n",
       "      <td>Чизбургер</td>\n",
       "      <td>463.0</td>\n",
       "      <td>Отдельно стоящий с внешней зоной</td>\n",
       "    </tr>\n",
       "    <tr>\n",
       "      <th>6</th>\n",
       "      <td>29891</td>\n",
       "      <td>9.0</td>\n",
       "      <td>1</td>\n",
       "      <td>train</td>\n",
       "      <td>209.99</td>\n",
       "      <td>2022-12-15 00:37:19</td>\n",
       "      <td>Воппер Ролл</td>\n",
       "      <td>463.0</td>\n",
       "      <td>Отдельно стоящий с внешней зоной</td>\n",
       "    </tr>\n",
       "  </tbody>\n",
       "</table>\n",
       "</div>"
      ],
      "text/plain": [
       "   customer_id  date_diff_post  buy_post group_name  revenue  \\\n",
       "0        29891             9.0         1      train    69.99   \n",
       "1        29891             9.0         1      train   190.00   \n",
       "2        29891             9.0         1      train     9.99   \n",
       "3        29891             9.0         1      train   119.99   \n",
       "4        29891             9.0         1      train   119.99   \n",
       "5        29891             9.0         1      train    60.00   \n",
       "6        29891             9.0         1      train   209.99   \n",
       "\n",
       "        startdatetime                   dish_name  ownareaall_sqm  \\\n",
       "0 2022-12-05 12:03:58              Кинг Фри станд           300.0   \n",
       "1 2022-12-05 12:03:58               Чикен Тар-Тар           300.0   \n",
       "2 2022-12-05 12:03:58                 Соус Сырный           300.0   \n",
       "3 2022-12-05 12:03:58  Энергет.нап. Адреналин Раш           300.0   \n",
       "4 2022-12-05 14:28:35              Латте (СТАНД.)           300.0   \n",
       "5 2022-12-15 00:37:19                   Чизбургер           463.0   \n",
       "6 2022-12-15 00:37:19                 Воппер Ролл           463.0   \n",
       "\n",
       "                         format_name  \n",
       "0  Отдельно стоящий без внешней зоны  \n",
       "1  Отдельно стоящий без внешней зоны  \n",
       "2  Отдельно стоящий без внешней зоны  \n",
       "3  Отдельно стоящий без внешней зоны  \n",
       "4  Отдельно стоящий без внешней зоны  \n",
       "5   Отдельно стоящий с внешней зоной  \n",
       "6   Отдельно стоящий с внешней зоной  "
      ]
     },
     "execution_count": 6,
     "metadata": {},
     "output_type": "execute_result"
    }
   ],
   "source": [
    "df_train.head(7)"
   ]
  },
  {
   "cell_type": "markdown",
   "id": "0754c4fe-ab00-4534-b76f-32974db10908",
   "metadata": {},
   "source": [
    "## EDA"
   ]
  },
  {
   "cell_type": "code",
   "execution_count": 7,
   "id": "c0b235a2-f84c-4b24-abdb-1f94224e0c6f",
   "metadata": {},
   "outputs": [
    {
     "data": {
      "text/html": [
       "<div>\n",
       "<style scoped>\n",
       "    .dataframe tbody tr th:only-of-type {\n",
       "        vertical-align: middle;\n",
       "    }\n",
       "\n",
       "    .dataframe tbody tr th {\n",
       "        vertical-align: top;\n",
       "    }\n",
       "\n",
       "    .dataframe thead th {\n",
       "        text-align: right;\n",
       "    }\n",
       "</style>\n",
       "<table border=\"1\" class=\"dataframe\">\n",
       "  <thead>\n",
       "    <tr style=\"text-align: right;\">\n",
       "      <th></th>\n",
       "      <th>count</th>\n",
       "    </tr>\n",
       "    <tr>\n",
       "      <th>buy_post</th>\n",
       "      <th></th>\n",
       "    </tr>\n",
       "  </thead>\n",
       "  <tbody>\n",
       "    <tr>\n",
       "      <th>1</th>\n",
       "      <td>9660867</td>\n",
       "    </tr>\n",
       "    <tr>\n",
       "      <th>0</th>\n",
       "      <td>2468517</td>\n",
       "    </tr>\n",
       "  </tbody>\n",
       "</table>\n",
       "</div>"
      ],
      "text/plain": [
       "            count\n",
       "buy_post         \n",
       "1         9660867\n",
       "0         2468517"
      ]
     },
     "execution_count": 7,
     "metadata": {},
     "output_type": "execute_result"
    }
   ],
   "source": [
    "# Распределение таргета\n",
    "target_d = pd.DataFrame(df_train['buy_post'].value_counts())\n",
    "target_d"
   ]
  },
  {
   "cell_type": "code",
   "execution_count": 8,
   "id": "5d199268-9467-4514-a3bf-e3984c650fe6",
   "metadata": {},
   "outputs": [],
   "source": [
    "# Проверка на новых пользователей в тестовой выборке\n",
    "train_customers = set(df_train['customer_id'].unique().tolist())\n",
    "test_customers = set(df_test['customer_id'].unique().tolist())\n",
    "\n",
    "assert len(train_customers - test_customers) == len(train_customers), \"Клиенты в трейне не повторяются!\"\n",
    "assert len(test_customers - train_customers) == len(test_customers), \"Клиенты в тесте не повторяются!\"\n",
    "\n",
    "# Делаем вывод, что для валидации нужно брать клиентов не из обучающей выборке"
   ]
  },
  {
   "cell_type": "markdown",
   "id": "462997a5-0b0b-4d78-a917-52045eaba724",
   "metadata": {},
   "source": [
    "## Минимальная обработка данных"
   ]
  },
  {
   "cell_type": "code",
   "execution_count": 9,
   "id": "d62065c0-267c-4b53-8ce5-d59daeaaaaf6",
   "metadata": {},
   "outputs": [],
   "source": [
    "# Объединяем данные\n",
    "data = pd.concat([df_train, df_test])"
   ]
  },
  {
   "cell_type": "code",
   "execution_count": 10,
   "id": "fd59d235-1ecc-4f45-9b56-6d764daad082",
   "metadata": {},
   "outputs": [],
   "source": [
    "# Сортируем по ID клиента и по дате транзакции\n",
    "data = data.sort_values(by=['customer_id', 'startdatetime'], ascending=True)"
   ]
  },
  {
   "cell_type": "code",
   "execution_count": 11,
   "id": "c08069bc-25f0-424e-805b-b31518a17422",
   "metadata": {},
   "outputs": [],
   "source": [
    "train_data = data[data['group_name'] == 'train']\n",
    "test_data = data[data['group_name'] == 'train']"
   ]
  },
  {
   "cell_type": "code",
   "execution_count": 12,
   "id": "64a13782-44f2-4544-9ce7-6301d2e13f4b",
   "metadata": {},
   "outputs": [],
   "source": [
    "# Данные о количестве строк по пользователям\n",
    "train_customer_counts = train_data.groupby('customer_id', as_index=False).agg({'group_name': 'count'})\n",
    "train_customer_counts['count_n'] = train_customer_counts['group_name']\n",
    "train_customer_counts = train_customer_counts.drop(columns=['group_name'])\n",
    "\n",
    "# Данные о количестве строк по пользователям\n",
    "test_customer_counts = test_data.groupby('customer_id', as_index=False).agg({'group_name': 'count'})\n",
    "test_customer_counts['count_n'] = test_customer_counts['group_name']\n",
    "test_customer_counts = test_customer_counts.drop(columns=['group_name'])"
   ]
  },
  {
   "cell_type": "markdown",
   "id": "efa51ea9-efb5-4bc5-8996-edf518709bfc",
   "metadata": {},
   "source": [
    "```\n",
    "# --- Сохранение данных в локальную базу данных\n",
    "# Label-кодирование строковых данных и сохранение справочников id-наименование\n",
    "\n",
    "encoder = LabelEncoder()\n",
    "data['encode_format_name'] = encoder.fit_transform(data['format_name'])\n",
    "data['encode_dish_name'] = encoder.fit_transform(data['dish_name'])\n",
    "\n",
    "data['is_test'] = data['group_name'].map({'train': 0, 'test': 1})\n",
    "data = data.drop(columns=['group_name'])\n",
    "\n",
    "format_name = data[['encode_format_name', 'format_name']].drop_duplicates().to_parquet(\"format_name.parquet\", index=False)\n",
    "dish_name = data[['encode_dish_name', 'dish_name']].drop_duplicates().to_parquet(\"dish_name.parquet\", index=False)\n",
    "data = data.drop(columns=['format_name', 'dish_name'])\n",
    "\n",
    "data.to_parquet(\"data.parquet\", index=False)"
   ]
  },
  {
   "cell_type": "code",
   "execution_count": 13,
   "id": "ad065700-4135-4cb7-8df4-e7fc6ef9b5e0",
   "metadata": {},
   "outputs": [],
   "source": [
    "# --- Собираем строки в заказы\n",
    "\n",
    "# Группируем по колонкам и генерируем минимальные фичи\n",
    "data = data.groupby([\"customer_id\", \"startdatetime\"], as_index=False).agg(\n",
    "    churn=(\"buy_post\", \"last\"),\n",
    "    date_diff_post=(\"date_diff_post\", \"last\"),\n",
    "    buy_post=(\"buy_post\", \"last\"),\n",
    "    group_name=(\"group_name\", \"last\"),\n",
    "    # revenue_min=(\"revenue\", \"min\"),\n",
    "    revenue=(\"revenue\", \"sum\"),\n",
    "    # revenue_max=(\"revenue\", \"max\"),\n",
    "    ownareaall_sqm=(\"ownareaall_sqm\", \"last\"),\n",
    "    format_name=(\"format_name\", \"last\")\n",
    ")"
   ]
  },
  {
   "cell_type": "code",
   "execution_count": 14,
   "id": "2f66ae0d-b810-4dfe-b270-1f119a836a9c",
   "metadata": {},
   "outputs": [],
   "source": [
    "# Приводим таргеты к целочисленным форматам\n",
    "data['buy_post'] = data['buy_post'].astype('Int64')\n",
    "data['date_diff_post'] = data['date_diff_post'].astype('Int64')"
   ]
  },
  {
   "cell_type": "code",
   "execution_count": 15,
   "id": "05b0bf7e-0b16-4a25-8a3c-4747b52706f4",
   "metadata": {},
   "outputs": [],
   "source": [
    "# Разделяем данные на обучающие и тестовые\n",
    "df_train = data[data['group_name'] == \"train\"]\n",
    "df_test = data[data['group_name'] == \"test\"]"
   ]
  },
  {
   "cell_type": "code",
   "execution_count": 16,
   "id": "40fb1564-53ed-4eec-b36c-22354caf26ea",
   "metadata": {},
   "outputs": [],
   "source": [
    "# --- Baseline Features\n",
    "\n",
    "# Считаем признаки через агрегации \n",
    "df_train = df_train.groupby(\"customer_id\", as_index=False).agg(\n",
    "    churn=(\"buy_post\", \"last\"),\n",
    "    revenue_mean=(\"revenue\", \"mean\"),\n",
    "    revenue_sum=(\"revenue\", \"sum\"),\n",
    "    revenue_max=(\"revenue\", \"max\"),\n",
    "    revenue_min=(\"revenue\", \"min\"),\n",
    "    revenue_std=(\"revenue\", \"std\"),\n",
    "    revenue_last=(\"revenue\", \"last\"),\n",
    "    ownareaall_sqm_mean=(\"ownareaall_sqm\", \"mean\"),\n",
    "    ownareaall_sqm_max=(\"ownareaall_sqm\", \"max\"),\n",
    "    ownareaall_sqm_min=(\"ownareaall_sqm\", \"min\"),\n",
    "    ownareaall_sqm_std=(\"ownareaall_sqm\", \"std\"),\n",
    "    ownareaall_sqm_last=(\"ownareaall_sqm\", \"last\"),\n",
    "    format_name_last=(\"format_name\", \"last\"),\n",
    "    startdatetime_count=(\"startdatetime\", \"count\"),\n",
    "    startdatetime_std=(\"startdatetime\", \"std\")\n",
    ")\n",
    "df_train['startdatetime_std'] = df_train['startdatetime_std'].dt.days\n",
    "df_train = df_train.merge(train_customer_counts, how='left', on='customer_id')"
   ]
  },
  {
   "cell_type": "code",
   "execution_count": 17,
   "id": "2db31fb3-386c-4f6b-9eb7-afd107c3d473",
   "metadata": {},
   "outputs": [
    {
     "data": {
      "text/html": [
       "<div>\n",
       "<style scoped>\n",
       "    .dataframe tbody tr th:only-of-type {\n",
       "        vertical-align: middle;\n",
       "    }\n",
       "\n",
       "    .dataframe tbody tr th {\n",
       "        vertical-align: top;\n",
       "    }\n",
       "\n",
       "    .dataframe thead th {\n",
       "        text-align: right;\n",
       "    }\n",
       "</style>\n",
       "<table border=\"1\" class=\"dataframe\">\n",
       "  <thead>\n",
       "    <tr style=\"text-align: right;\">\n",
       "      <th></th>\n",
       "      <th>customer_id</th>\n",
       "      <th>churn</th>\n",
       "      <th>revenue_mean</th>\n",
       "      <th>revenue_sum</th>\n",
       "      <th>revenue_max</th>\n",
       "      <th>revenue_min</th>\n",
       "      <th>revenue_std</th>\n",
       "      <th>revenue_last</th>\n",
       "      <th>ownareaall_sqm_mean</th>\n",
       "      <th>ownareaall_sqm_max</th>\n",
       "      <th>ownareaall_sqm_min</th>\n",
       "      <th>ownareaall_sqm_std</th>\n",
       "      <th>ownareaall_sqm_last</th>\n",
       "      <th>format_name_last</th>\n",
       "      <th>startdatetime_count</th>\n",
       "      <th>startdatetime_std</th>\n",
       "      <th>count_n</th>\n",
       "    </tr>\n",
       "  </thead>\n",
       "  <tbody>\n",
       "    <tr>\n",
       "      <th>0</th>\n",
       "      <td>29891</td>\n",
       "      <td>1</td>\n",
       "      <td>203.494000</td>\n",
       "      <td>5087.35</td>\n",
       "      <td>439.98</td>\n",
       "      <td>1.00</td>\n",
       "      <td>123.170275</td>\n",
       "      <td>439.98</td>\n",
       "      <td>449.960000</td>\n",
       "      <td>463.0</td>\n",
       "      <td>300.00</td>\n",
       "      <td>45.132656</td>\n",
       "      <td>463.0</td>\n",
       "      <td>Отдельно стоящий с внешней зоной</td>\n",
       "      <td>25</td>\n",
       "      <td>15</td>\n",
       "      <td>34</td>\n",
       "    </tr>\n",
       "    <tr>\n",
       "      <th>1</th>\n",
       "      <td>30477</td>\n",
       "      <td>1</td>\n",
       "      <td>227.024000</td>\n",
       "      <td>5675.60</td>\n",
       "      <td>499.95</td>\n",
       "      <td>44.99</td>\n",
       "      <td>124.933425</td>\n",
       "      <td>44.99</td>\n",
       "      <td>320.000000</td>\n",
       "      <td>320.0</td>\n",
       "      <td>320.00</td>\n",
       "      <td>0.000000</td>\n",
       "      <td>320.0</td>\n",
       "      <td>Отдельно стоящий без внешней зоны</td>\n",
       "      <td>25</td>\n",
       "      <td>18</td>\n",
       "      <td>61</td>\n",
       "    </tr>\n",
       "    <tr>\n",
       "      <th>2</th>\n",
       "      <td>31426</td>\n",
       "      <td>1</td>\n",
       "      <td>391.399583</td>\n",
       "      <td>9393.59</td>\n",
       "      <td>1079.97</td>\n",
       "      <td>1.00</td>\n",
       "      <td>334.849322</td>\n",
       "      <td>44.99</td>\n",
       "      <td>153.000000</td>\n",
       "      <td>153.0</td>\n",
       "      <td>153.00</td>\n",
       "      <td>0.000000</td>\n",
       "      <td>153.0</td>\n",
       "      <td>Фудкорт без туалета</td>\n",
       "      <td>24</td>\n",
       "      <td>14</td>\n",
       "      <td>86</td>\n",
       "    </tr>\n",
       "    <tr>\n",
       "      <th>3</th>\n",
       "      <td>44491</td>\n",
       "      <td>1</td>\n",
       "      <td>128.725000</td>\n",
       "      <td>514.90</td>\n",
       "      <td>344.97</td>\n",
       "      <td>49.97</td>\n",
       "      <td>144.471912</td>\n",
       "      <td>69.99</td>\n",
       "      <td>126.355000</td>\n",
       "      <td>139.0</td>\n",
       "      <td>88.42</td>\n",
       "      <td>25.290000</td>\n",
       "      <td>139.0</td>\n",
       "      <td>Отдельно стоящий без внешней зоны без туалета</td>\n",
       "      <td>4</td>\n",
       "      <td>13</td>\n",
       "      <td>10</td>\n",
       "    </tr>\n",
       "    <tr>\n",
       "      <th>4</th>\n",
       "      <td>44939</td>\n",
       "      <td>1</td>\n",
       "      <td>554.943333</td>\n",
       "      <td>1664.83</td>\n",
       "      <td>604.93</td>\n",
       "      <td>504.96</td>\n",
       "      <td>49.985000</td>\n",
       "      <td>504.96</td>\n",
       "      <td>179.513333</td>\n",
       "      <td>280.0</td>\n",
       "      <td>129.27</td>\n",
       "      <td>87.024006</td>\n",
       "      <td>280.0</td>\n",
       "      <td>Отдельно стоящий с внешней зоной</td>\n",
       "      <td>3</td>\n",
       "      <td>7</td>\n",
       "      <td>25</td>\n",
       "    </tr>\n",
       "    <tr>\n",
       "      <th>5</th>\n",
       "      <td>45006</td>\n",
       "      <td>0</td>\n",
       "      <td>522.613333</td>\n",
       "      <td>1567.84</td>\n",
       "      <td>961.89</td>\n",
       "      <td>195.98</td>\n",
       "      <td>395.184669</td>\n",
       "      <td>409.97</td>\n",
       "      <td>159.030000</td>\n",
       "      <td>246.2</td>\n",
       "      <td>105.20</td>\n",
       "      <td>76.183441</td>\n",
       "      <td>105.2</td>\n",
       "      <td>Фудкорт без туалета</td>\n",
       "      <td>3</td>\n",
       "      <td>10</td>\n",
       "      <td>19</td>\n",
       "    </tr>\n",
       "    <tr>\n",
       "      <th>6</th>\n",
       "      <td>45038</td>\n",
       "      <td>1</td>\n",
       "      <td>719.950000</td>\n",
       "      <td>2879.80</td>\n",
       "      <td>989.94</td>\n",
       "      <td>379.96</td>\n",
       "      <td>307.343022</td>\n",
       "      <td>539.96</td>\n",
       "      <td>169.400000</td>\n",
       "      <td>261.0</td>\n",
       "      <td>125.10</td>\n",
       "      <td>62.922757</td>\n",
       "      <td>131.5</td>\n",
       "      <td>Отдельно стоящий без внешней зоны</td>\n",
       "      <td>4</td>\n",
       "      <td>19</td>\n",
       "      <td>18</td>\n",
       "    </tr>\n",
       "  </tbody>\n",
       "</table>\n",
       "</div>"
      ],
      "text/plain": [
       "   customer_id  churn  revenue_mean  revenue_sum  revenue_max  revenue_min  \\\n",
       "0        29891      1    203.494000      5087.35       439.98         1.00   \n",
       "1        30477      1    227.024000      5675.60       499.95        44.99   \n",
       "2        31426      1    391.399583      9393.59      1079.97         1.00   \n",
       "3        44491      1    128.725000       514.90       344.97        49.97   \n",
       "4        44939      1    554.943333      1664.83       604.93       504.96   \n",
       "5        45006      0    522.613333      1567.84       961.89       195.98   \n",
       "6        45038      1    719.950000      2879.80       989.94       379.96   \n",
       "\n",
       "   revenue_std  revenue_last  ownareaall_sqm_mean  ownareaall_sqm_max  \\\n",
       "0   123.170275        439.98           449.960000               463.0   \n",
       "1   124.933425         44.99           320.000000               320.0   \n",
       "2   334.849322         44.99           153.000000               153.0   \n",
       "3   144.471912         69.99           126.355000               139.0   \n",
       "4    49.985000        504.96           179.513333               280.0   \n",
       "5   395.184669        409.97           159.030000               246.2   \n",
       "6   307.343022        539.96           169.400000               261.0   \n",
       "\n",
       "   ownareaall_sqm_min  ownareaall_sqm_std  ownareaall_sqm_last  \\\n",
       "0              300.00           45.132656                463.0   \n",
       "1              320.00            0.000000                320.0   \n",
       "2              153.00            0.000000                153.0   \n",
       "3               88.42           25.290000                139.0   \n",
       "4              129.27           87.024006                280.0   \n",
       "5              105.20           76.183441                105.2   \n",
       "6              125.10           62.922757                131.5   \n",
       "\n",
       "                                format_name_last  startdatetime_count  \\\n",
       "0               Отдельно стоящий с внешней зоной                   25   \n",
       "1              Отдельно стоящий без внешней зоны                   25   \n",
       "2                            Фудкорт без туалета                   24   \n",
       "3  Отдельно стоящий без внешней зоны без туалета                    4   \n",
       "4               Отдельно стоящий с внешней зоной                    3   \n",
       "5                            Фудкорт без туалета                    3   \n",
       "6              Отдельно стоящий без внешней зоны                    4   \n",
       "\n",
       "   startdatetime_std  count_n  \n",
       "0                 15       34  \n",
       "1                 18       61  \n",
       "2                 14       86  \n",
       "3                 13       10  \n",
       "4                  7       25  \n",
       "5                 10       19  \n",
       "6                 19       18  "
      ]
     },
     "execution_count": 17,
     "metadata": {},
     "output_type": "execute_result"
    }
   ],
   "source": [
    "df_train.head(7)"
   ]
  },
  {
   "cell_type": "markdown",
   "id": "4eb721fe-f7c9-4f92-add1-252d5e99023b",
   "metadata": {},
   "source": [
    "## Custom Train-Test Split"
   ]
  },
  {
   "cell_type": "code",
   "execution_count": 18,
   "id": "112149c4-4115-4383-a874-2aea3fb41f2a",
   "metadata": {},
   "outputs": [],
   "source": [
    "def split_by_client(df, test_size=0.5):\n",
    "    \"\"\"\n",
    "        Метод разделения трейн теста, таким образом чтобы одинаковые клиенты не попадали в разные наборы\n",
    "        и при этом сохранилась стратификация по данным\n",
    "    \"\"\"\n",
    "    clients_target_1 = df[df[\"churn\"] == 1][\"customer_id\"].unique()\n",
    "    clients_t1_train, clients_t1_test = train_test_split(clients_target_1, test_size=test_size, shuffle=True, random_state=53)\n",
    "    \n",
    "    clients_target_0 = df[df[\"churn\"] == 0][\"customer_id\"].unique()\n",
    "    clients_t0_train, clients_t0_test = train_test_split(clients_target_0, test_size=test_size, shuffle=True, random_state=53)\n",
    "    \n",
    "    clients_t0_train = list(set(clients_t0_train) - set(clients_t1_test))\n",
    "    clients_t0_test = list(set(clients_t0_test) - set(clients_t1_train))\n",
    "    \n",
    "    train = pd.concat([df[(df['customer_id'].isin(clients_t0_train))], df[(df['customer_id'].isin(clients_t1_train))] ] )\n",
    "    test = pd.concat([df[(df['customer_id'].isin(clients_t0_test))], df[(df['customer_id'].isin(clients_t1_test))]])\n",
    "    \n",
    "    # train = train.drop_duplicates(subset=[\"report_date\", \"customer_id\"])\n",
    "    # test = test.drop_duplicates(subset=[\"report_date\", \"customer_id\"])\n",
    "    \n",
    "    return train, test"
   ]
  },
  {
   "cell_type": "code",
   "execution_count": 19,
   "id": "66aa4f2d-8a91-41b8-a8f7-4c4e78c3e06c",
   "metadata": {},
   "outputs": [
    {
     "data": {
      "text/plain": [
       "((449999, 17), (12129384, 9))"
      ]
     },
     "execution_count": 19,
     "metadata": {},
     "output_type": "execute_result"
    }
   ],
   "source": [
    "train_data, val_data = split_by_client(df_train, test_size=0.1)\n",
    "# val_data, test_data = split_by_client(val_data, test_size=0.5)\n",
    "\n",
    "# Проверяем, что нет лика данных по клиентам между трайн/вал/тест\n",
    "assert len(set(train_data[\"customer_id\"]) & set(val_data[\"customer_id\"])) == 0, \"Лик train val\"\n",
    "# assert len(set(train_data[\"customer_id\"]) & set(test_data[\"customer_id\"])) == 0, \"Лик train test\"\n",
    "# assert len(set(test_data[\"customer_id\"]) & set(val_data[\"customer_id\"])) == 0, \"Лик test val\"\n",
    "\n",
    "train_data.shape, test_data.shape  # , val_data.shape"
   ]
  },
  {
   "cell_type": "code",
   "execution_count": 20,
   "id": "a63db073-3937-439f-80c7-f71e43f2d133",
   "metadata": {},
   "outputs": [
    {
     "data": {
      "text/plain": [
       "(churn\n",
       " 1    323185\n",
       " 0    126814\n",
       " Name: count, dtype: Int64,\n",
       " churn\n",
       " 1    35910\n",
       " 0    14091\n",
       " Name: count, dtype: Int64)"
      ]
     },
     "execution_count": 20,
     "metadata": {},
     "output_type": "execute_result"
    }
   ],
   "source": [
    "# Проверяем дисбаланс разбиения train/val/test\n",
    "train_data[\"churn\"].value_counts(), val_data[\"churn\"].value_counts()  # , test_data[\"churn\"].value_counts()"
   ]
  },
  {
   "cell_type": "code",
   "execution_count": 21,
   "id": "5e6f7c24-0eb5-4785-914f-88614bb0f65b",
   "metadata": {},
   "outputs": [
    {
     "data": {
      "text/plain": [
       "customer_id              int64\n",
       "churn                    Int64\n",
       "revenue_mean           float64\n",
       "revenue_sum            float64\n",
       "revenue_max            float64\n",
       "revenue_min            float64\n",
       "revenue_std            float64\n",
       "revenue_last           float64\n",
       "ownareaall_sqm_mean    float64\n",
       "ownareaall_sqm_max     float64\n",
       "ownareaall_sqm_min     float64\n",
       "ownareaall_sqm_std     float64\n",
       "ownareaall_sqm_last    float64\n",
       "format_name_last        object\n",
       "startdatetime_count      int64\n",
       "startdatetime_std        int64\n",
       "count_n                  int64\n",
       "dtype: object"
      ]
     },
     "execution_count": 21,
     "metadata": {},
     "output_type": "execute_result"
    }
   ],
   "source": [
    "train_data.dtypes"
   ]
  },
  {
   "cell_type": "code",
   "execution_count": 22,
   "id": "db21ca25-befa-4ef4-be54-6bef9ca26909",
   "metadata": {},
   "outputs": [],
   "source": [
    "target_column = ['churn']\n",
    "cat_columns = ['format_name_last']\n",
    "id_column = ['customer_id']\n",
    "feature_columns = list(set(df_train.columns) - set(target_column + id_column))"
   ]
  },
  {
   "cell_type": "code",
   "execution_count": 23,
   "id": "bd03ae34-37c8-408b-b97c-a1bf33b7fe5d",
   "metadata": {},
   "outputs": [],
   "source": [
    "# train_data = df_train"
   ]
  },
  {
   "cell_type": "code",
   "execution_count": 24,
   "id": "143a45f4-dad6-456e-b92b-35f1cdd8424a",
   "metadata": {},
   "outputs": [
    {
     "data": {
      "text/plain": [
       "((449999, 15), (449999, 1), (50001, 15), (50001, 1))"
      ]
     },
     "execution_count": 24,
     "metadata": {},
     "output_type": "execute_result"
    }
   ],
   "source": [
    "X_train = train_data[feature_columns]\n",
    "y_train = train_data[target_column]\n",
    "\n",
    "X_val = val_data[feature_columns]\n",
    "y_val = val_data[target_column]\n",
    "\n",
    "# X_test = test_data[feature_columns]\n",
    "# y_test = test_data[target_column]\n",
    "\n",
    "X_train.shape, y_train.shape, X_val.shape, y_val.shape  # , y_test.shape, X_test.shape"
   ]
  },
  {
   "cell_type": "markdown",
   "id": "f96568c4-5ece-40b8-89b8-1c02e3ae0498",
   "metadata": {},
   "source": [
    "## Кастомные вспомогательные функции"
   ]
  },
  {
   "cell_type": "code",
   "execution_count": 25,
   "id": "87f79f2d-1118-4e5a-9b33-ebf987b34cc0",
   "metadata": {},
   "outputs": [],
   "source": [
    "# Вывод графика ROC-AUC\n",
    "def plot_roc_auc(y_true, y_pred):\n",
    "    fpr, tpr, _ = roc_curve(y_true=y_true, y_score=y_pred)\n",
    "    roc_auc = roc_auc_score(y_true=y_true, y_score=y_pred)\n",
    "\n",
    "    plt.figure(figsize=(10, 3))\n",
    "    plt.plot(fpr, tpr, color='darkorange',\n",
    "             lw=2, label='ROC curve (area = %0.4f)' % roc_auc, alpha=0.5)\n",
    "\n",
    "    plt.plot([0, 1], [0, 1], color='navy', lw=2, linestyle='--', alpha=0.5)\n",
    "\n",
    "    plt.xlim([0.0, 1.0])\n",
    "    plt.ylim([0.0, 1.05])\n",
    "    plt.xticks(fontsize=12)\n",
    "    plt.yticks(fontsize=12)\n",
    "    plt.grid(True)\n",
    "    plt.xlabel('False Positive Rate', fontsize=12)\n",
    "    plt.ylabel('True Positive Rate', fontsize=12)\n",
    "    plt.title('Receiver operating characteristic', fontsize=16)\n",
    "    plt.legend(loc=\"lower right\", fontsize=12)\n",
    "    plt.show()\n",
    "    return roc_auc\n"
   ]
  },
  {
   "cell_type": "code",
   "execution_count": 26,
   "id": "a2e89b7e-9c59-48a6-90a4-8637511b8ab2",
   "metadata": {},
   "outputs": [],
   "source": [
    "# Вывод графика feature importance\n",
    "def plot_feature_importance(importance, names, model_name=\"\", top_n=-1, skip_columns=[]):\n",
    "    \"\"\"\n",
    "        Функция вывода feature importance\n",
    "            :importance - массив важности фичей, полученный от модели\n",
    "            :names - массив названий фичей\n",
    "            :model_name - название модели\n",
    "            :top_n - кол-во выводимых фичей\n",
    "            :skip_columns: какие фичи пропустить, такое может понадобиться чтобы временно убрать \n",
    "                            из отображаемых горячие фичи, и изучить менее сильные\n",
    "            :return - fi_df - feature importance датафрейм\n",
    "    \"\"\"\n",
    "    feature_importance = np.array(importance)\n",
    "    feature_names = np.array(names)\n",
    "    \n",
    "    data={'feature_names':feature_names,'feature_importance':feature_importance}\n",
    "    fi_df = pd.DataFrame(data)\n",
    "    fi_df = fi_df[~fi_df['feature_names'].isin(skip_columns)]\n",
    "    fi_df.sort_values(by=['feature_importance'], ascending=False,inplace=True)\n",
    "    \n",
    "    plt.figure(figsize=(10,8))\n",
    "    sns.barplot(x=fi_df['feature_importance'][:top_n], y=fi_df['feature_names'][:top_n])\n",
    "    if top_n != -1:\n",
    "        plt.title(f\"{model_name} FEATURE IMPORTANCE (Top: {top_n})\")\n",
    "    else:\n",
    "        plt.title(f\"{model_name} FEATURE IMPORTANCE\")\n",
    "    plt.xlabel('FEATURE IMPORTANCE')\n",
    "    plt.ylabel('FEATURE NAMES')\n",
    "    return fi_df\n"
   ]
  },
  {
   "cell_type": "markdown",
   "id": "b2ed4126-2e30-4ec2-bd4e-a963b9467db3",
   "metadata": {},
   "source": [
    "# Baseline"
   ]
  },
  {
   "cell_type": "markdown",
   "id": "a5411047-2ceb-4db0-ba67-ad1fa94344a9",
   "metadata": {},
   "source": [
    "## OverSampling"
   ]
  },
  {
   "cell_type": "code",
   "execution_count": 27,
   "id": "7c98bdbc-e1e3-4727-acc6-a0bee715cc4c",
   "metadata": {},
   "outputs": [
    {
     "data": {
      "text/plain": [
       "((646370, 15), (646370, 1), (50001, 15), (50001, 1))"
      ]
     },
     "execution_count": 27,
     "metadata": {},
     "output_type": "execute_result"
    }
   ],
   "source": [
    "X_train, y_train = RandomOverSampler(random_state=53).fit_resample(X_train, y_train)\n",
    "X_train.shape, y_train.shape, X_val.shape, y_val.shape,  # y_test.shape, X_test.shape\n",
    "\n",
    "# По итогам анализа выявлено, что сэмплирование данных неплохо работает для данного датасета"
   ]
  },
  {
   "cell_type": "markdown",
   "id": "b461a898-2402-4077-a5fc-a617d1f83322",
   "metadata": {},
   "source": [
    "## CatBoost | Отток пользователей (Бинарная классификация)"
   ]
  },
  {
   "cell_type": "code",
   "execution_count": 28,
   "id": "6b102a77-0921-4f4a-a75a-4c1bf364d7ad",
   "metadata": {},
   "outputs": [
    {
     "data": {
      "text/plain": [
       "{0: 1.0, 1: 1.0}"
      ]
     },
     "execution_count": 28,
     "metadata": {},
     "output_type": "execute_result"
    }
   ],
   "source": [
    "# Расчет дисбалнса классов\n",
    "tdist = y_train['churn'].value_counts()\n",
    "class_weights = {0: tdist[1] / tdist[0], 1: tdist[0] / tdist[1]}\n",
    "\n",
    "class_weights"
   ]
  },
  {
   "cell_type": "code",
   "execution_count": 29,
   "id": "97e76204-3691-444e-89c3-71c18b801530",
   "metadata": {},
   "outputs": [
    {
     "data": {
      "application/vnd.jupyter.widget-view+json": {
       "model_id": "bf8772c155544beda7763aa4669201ea",
       "version_major": 2,
       "version_minor": 0
      },
      "text/plain": [
       "MetricVisualizer(layout=Layout(align_self='stretch', height='500px'))"
      ]
     },
     "metadata": {},
     "output_type": "display_data"
    },
    {
     "data": {
      "text/plain": [
       "<catboost.core.CatBoostClassifier at 0x1e06cde3110>"
      ]
     },
     "execution_count": 29,
     "metadata": {},
     "output_type": "execute_result"
    }
   ],
   "source": [
    "model = CatBoostClassifier(\n",
    "    eval_metric=\"F1\",\n",
    "    iterations=1000,\n",
    "    early_stopping_rounds=50, \n",
    "    class_weights=class_weights, \n",
    "    cat_features=cat_columns, \n",
    "    random_state=53\n",
    ")\n",
    "model.fit(\n",
    "    X_train, \n",
    "    y_train, \n",
    "    eval_set=(X_val, y_val), \n",
    "    plot=True, verbose=False\n",
    ")"
   ]
  },
  {
   "cell_type": "code",
   "execution_count": 31,
   "id": "fbe960ca-9402-4d99-8107-e32412300b29",
   "metadata": {},
   "outputs": [],
   "source": [
    "# # Для рассчета ROC-AUC на baseline моделе используем тестовые данные\n",
    "# y_pred_proba = model.predict_proba(X_test)[:, 1]\n",
    "# y_pred = model.predict(X_test)"
   ]
  },
  {
   "cell_type": "code",
   "execution_count": 32,
   "id": "c7fe0dc3-784b-457f-890a-8d054191e979",
   "metadata": {},
   "outputs": [],
   "source": [
    "# # Строим график ROC-AUC\n",
    "# roc_auc = plot_roc_auc(y_true=y_test, y_pred=y_pred_proba)\n",
    "# print(\"ROC-AUC Score: \", roc_auc)\n",
    "# print(classification_report(y_test, y_pred))\n",
    "# print(\"F1 Score: \", f1_score(y_test, y_pred))"
   ]
  },
  {
   "cell_type": "code",
   "execution_count": 33,
   "id": "d59e52a5-a8bb-474c-b0d3-976e53706b68",
   "metadata": {},
   "outputs": [],
   "source": [
    "# # Построение важности признаков\n",
    "# dfi = plot_feature_importance(model.get_feature_importance(), X_test.columns, top_n=30) "
   ]
  },
  {
   "cell_type": "markdown",
   "id": "e419a871-af60-482c-a447-555396713dad",
   "metadata": {},
   "source": [
    "## CatBoost Baseline | Регрессия времени до минимальной будущей транзакции"
   ]
  },
  {
   "cell_type": "markdown",
   "id": "869d6fa9-9df5-4d26-a68e-02cb561d4324",
   "metadata": {},
   "source": [
    "## Inference"
   ]
  },
  {
   "cell_type": "code",
   "execution_count": 34,
   "id": "446a4c69-e243-4ab0-9d5c-c6c7a8e32415",
   "metadata": {},
   "outputs": [],
   "source": [
    "# Считаем признаки через агрегации для тестовой выборки \n",
    "df_test = df_test.groupby(\"customer_id\", as_index=False).agg(\n",
    "    # churn=(\"buy_post\", \"last\"),\n",
    "    revenue_mean=(\"revenue\", \"mean\"),\n",
    "    revenue_sum=(\"revenue\", \"sum\"),\n",
    "    revenue_max=(\"revenue\", \"max\"),\n",
    "    revenue_min=(\"revenue\", \"min\"),\n",
    "    revenue_std=(\"revenue\", \"std\"),\n",
    "    revenue_last=(\"revenue\", \"last\"),\n",
    "    ownareaall_sqm_mean=(\"ownareaall_sqm\", \"mean\"),\n",
    "    ownareaall_sqm_max=(\"ownareaall_sqm\", \"max\"),\n",
    "    ownareaall_sqm_min=(\"ownareaall_sqm\", \"min\"),\n",
    "    ownareaall_sqm_std=(\"ownareaall_sqm\", \"std\"),\n",
    "    ownareaall_sqm_last=(\"ownareaall_sqm\", \"last\"),\n",
    "    format_name_last=(\"format_name\", \"last\"),\n",
    "    startdatetime_count=(\"startdatetime\", \"count\"),\n",
    "    startdatetime_std=(\"startdatetime\", \"std\")\n",
    ")\n",
    "df_test['startdatetime_std'] = df_test['startdatetime_std'].dt.days\n",
    "df_test = df_test.merge(test_customer_counts, how='left', on='customer_id')"
   ]
  },
  {
   "cell_type": "code",
   "execution_count": 35,
   "id": "f57480c3-8b1d-4ee5-841b-2a23b2d003b2",
   "metadata": {},
   "outputs": [],
   "source": [
    "X_test_final = df_test[feature_columns]\n",
    "\n",
    "assert X_test_final.shape[1] == X_train.shape[1], \"Не совпадают размерности!\""
   ]
  },
  {
   "cell_type": "code",
   "execution_count": 36,
   "id": "0c1c17a7-817b-4eb7-9809-77f1ebbcf07d",
   "metadata": {},
   "outputs": [],
   "source": [
    "submit['buy_post'] = model.predict(X_test_final)"
   ]
  },
  {
   "cell_type": "code",
   "execution_count": 37,
   "id": "77b6cefa-71a6-4f5c-9b67-132b22c6277b",
   "metadata": {},
   "outputs": [
    {
     "data": {
      "text/plain": [
       "buy_post\n",
       "0    59247\n",
       "1    53087\n",
       "Name: count, dtype: int64"
      ]
     },
     "execution_count": 37,
     "metadata": {},
     "output_type": "execute_result"
    }
   ],
   "source": [
    "submit['buy_post'].value_counts()"
   ]
  },
  {
   "cell_type": "code",
   "execution_count": 38,
   "id": "8e23e44e-b5ea-4c2c-bfa5-50ed21081c89",
   "metadata": {},
   "outputs": [],
   "source": [
    "submit.to_csv(\"Baseline_GibData.csv\", sep=';', index=False)"
   ]
  },
  {
   "cell_type": "code",
   "execution_count": null,
   "id": "d473b18f-a6d2-4d86-82e1-a7935a677809",
   "metadata": {},
   "outputs": [],
   "source": []
  }
 ],
 "metadata": {
  "kernelspec": {
   "display_name": "Python 3 (ipykernel)",
   "language": "python",
   "name": "python3"
  },
  "language_info": {
   "codemirror_mode": {
    "name": "ipython",
    "version": 3
   },
   "file_extension": ".py",
   "mimetype": "text/x-python",
   "name": "python",
   "nbconvert_exporter": "python",
   "pygments_lexer": "ipython3",
   "version": "3.11.3"
  }
 },
 "nbformat": 4,
 "nbformat_minor": 5
}
