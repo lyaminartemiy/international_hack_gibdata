{
 "cells": [
  {
   "cell_type": "markdown",
   "id": "0ad8c9a8-044f-4680-aa25-d968902aef8e",
   "metadata": {},
   "source": [
    "## requirements.txt"
   ]
  },
  {
   "cell_type": "code",
   "execution_count": 1,
   "id": "7b768526-e1a8-4809-a8c3-9325deeefc91",
   "metadata": {},
   "outputs": [],
   "source": [
    "!pip freeze > requirements.txt\n",
    "# !pip install -r requirements.txt"
   ]
  },
  {
   "cell_type": "markdown",
   "id": "4b90dabf-cd6c-4562-8adb-5f68392cbdef",
   "metadata": {},
   "source": [
    "## Загрузка библиотек и зависимостей"
   ]
  },
  {
   "cell_type": "code",
   "execution_count": 1,
   "id": "cd6b34a9-5e21-4470-8b45-c30004983728",
   "metadata": {},
   "outputs": [],
   "source": [
    "import time\n",
    "import pandas as pd\n",
    "import numpy as np\n",
    "\n",
    "from tqdm import tqdm, trange\n",
    "from matplotlib import pyplot as plt\n",
    "import seaborn as sns\n",
    "%matplotlib inline\n",
    "\n",
    "import warnings\n",
    "warnings.filterwarnings('ignore')"
   ]
  },
  {
   "cell_type": "code",
   "execution_count": 2,
   "id": "1c9eeb15-c3b9-4ede-a4f0-65755d7e7687",
   "metadata": {},
   "outputs": [],
   "source": [
    "from sklearn.neural_network import MLPClassifier\n",
    "from sklearn.linear_model import LogisticRegression\n",
    "from sklearn.ensemble import ExtraTreesClassifier, RandomForestClassifier, AdaBoostClassifier, GradientBoostingClassifier\n",
    "from sklearn.tree import DecisionTreeClassifier\n",
    "from sklearn.naive_bayes import GaussianNB\n",
    "from sklearn.neighbors import KNeighborsClassifier\n",
    "from sklearn.svm import SVC\n",
    "from xgboost import XGBClassifier\n",
    "from lightgbm import LGBMClassifier\n",
    "from catboost import CatBoostClassifier\n",
    "\n",
    "from imblearn.ensemble import BalancedBaggingClassifier, EasyEnsembleClassifier\n",
    "from imblearn.ensemble import RUSBoostClassifier, BalancedRandomForestClassifier\n",
    "\n",
    "from sklearn.metrics import roc_auc_score, roc_curve, f1_score, classification_report, precision_score, recall_score, f1_score\n",
    "from sklearn.model_selection import train_test_split\n",
    "from sklearn.utils.class_weight import compute_class_weight\n",
    "from sklearn.preprocessing import LabelEncoder\n",
    "\n",
    "import tsfresh as tsf\n",
    "from tsfresh import extract_features\n",
    "from tsfresh.utilities.dataframe_functions import roll_time_series"
   ]
  },
  {
   "cell_type": "code",
   "execution_count": 3,
   "id": "39fa56ee-987b-4b25-a678-30ab599e845d",
   "metadata": {},
   "outputs": [],
   "source": [
    "# Imbalanced Dependencies\n",
    "from imblearn.under_sampling import TomekLinks\n",
    "from imblearn.over_sampling import RandomOverSampler, ADASYN, BorderlineSMOTE\n",
    "from imblearn.ensemble import BalancedBaggingClassifier, EasyEnsembleClassifier\n",
    "from imblearn.ensemble import RUSBoostClassifier, BalancedRandomForestClassifier\n",
    "\n",
    "# Under/Over Sampling\n",
    "from imblearn.under_sampling import TomekLinks\n",
    "from imblearn.over_sampling import RandomOverSampler, ADASYN, BorderlineSMOTE"
   ]
  },
  {
   "cell_type": "markdown",
   "id": "de20530c-6e38-4eb5-b526-92d5827f630e",
   "metadata": {},
   "source": [
    "## Загрузка данных"
   ]
  },
  {
   "cell_type": "code",
   "execution_count": 4,
   "id": "f22b014d-2cd2-4038-ba06-0ff4254cee8b",
   "metadata": {},
   "outputs": [
    {
     "data": {
      "text/plain": [
       "((12129384, 9), (2498034, 7))"
      ]
     },
     "execution_count": 4,
     "metadata": {},
     "output_type": "execute_result"
    }
   ],
   "source": [
    "# Загружаем обучающие и тестовые данные. Также сабмит для отправки\n",
    "df_train = pd.read_parquet(\"DCS/Train/hackaton2023_train.gzip\")\n",
    "df_test = pd.read_parquet(\"DCS/Test/hackaton2023_test.gzip\")\n",
    "submit = pd.read_csv(\"DCS/submission.csv\", sep=';')\n",
    "\n",
    "df_train.shape, df_test.shape"
   ]
  },
  {
   "cell_type": "code",
   "execution_count": 5,
   "id": "1103b63e-7cfe-48a0-a87e-554aefbeb207",
   "metadata": {},
   "outputs": [],
   "source": [
    "# Загружаем данные из локальной базы данных по различным запросам из файла ''\n",
    "# db_features = pd.read_parquet(\"DCS/Features/first_features.parquet\")"
   ]
  },
  {
   "cell_type": "markdown",
   "id": "1d838608-d3af-470b-8f24-d864b00b6e7a",
   "metadata": {},
   "source": [
    "|     Название                |     Описание                                                                             |     Тип   переменной    |     Комментарий                |   |\n",
    "|-----------------------------|------------------------------------------------------------------------------------------|-------------------------|--------------------------------|---|\n",
    "|     customer_id             |     Идентификатор   клиента                                                              |     int                 |                                |   |\n",
    "|     group_name              |     Группа:   train (обучение) – test(контроль)                                          |                         |                                |   |\n",
    "|     revenue                 |     Выручка   от продажи блюда в заказе                                                  |     float               |                                |   |\n",
    "|     startdatetime           |     Дата   и время продажи                                                               |     datetime            |                                |   |\n",
    "|     dish_name               |     Название   блюда                                                                     |     string              |                                |   |\n",
    "|     ownareaall_sqm          |     Площадь   ресторана                                                                  |     float               |                                |   |\n",
    "|     format_name             |     Формат   ресторана                                                                   |                         |                                |   |\n",
    "|     buy_post                |     Таргет   1: флаг оттока     (0 – отток, 1 – не отток)                                |     bool                |     Только   в train данных    |   |\n",
    "|     date_diff_post          |     Таргет   2: количество дней между последней покупкой в прошлом и первой в будущем    |     int                 |     Только   в train данных    |   |"
   ]
  },
  {
   "cell_type": "code",
   "execution_count": 6,
   "id": "cd5dbe26-9e94-4739-8c1b-0ccf8d593070",
   "metadata": {},
   "outputs": [
    {
     "data": {
      "text/html": [
       "<div>\n",
       "<style scoped>\n",
       "    .dataframe tbody tr th:only-of-type {\n",
       "        vertical-align: middle;\n",
       "    }\n",
       "\n",
       "    .dataframe tbody tr th {\n",
       "        vertical-align: top;\n",
       "    }\n",
       "\n",
       "    .dataframe thead th {\n",
       "        text-align: right;\n",
       "    }\n",
       "</style>\n",
       "<table border=\"1\" class=\"dataframe\">\n",
       "  <thead>\n",
       "    <tr style=\"text-align: right;\">\n",
       "      <th></th>\n",
       "      <th>customer_id</th>\n",
       "      <th>date_diff_post</th>\n",
       "      <th>buy_post</th>\n",
       "      <th>group_name</th>\n",
       "      <th>revenue</th>\n",
       "      <th>startdatetime</th>\n",
       "      <th>dish_name</th>\n",
       "      <th>ownareaall_sqm</th>\n",
       "      <th>format_name</th>\n",
       "    </tr>\n",
       "  </thead>\n",
       "  <tbody>\n",
       "    <tr>\n",
       "      <th>0</th>\n",
       "      <td>29891</td>\n",
       "      <td>9.0</td>\n",
       "      <td>1</td>\n",
       "      <td>train</td>\n",
       "      <td>69.99</td>\n",
       "      <td>2022-12-05 12:03:58</td>\n",
       "      <td>Кинг Фри станд</td>\n",
       "      <td>300.0</td>\n",
       "      <td>Отдельно стоящий без внешней зоны</td>\n",
       "    </tr>\n",
       "    <tr>\n",
       "      <th>1</th>\n",
       "      <td>29891</td>\n",
       "      <td>9.0</td>\n",
       "      <td>1</td>\n",
       "      <td>train</td>\n",
       "      <td>190.00</td>\n",
       "      <td>2022-12-05 12:03:58</td>\n",
       "      <td>Чикен Тар-Тар</td>\n",
       "      <td>300.0</td>\n",
       "      <td>Отдельно стоящий без внешней зоны</td>\n",
       "    </tr>\n",
       "    <tr>\n",
       "      <th>2</th>\n",
       "      <td>29891</td>\n",
       "      <td>9.0</td>\n",
       "      <td>1</td>\n",
       "      <td>train</td>\n",
       "      <td>9.99</td>\n",
       "      <td>2022-12-05 12:03:58</td>\n",
       "      <td>Соус Сырный</td>\n",
       "      <td>300.0</td>\n",
       "      <td>Отдельно стоящий без внешней зоны</td>\n",
       "    </tr>\n",
       "    <tr>\n",
       "      <th>3</th>\n",
       "      <td>29891</td>\n",
       "      <td>9.0</td>\n",
       "      <td>1</td>\n",
       "      <td>train</td>\n",
       "      <td>119.99</td>\n",
       "      <td>2022-12-05 12:03:58</td>\n",
       "      <td>Энергет.нап. Адреналин Раш</td>\n",
       "      <td>300.0</td>\n",
       "      <td>Отдельно стоящий без внешней зоны</td>\n",
       "    </tr>\n",
       "    <tr>\n",
       "      <th>4</th>\n",
       "      <td>29891</td>\n",
       "      <td>9.0</td>\n",
       "      <td>1</td>\n",
       "      <td>train</td>\n",
       "      <td>119.99</td>\n",
       "      <td>2022-12-05 14:28:35</td>\n",
       "      <td>Латте (СТАНД.)</td>\n",
       "      <td>300.0</td>\n",
       "      <td>Отдельно стоящий без внешней зоны</td>\n",
       "    </tr>\n",
       "    <tr>\n",
       "      <th>5</th>\n",
       "      <td>29891</td>\n",
       "      <td>9.0</td>\n",
       "      <td>1</td>\n",
       "      <td>train</td>\n",
       "      <td>60.00</td>\n",
       "      <td>2022-12-15 00:37:19</td>\n",
       "      <td>Чизбургер</td>\n",
       "      <td>463.0</td>\n",
       "      <td>Отдельно стоящий с внешней зоной</td>\n",
       "    </tr>\n",
       "    <tr>\n",
       "      <th>6</th>\n",
       "      <td>29891</td>\n",
       "      <td>9.0</td>\n",
       "      <td>1</td>\n",
       "      <td>train</td>\n",
       "      <td>209.99</td>\n",
       "      <td>2022-12-15 00:37:19</td>\n",
       "      <td>Воппер Ролл</td>\n",
       "      <td>463.0</td>\n",
       "      <td>Отдельно стоящий с внешней зоной</td>\n",
       "    </tr>\n",
       "  </tbody>\n",
       "</table>\n",
       "</div>"
      ],
      "text/plain": [
       "   customer_id  date_diff_post  buy_post group_name  revenue  \\\n",
       "0        29891             9.0         1      train    69.99   \n",
       "1        29891             9.0         1      train   190.00   \n",
       "2        29891             9.0         1      train     9.99   \n",
       "3        29891             9.0         1      train   119.99   \n",
       "4        29891             9.0         1      train   119.99   \n",
       "5        29891             9.0         1      train    60.00   \n",
       "6        29891             9.0         1      train   209.99   \n",
       "\n",
       "        startdatetime                   dish_name  ownareaall_sqm  \\\n",
       "0 2022-12-05 12:03:58              Кинг Фри станд           300.0   \n",
       "1 2022-12-05 12:03:58               Чикен Тар-Тар           300.0   \n",
       "2 2022-12-05 12:03:58                 Соус Сырный           300.0   \n",
       "3 2022-12-05 12:03:58  Энергет.нап. Адреналин Раш           300.0   \n",
       "4 2022-12-05 14:28:35              Латте (СТАНД.)           300.0   \n",
       "5 2022-12-15 00:37:19                   Чизбургер           463.0   \n",
       "6 2022-12-15 00:37:19                 Воппер Ролл           463.0   \n",
       "\n",
       "                         format_name  \n",
       "0  Отдельно стоящий без внешней зоны  \n",
       "1  Отдельно стоящий без внешней зоны  \n",
       "2  Отдельно стоящий без внешней зоны  \n",
       "3  Отдельно стоящий без внешней зоны  \n",
       "4  Отдельно стоящий без внешней зоны  \n",
       "5   Отдельно стоящий с внешней зоной  \n",
       "6   Отдельно стоящий с внешней зоной  "
      ]
     },
     "execution_count": 6,
     "metadata": {},
     "output_type": "execute_result"
    }
   ],
   "source": [
    "df_train.head(7)"
   ]
  },
  {
   "cell_type": "markdown",
   "id": "0754c4fe-ab00-4534-b76f-32974db10908",
   "metadata": {},
   "source": [
    "## EDA"
   ]
  },
  {
   "cell_type": "code",
   "execution_count": 7,
   "id": "c0b235a2-f84c-4b24-abdb-1f94224e0c6f",
   "metadata": {},
   "outputs": [
    {
     "data": {
      "text/html": [
       "<div>\n",
       "<style scoped>\n",
       "    .dataframe tbody tr th:only-of-type {\n",
       "        vertical-align: middle;\n",
       "    }\n",
       "\n",
       "    .dataframe tbody tr th {\n",
       "        vertical-align: top;\n",
       "    }\n",
       "\n",
       "    .dataframe thead th {\n",
       "        text-align: right;\n",
       "    }\n",
       "</style>\n",
       "<table border=\"1\" class=\"dataframe\">\n",
       "  <thead>\n",
       "    <tr style=\"text-align: right;\">\n",
       "      <th></th>\n",
       "      <th>count</th>\n",
       "    </tr>\n",
       "    <tr>\n",
       "      <th>buy_post</th>\n",
       "      <th></th>\n",
       "    </tr>\n",
       "  </thead>\n",
       "  <tbody>\n",
       "    <tr>\n",
       "      <th>1</th>\n",
       "      <td>9660867</td>\n",
       "    </tr>\n",
       "    <tr>\n",
       "      <th>0</th>\n",
       "      <td>2468517</td>\n",
       "    </tr>\n",
       "  </tbody>\n",
       "</table>\n",
       "</div>"
      ],
      "text/plain": [
       "            count\n",
       "buy_post         \n",
       "1         9660867\n",
       "0         2468517"
      ]
     },
     "execution_count": 7,
     "metadata": {},
     "output_type": "execute_result"
    }
   ],
   "source": [
    "# Распределение таргета\n",
    "target_d = pd.DataFrame(df_train['buy_post'].value_counts())\n",
    "target_d"
   ]
  },
  {
   "cell_type": "code",
   "execution_count": 8,
   "id": "5d199268-9467-4514-a3bf-e3984c650fe6",
   "metadata": {},
   "outputs": [],
   "source": [
    "# Проверка на новых пользователей в тестовой выборке\n",
    "train_customers = set(df_train['customer_id'].unique().tolist())\n",
    "test_customers = set(df_test['customer_id'].unique().tolist())\n",
    "\n",
    "assert len(train_customers - test_customers) == len(train_customers), \"Клиенты в трейне не повторяются!\"\n",
    "assert len(test_customers - train_customers) == len(test_customers), \"Клиенты в тесте не повторяются!\"\n",
    "\n",
    "# Делаем вывод, что для валидации нужно брать клиентов не из обучающей выборке"
   ]
  },
  {
   "cell_type": "markdown",
   "id": "462997a5-0b0b-4d78-a917-52045eaba724",
   "metadata": {},
   "source": [
    "## Обработка данных"
   ]
  },
  {
   "cell_type": "code",
   "execution_count": 9,
   "id": "d62065c0-267c-4b53-8ce5-d59daeaaaaf6",
   "metadata": {},
   "outputs": [],
   "source": [
    "# Объединяем данные\n",
    "data = pd.concat([df_train, df_test])"
   ]
  },
  {
   "cell_type": "code",
   "execution_count": 10,
   "id": "fd59d235-1ecc-4f45-9b56-6d764daad082",
   "metadata": {},
   "outputs": [],
   "source": [
    "# Сортируем по ID клиента и по дате транзакции\n",
    "data = data.sort_values(by=['customer_id', 'startdatetime'], ascending=True)"
   ]
  },
  {
   "cell_type": "code",
   "execution_count": 11,
   "id": "04dac494-64e2-43d0-bc33-231921c36825",
   "metadata": {},
   "outputs": [],
   "source": [
    "# # Выделяем признаки из времени\n",
    "# data['day'] = data['startdatetime'].dt.day\n",
    "# data['day_of_week'] = data['startdatetime'].dt.day_of_week\n",
    "# data['weekday'] = data['startdatetime'].dt.weekday\n",
    "# data['hour'] = data['startdatetime'].dt.hour"
   ]
  },
  {
   "cell_type": "code",
   "execution_count": 12,
   "id": "c08069bc-25f0-424e-805b-b31518a17422",
   "metadata": {},
   "outputs": [],
   "source": [
    "train_data = data[data['group_name'] == 'train']\n",
    "test_data = data[data['group_name'] == 'test']"
   ]
  },
  {
   "cell_type": "code",
   "execution_count": 13,
   "id": "789a6963-c366-458d-90e4-db46e5fe248e",
   "metadata": {},
   "outputs": [],
   "source": [
    "# Считаем средние категории для каждого категориального признака\n",
    "fn_churn_stats = train_data.groupby('format_name').agg(\n",
    "    churn_mean=(\"buy_post\", \"mean\"),\n",
    "    churn_std=(\"buy_post\", \"std\"),\n",
    "    churn_min=(\"buy_post\", \"min\"),\n",
    "    churn_max=(\"buy_post\", \"max\")\n",
    ")\n",
    "\n",
    "dn_churn_stats = train_data.groupby('dish_name').agg(\n",
    "    churn_mean=(\"buy_post\", \"mean\"),\n",
    "    churn_std=(\"buy_post\", \"std\"),\n",
    "    churn_min=(\"buy_post\", \"min\"),\n",
    "    churn_max=(\"buy_post\", \"max\")\n",
    ")"
   ]
  },
  {
   "cell_type": "code",
   "execution_count": 14,
   "id": "64a13782-44f2-4544-9ce7-6301d2e13f4b",
   "metadata": {},
   "outputs": [],
   "source": [
    "# Данные о количестве строк по пользователям\n",
    "train_customer_counts = train_data.groupby('customer_id', as_index=False).agg({'group_name': 'count'})\n",
    "train_customer_counts['count_n'] = train_customer_counts['group_name']\n",
    "train_customer_counts = train_customer_counts.drop(columns=['group_name'])\n",
    "\n",
    "# Данные о количестве строк по пользователям\n",
    "test_customer_counts = test_data.groupby('customer_id', as_index=False).agg({'group_name': 'count'})\n",
    "test_customer_counts['count_n'] = test_customer_counts['group_name']\n",
    "test_customer_counts = test_customer_counts.drop(columns=['group_name'])"
   ]
  },
  {
   "cell_type": "markdown",
   "id": "efa51ea9-efb5-4bc5-8996-edf518709bfc",
   "metadata": {},
   "source": [
    "```\n",
    "# --- Сохранение данных в локальную базу данных\n",
    "# Label-кодирование строковых данных и сохранение справочников id-наименование\n",
    "\n",
    "encoder = LabelEncoder()\n",
    "data['encode_format_name'] = encoder.fit_transform(data['format_name'])\n",
    "data['encode_dish_name'] = encoder.fit_transform(data['dish_name'])\n",
    "\n",
    "data['is_test'] = data['group_name'].map({'train': 0, 'test': 1})\n",
    "data = data.drop(columns=['group_name'])\n",
    "\n",
    "format_name = data[['encode_format_name', 'format_name']].drop_duplicates().to_parquet(\"format_name.parquet\", index=False)\n",
    "dish_name = data[['encode_dish_name', 'dish_name']].drop_duplicates().to_parquet(\"dish_name.parquet\", index=False)\n",
    "data = data.drop(columns=['format_name', 'dish_name'])\n",
    "\n",
    "data.to_parquet(\"data.parquet\", index=False)"
   ]
  },
  {
   "cell_type": "code",
   "execution_count": 15,
   "id": "ad065700-4135-4cb7-8df4-e7fc6ef9b5e0",
   "metadata": {},
   "outputs": [],
   "source": [
    "# --- Собираем строки в заказы\n",
    "\n",
    "# Группируем по колонкам и генерируем минимальные фичи\n",
    "data = data.groupby([\"customer_id\", \"startdatetime\"], as_index=False).agg(\n",
    "    churn=(\"buy_post\", \"last\"),\n",
    "    date_diff_post=(\"date_diff_post\", \"last\"),\n",
    "    buy_post=(\"buy_post\", \"last\"),\n",
    "    group_name=(\"group_name\", \"last\"),\n",
    "    revenue=(\"revenue\", \"sum\"),\n",
    "    ownareaall_sqm=(\"ownareaall_sqm\", \"last\"),\n",
    "    format_name=(\"format_name\", \"last\"),\n",
    "    # day_mean=(\"day\", \"last\"),\n",
    "    # day_of_week=(\"day_of_week\", \"last\"),\n",
    ")"
   ]
  },
  {
   "cell_type": "code",
   "execution_count": 16,
   "id": "2f66ae0d-b810-4dfe-b270-1f119a836a9c",
   "metadata": {},
   "outputs": [],
   "source": [
    "# Приводим таргеты к целочисленным форматам\n",
    "data['buy_post'] = data['buy_post'].astype('Int64')\n",
    "data['date_diff_post'] = data['date_diff_post'].astype('Int64')"
   ]
  },
  {
   "cell_type": "code",
   "execution_count": 17,
   "id": "eff9746e-2df2-484f-9419-9898060641f9",
   "metadata": {},
   "outputs": [],
   "source": [
    "# Добавляем информацию по таргетам\n",
    "data = data.merge(fn_churn_stats, how='left', on='format_name')"
   ]
  },
  {
   "cell_type": "code",
   "execution_count": 30,
   "id": "05b0bf7e-0b16-4a25-8a3c-4747b52706f4",
   "metadata": {},
   "outputs": [],
   "source": [
    "# Разделяем данные на обучающие и тестовые\n",
    "df_train = data[data['group_name'] == \"train\"]\n",
    "df_test = data[data['group_name'] == \"test\"]"
   ]
  },
  {
   "cell_type": "code",
   "execution_count": 19,
   "id": "6e976572-42c4-40d6-a2f1-75aa7ee93478",
   "metadata": {},
   "outputs": [],
   "source": [
    "# feat1 = pd.read_csv(\"DCS/Features/lag_part1_nov_24_2023.csv\")\n",
    "# feat2 = pd.read_csv(\"DCS/Features/lag_part2_nov_24_2023.csv\")\n",
    "# feat = pd.concat([feat1, feat2])"
   ]
  },
  {
   "cell_type": "code",
   "execution_count": 20,
   "id": "99660180-3a42-4f4a-8564-e9cd4eaaf8ed",
   "metadata": {},
   "outputs": [],
   "source": [
    "# feat1 = pd.read_csv(\"DCS/Features/roll_revenue_first.csv\")\n",
    "# feat2 = pd.read_csv(\"DCS/Features/roll_revenue_second.csv\")\n",
    "# feat = pd.concat([feat1, feat2])"
   ]
  },
  {
   "cell_type": "code",
   "execution_count": 22,
   "id": "3ce101e4-4fd4-4bcf-b4ec-929709839778",
   "metadata": {},
   "outputs": [],
   "source": [
    "feat1 = pd.read_csv(\"DCS/Features/lovely_items.csv\", encoding='windows=1251')\n",
    "feat2 = pd.read_csv(\"DCS/Features/lovely_items_second.csv\", encoding='windows=1251')\n",
    "feat = pd.concat([feat1, feat2])"
   ]
  },
  {
   "cell_type": "code",
   "execution_count": 24,
   "id": "7e260f89-cd73-41b6-87d9-1226bb980791",
   "metadata": {},
   "outputs": [
    {
     "data": {
      "text/plain": [
       "customer_id           0\n",
       "lovely_dish_name      0\n",
       "amnt_top_dishes       0\n",
       "lovely_format_name    0\n",
       "dtype: int64"
      ]
     },
     "execution_count": 24,
     "metadata": {},
     "output_type": "execute_result"
    }
   ],
   "source": [
    "feat.isna().sum()"
   ]
  },
  {
   "cell_type": "code",
   "execution_count": 25,
   "id": "7f869b71-4808-48d6-abb9-ae8ca85f42e5",
   "metadata": {},
   "outputs": [],
   "source": [
    "# dish_name1 = pd.read_csv(\"DCS/Features/dish_name_often_nov_24_2023.csv\", encoding='windows-1251')\n",
    "# dish_name2 = pd.read_csv(\"DCS/Features/dish_name_often1_nov_24_2023.csv\", encoding='windows-1251')\n",
    "# dish_name = pd.concat([dish_name1, dish_name1])"
   ]
  },
  {
   "cell_type": "code",
   "execution_count": 31,
   "id": "40fb1564-53ed-4eec-b36c-22354caf26ea",
   "metadata": {},
   "outputs": [
    {
     "data": {
      "text/plain": [
       "(500000, 32)"
      ]
     },
     "execution_count": 31,
     "metadata": {},
     "output_type": "execute_result"
    }
   ],
   "source": [
    "# --- Baseline Features\n",
    "\n",
    "# Считаем признаки через агрегации \n",
    "df_train = df_train.groupby(\"customer_id\", as_index=False).agg(\n",
    "    # Churn\n",
    "    churn=(\"buy_post\", \"last\"),\n",
    "    \n",
    "    # Revenue\n",
    "    revenue_mean=(\"revenue\", \"mean\"),\n",
    "    revenue_sum=(\"revenue\", \"sum\"),\n",
    "    revenue_max=(\"revenue\", \"max\"),\n",
    "    revenue_min=(\"revenue\", \"min\"),\n",
    "    revenue_std=(\"revenue\", \"std\"),\n",
    "    revenue_last=(\"revenue\", \"last\"),\n",
    "\n",
    "    # Area\n",
    "    ownareaall_sqm_mean=(\"ownareaall_sqm\", \"mean\"),\n",
    "    ownareaall_sqm_max=(\"ownareaall_sqm\", \"max\"),\n",
    "    ownareaall_sqm_min=(\"ownareaall_sqm\", \"min\"),\n",
    "    ownareaall_sqm_std=(\"ownareaall_sqm\", \"std\"),\n",
    "    ownareaall_sqm_last=(\"ownareaall_sqm\", \"last\"),\n",
    "\n",
    "    # Format name\n",
    "    format_name_last=(\"format_name\", \"last\"),\n",
    "\n",
    "    # StartDateTime\n",
    "    startdatetime_count=(\"startdatetime\", \"count\"),\n",
    "    startdatetime_last=(\"startdatetime\", \"last\"),\n",
    "    startdatetime_std=(\"startdatetime\", \"std\"),\n",
    "\n",
    "    # Target Encoding\n",
    "    churn_mean_mean=(\"churn_mean\", \"mean\"),\n",
    "    churn_mean_std=(\"churn_mean\", \"std\"),\n",
    "    churn_mean_min=(\"churn_mean\", \"min\"),\n",
    "    churn_mean_max=(\"churn_mean\", \"max\"),\n",
    "\n",
    "    churn_std_mean=(\"churn_std\", \"mean\"),\n",
    "    churn_std_std=(\"churn_std\", \"std\"),\n",
    "    churn_std_min=(\"churn_std\", \"min\"),\n",
    "    churn_std_max=(\"churn_std\", \"max\"),\n",
    ")\n",
    "df_train['startdatetime_std'] = df_train['startdatetime_std'].dt.days\n",
    "df_train['startdatetime_last_day'] = df_train['startdatetime_last'].dt.day\n",
    "df_train['startdatetime_last_hour'] = df_train['startdatetime_last'].dt.hour\n",
    "df_train['startdatetime_last_day_of_week'] = df_train['startdatetime_last'].dt.day_of_week\n",
    "df_train['startdatetime_last_hour'] = df_train['startdatetime_last'].dt.hour\n",
    "df_train['startdatetime_last_hour'] = df_train['startdatetime_last'].dt.hour\n",
    "\n",
    "df_train = df_train.merge(train_customer_counts, how='left', on='customer_id')\n",
    "df_train = df_train.merge(feat, how='left', on='customer_id')\n",
    "# df_train = df_train.merge(dish_name, how='left', on='customer_id')\n",
    "df_train.shape"
   ]
  },
  {
   "cell_type": "code",
   "execution_count": 48,
   "id": "27746ee2-1e62-4cab-b84f-ed1d6d6dced9",
   "metadata": {},
   "outputs": [],
   "source": [
    "df_train = df_train.drop(columns=['startdatetime_last'])"
   ]
  },
  {
   "cell_type": "markdown",
   "id": "4eb721fe-f7c9-4f92-add1-252d5e99023b",
   "metadata": {},
   "source": [
    "## Custom Train-Test Split"
   ]
  },
  {
   "cell_type": "code",
   "execution_count": 49,
   "id": "112149c4-4115-4383-a874-2aea3fb41f2a",
   "metadata": {},
   "outputs": [],
   "source": [
    "def split_by_client(df, test_size=0.5):\n",
    "    \"\"\"\n",
    "        Метод разделения трейн теста, таким образом чтобы одинаковые клиенты не попадали в разные наборы\n",
    "        и при этом сохранилась стратификация по данным\n",
    "    \"\"\"\n",
    "    clients_target_1 = df[df[\"churn\"] == 1][\"customer_id\"].unique()\n",
    "    clients_t1_train, clients_t1_test = train_test_split(clients_target_1, test_size=test_size, shuffle=True, random_state=53)\n",
    "    \n",
    "    clients_target_0 = df[df[\"churn\"] == 0][\"customer_id\"].unique()\n",
    "    clients_t0_train, clients_t0_test = train_test_split(clients_target_0, test_size=test_size, shuffle=True, random_state=53)\n",
    "    \n",
    "    clients_t0_train = list(set(clients_t0_train) - set(clients_t1_test))\n",
    "    clients_t0_test = list(set(clients_t0_test) - set(clients_t1_train))\n",
    "    \n",
    "    train = pd.concat([df[(df['customer_id'].isin(clients_t0_train))], df[(df['customer_id'].isin(clients_t1_train))] ] )\n",
    "    test = pd.concat([df[(df['customer_id'].isin(clients_t0_test))], df[(df['customer_id'].isin(clients_t1_test))]])\n",
    "    \n",
    "    return train, test\n"
   ]
  },
  {
   "cell_type": "code",
   "execution_count": 50,
   "id": "66aa4f2d-8a91-41b8-a8f7-4c4e78c3e06c",
   "metadata": {},
   "outputs": [
    {
     "data": {
      "text/plain": [
       "((400000, 31), (50001, 31), (49999, 31))"
      ]
     },
     "execution_count": 50,
     "metadata": {},
     "output_type": "execute_result"
    }
   ],
   "source": [
    "train_data, val_data = split_by_client(df_train, test_size=0.2)\n",
    "val_data, test_data = split_by_client(val_data, test_size=0.5)\n",
    "\n",
    "# Проверяем, что нет лика данных по клиентам между трайн/вал/тест\n",
    "assert len(set(train_data[\"customer_id\"]) & set(val_data[\"customer_id\"])) == 0, \"Лик train val\"\n",
    "assert len(set(train_data[\"customer_id\"]) & set(test_data[\"customer_id\"])) == 0, \"Лик train test\"\n",
    "assert len(set(test_data[\"customer_id\"]) & set(val_data[\"customer_id\"])) == 0, \"Лик test val\"\n",
    "\n",
    "train_data.shape, test_data.shape, val_data.shape"
   ]
  },
  {
   "cell_type": "code",
   "execution_count": 51,
   "id": "a63db073-3937-439f-80c7-f71e43f2d133",
   "metadata": {},
   "outputs": [
    {
     "data": {
      "text/plain": [
       "(churn\n",
       " 1    287276\n",
       " 0    112724\n",
       " Name: count, dtype: Int64,\n",
       " churn\n",
       " 1    35909\n",
       " 0    14090\n",
       " Name: count, dtype: Int64,\n",
       " churn\n",
       " 1    35910\n",
       " 0    14091\n",
       " Name: count, dtype: Int64)"
      ]
     },
     "execution_count": 51,
     "metadata": {},
     "output_type": "execute_result"
    }
   ],
   "source": [
    "# Проверяем дисбаланс разбиения train/val/test\n",
    "train_data[\"churn\"].value_counts(), val_data[\"churn\"].value_counts(), test_data[\"churn\"].value_counts()"
   ]
  },
  {
   "cell_type": "code",
   "execution_count": 52,
   "id": "5e6f7c24-0eb5-4785-914f-88614bb0f65b",
   "metadata": {},
   "outputs": [
    {
     "data": {
      "text/plain": [
       "customer_id                         int64\n",
       "churn                               Int64\n",
       "revenue_mean                      float64\n",
       "revenue_sum                       float64\n",
       "revenue_max                       float64\n",
       "revenue_min                       float64\n",
       "revenue_std                       float64\n",
       "revenue_last                      float64\n",
       "ownareaall_sqm_mean               float64\n",
       "ownareaall_sqm_max                float64\n",
       "ownareaall_sqm_min                float64\n",
       "ownareaall_sqm_std                float64\n",
       "ownareaall_sqm_last               float64\n",
       "format_name_last                   object\n",
       "startdatetime_count                 int64\n",
       "startdatetime_std                   int64\n",
       "churn_mean_mean                   float64\n",
       "churn_mean_std                    float64\n",
       "churn_mean_min                    float64\n",
       "churn_mean_max                    float64\n",
       "churn_std_mean                    float64\n",
       "churn_std_std                     float64\n",
       "churn_std_min                     float64\n",
       "churn_std_max                     float64\n",
       "startdatetime_last_day              int32\n",
       "startdatetime_last_hour             int32\n",
       "startdatetime_last_day_of_week      int32\n",
       "count_n                             int64\n",
       "lovely_dish_name                   object\n",
       "amnt_top_dishes                     int64\n",
       "lovely_format_name                 object\n",
       "dtype: object"
      ]
     },
     "execution_count": 52,
     "metadata": {},
     "output_type": "execute_result"
    }
   ],
   "source": [
    "train_data.dtypes"
   ]
  },
  {
   "cell_type": "code",
   "execution_count": 53,
   "id": "db21ca25-befa-4ef4-be54-6bef9ca26909",
   "metadata": {},
   "outputs": [],
   "source": [
    "target_column = ['churn']\n",
    "cat_columns = ['format_name_last', 'lovely_dish_name', 'lovely_format_name']\n",
    "id_column = ['customer_id']\n",
    "feature_columns = list(set(df_train.columns) - set(target_column + id_column))"
   ]
  },
  {
   "cell_type": "code",
   "execution_count": 54,
   "id": "143a45f4-dad6-456e-b92b-35f1cdd8424a",
   "metadata": {},
   "outputs": [
    {
     "data": {
      "text/plain": [
       "((400000, 29), (400000, 1), (49999, 29), (49999, 1), (50001, 1), (50001, 29))"
      ]
     },
     "execution_count": 54,
     "metadata": {},
     "output_type": "execute_result"
    }
   ],
   "source": [
    "X_train = train_data[feature_columns]\n",
    "y_train = train_data[target_column]\n",
    "\n",
    "X_val = val_data[feature_columns]\n",
    "y_val = val_data[target_column]\n",
    "\n",
    "X_test = test_data[feature_columns]\n",
    "y_test = test_data[target_column]\n",
    "\n",
    "X_train.shape, y_train.shape, X_val.shape, y_val.shape, y_test.shape, X_test.shape"
   ]
  },
  {
   "cell_type": "markdown",
   "id": "f96568c4-5ece-40b8-89b8-1c02e3ae0498",
   "metadata": {},
   "source": [
    "## Кастомные вспомогательные функции"
   ]
  },
  {
   "cell_type": "code",
   "execution_count": 55,
   "id": "87f79f2d-1118-4e5a-9b33-ebf987b34cc0",
   "metadata": {},
   "outputs": [],
   "source": [
    "# Вывод графика ROC-AUC\n",
    "def plot_roc_auc(y_true, y_pred):\n",
    "    fpr, tpr, _ = roc_curve(y_true=y_true, y_score=y_pred)\n",
    "    roc_auc = roc_auc_score(y_true=y_true, y_score=y_pred)\n",
    "\n",
    "    plt.figure(figsize=(10, 3))\n",
    "    plt.plot(fpr, tpr, color='darkorange',\n",
    "             lw=2, label='ROC curve (area = %0.4f)' % roc_auc, alpha=0.5)\n",
    "\n",
    "    plt.plot([0, 1], [0, 1], color='navy', lw=2, linestyle='--', alpha=0.5)\n",
    "\n",
    "    plt.xlim([0.0, 1.0])\n",
    "    plt.ylim([0.0, 1.05])\n",
    "    plt.xticks(fontsize=12)\n",
    "    plt.yticks(fontsize=12)\n",
    "    plt.grid(True)\n",
    "    plt.xlabel('False Positive Rate', fontsize=12)\n",
    "    plt.ylabel('True Positive Rate', fontsize=12)\n",
    "    plt.title('Receiver operating characteristic', fontsize=16)\n",
    "    plt.legend(loc=\"lower right\", fontsize=12)\n",
    "    plt.show()\n",
    "    return roc_auc\n"
   ]
  },
  {
   "cell_type": "code",
   "execution_count": 56,
   "id": "a2e89b7e-9c59-48a6-90a4-8637511b8ab2",
   "metadata": {},
   "outputs": [],
   "source": [
    "# Вывод графика feature importance\n",
    "def plot_feature_importance(importance, names, model_name=\"\", top_n=-1, skip_columns=[]):\n",
    "    \"\"\"\n",
    "        Функция вывода feature importance\n",
    "            :importance - массив важности фичей, полученный от модели\n",
    "            :names - массив названий фичей\n",
    "            :model_name - название модели\n",
    "            :top_n - кол-во выводимых фичей\n",
    "            :skip_columns: какие фичи пропустить, такое может понадобиться чтобы временно убрать \n",
    "                            из отображаемых горячие фичи, и изучить менее сильные\n",
    "            :return - fi_df - feature importance датафрейм\n",
    "    \"\"\"\n",
    "    feature_importance = np.array(importance)\n",
    "    feature_names = np.array(names)\n",
    "    \n",
    "    data={'feature_names':feature_names,'feature_importance':feature_importance}\n",
    "    fi_df = pd.DataFrame(data)\n",
    "    fi_df = fi_df[~fi_df['feature_names'].isin(skip_columns)]\n",
    "    fi_df.sort_values(by=['feature_importance'], ascending=False,inplace=True)\n",
    "    \n",
    "    plt.figure(figsize=(10,8))\n",
    "    sns.barplot(x=fi_df['feature_importance'][:top_n], y=fi_df['feature_names'][:top_n])\n",
    "    if top_n != -1:\n",
    "        plt.title(f\"{model_name} FEATURE IMPORTANCE (Top: {top_n})\")\n",
    "    else:\n",
    "        plt.title(f\"{model_name} FEATURE IMPORTANCE\")\n",
    "    plt.xlabel('FEATURE IMPORTANCE')\n",
    "    plt.ylabel('FEATURE NAMES')\n",
    "    return fi_df\n"
   ]
  },
  {
   "cell_type": "markdown",
   "id": "b2ed4126-2e30-4ec2-bd4e-a963b9467db3",
   "metadata": {},
   "source": [
    "# Baseline"
   ]
  },
  {
   "cell_type": "markdown",
   "id": "a5411047-2ceb-4db0-ba67-ad1fa94344a9",
   "metadata": {},
   "source": [
    "## OverSampling"
   ]
  },
  {
   "cell_type": "code",
   "execution_count": 57,
   "id": "7c98bdbc-e1e3-4727-acc6-a0bee715cc4c",
   "metadata": {},
   "outputs": [
    {
     "data": {
      "text/plain": [
       "((574552, 29), (574552, 1), (49999, 29), (49999, 1), (50001, 1), (50001, 29))"
      ]
     },
     "execution_count": 57,
     "metadata": {},
     "output_type": "execute_result"
    }
   ],
   "source": [
    "X_train, y_train = RandomOverSampler(random_state=53).fit_resample(X_train, y_train)\n",
    "X_train.shape, y_train.shape, X_val.shape, y_val.shape, y_test.shape, X_test.shape\n",
    "\n",
    "# По итогам анализа выявлено, что сэмплирование данных неплохо работает для данного датасета"
   ]
  },
  {
   "cell_type": "code",
   "execution_count": 58,
   "id": "4b552cfd-cf1f-4ae1-abae-ec2e3a8ba96a",
   "metadata": {},
   "outputs": [],
   "source": [
    "# # Применяется как OverSampling так и UnderSampling\n",
    "# k_over_sampler = 0.03\n",
    "# prc_weight = min(y_train.value_counts()) / max(y_train.value_counts())\n",
    "# print(f\"prc_weight: {prc_weight}\")\n",
    "# count_part_undering = prc_weight + (1 - prc_weight) * k_over_sampler\n",
    "# print(f\"count_part_undering: {count_part_undering}\")\n",
    "# X_train, y_train = RandomOverSampler(sampling_strategy=count_part_undering, random_state=53).fit_resample(X_train, y_train)"
   ]
  },
  {
   "cell_type": "markdown",
   "id": "b461a898-2402-4077-a5fc-a617d1f83322",
   "metadata": {},
   "source": [
    "## CatBoost | Отток пользователей (Бинарная классификация)"
   ]
  },
  {
   "cell_type": "code",
   "execution_count": 59,
   "id": "6b102a77-0921-4f4a-a75a-4c1bf364d7ad",
   "metadata": {},
   "outputs": [
    {
     "data": {
      "text/plain": [
       "{0: 1.0, 1: 1.0}"
      ]
     },
     "execution_count": 59,
     "metadata": {},
     "output_type": "execute_result"
    }
   ],
   "source": [
    "# Расчет дисбалнса классов\n",
    "tdist = y_train['churn'].value_counts()\n",
    "class_weights = {0: tdist[1] / tdist[0], 1: tdist[0] / tdist[1]}\n",
    "\n",
    "class_weights"
   ]
  },
  {
   "cell_type": "code",
   "execution_count": 60,
   "id": "97e76204-3691-444e-89c3-71c18b801530",
   "metadata": {},
   "outputs": [
    {
     "data": {
      "application/vnd.jupyter.widget-view+json": {
       "model_id": "faa2de9922334491831217009e2a082b",
       "version_major": 2,
       "version_minor": 0
      },
      "text/plain": [
       "MetricVisualizer(layout=Layout(align_self='stretch', height='500px'))"
      ]
     },
     "metadata": {},
     "output_type": "display_data"
    },
    {
     "data": {
      "text/plain": [
       "<catboost.core.CatBoostClassifier at 0x1fc0850c650>"
      ]
     },
     "execution_count": 60,
     "metadata": {},
     "output_type": "execute_result"
    }
   ],
   "source": [
    "model = CatBoostClassifier(\n",
    "    iterations=1500,\n",
    "    \n",
    "    loss_function='Logloss',\n",
    "    eval_metric=\"F1\",\n",
    "    \n",
    "    # class_weights=class_weights, \n",
    "    cat_features=cat_columns,\n",
    "\n",
    "    # Параметры ускорения\n",
    "    task_type=\"CPU\",    \n",
    "    thread_count=-1,\n",
    "    bootstrap_type=\"Bernoulli\", \n",
    "    \n",
    "    # Остальное\n",
    "    random_seed=7575,\n",
    "    # auto_class_weights=\"SqrtBalanced\",\n",
    "    early_stopping_rounds=200\n",
    ")\n",
    "model.fit(\n",
    "    X_train, \n",
    "    y_train, \n",
    "    eval_set=(X_val, y_val), \n",
    "    plot=True, verbose=False\n",
    ")"
   ]
  },
  {
   "cell_type": "code",
   "execution_count": 61,
   "id": "fbe960ca-9402-4d99-8107-e32412300b29",
   "metadata": {},
   "outputs": [],
   "source": [
    "# Для рассчета ROC-AUC на baseline моделе используем тестовые данные\n",
    "y_pred_proba = model.predict_proba(X_test)[:, 1]\n",
    "y_pred = model.predict(X_test)"
   ]
  },
  {
   "cell_type": "code",
   "execution_count": 62,
   "id": "c7fe0dc3-784b-457f-890a-8d054191e979",
   "metadata": {},
   "outputs": [
    {
     "data": {
      "image/png": "[encoded data removed]",
      "text/plain": [
       "<Figure size 1000x300 with 1 Axes>"
      ]
     },
     "metadata": {},
     "output_type": "display_data"
    },
    {
     "name": "stdout",
     "output_type": "stream",
     "text": [
      "ROC-AUC Score:  0.7290983631260552\n",
      "              precision    recall  f1-score   support\n",
      "\n",
      "         0.0       0.44      0.65      0.52     14091\n",
      "         1.0       0.83      0.67      0.74     35910\n",
      "\n",
      "    accuracy                           0.67     50001\n",
      "   macro avg       0.64      0.66      0.63     50001\n",
      "weighted avg       0.72      0.67      0.68     50001\n",
      "\n",
      "F1 Score:  0.7440643801258674\n"
     ]
    }
   ],
   "source": [
    "# Строим график ROC-AUC\n",
    "roc_auc = plot_roc_auc(y_true=y_test, y_pred=y_pred_proba)\n",
    "print(\"ROC-AUC Score: \", roc_auc)\n",
    "print(classification_report(y_test, y_pred))\n",
    "print(\"F1 Score: \", f1_score(y_test, y_pred))"
   ]
  },
  {
   "cell_type": "code",
   "execution_count": 63,
   "id": "d59e52a5-a8bb-474c-b0d3-976e53706b68",
   "metadata": {},
   "outputs": [
    {
     "data": {
      "image/png": "[encoded data removed]",
      "text/plain": [
       "<Figure size 1000x800 with 1 Axes>"
      ]
     },
     "metadata": {},
     "output_type": "display_data"
    }
   ],
   "source": [
    "# Построение важности признаков\n",
    "dfi = plot_feature_importance(model.get_feature_importance(), X_test.columns, top_n=30) "
   ]
  },
  {
   "cell_type": "markdown",
   "id": "e419a871-af60-482c-a447-555396713dad",
   "metadata": {},
   "source": [
    "## CatBoost Baseline | Регрессия времени до минимальной будущей транзакции"
   ]
  },
  {
   "cell_type": "markdown",
   "id": "869d6fa9-9df5-4d26-a68e-02cb561d4324",
   "metadata": {},
   "source": [
    "## Inference"
   ]
  },
  {
   "cell_type": "code",
   "execution_count": 64,
   "id": "446a4c69-e243-4ab0-9d5c-c6c7a8e32415",
   "metadata": {},
   "outputs": [
    {
     "data": {
      "text/plain": [
       "(112334, 31)"
      ]
     },
     "execution_count": 64,
     "metadata": {},
     "output_type": "execute_result"
    }
   ],
   "source": [
    "# --- Baseline Features\n",
    "\n",
    "# Считаем признаки через агрегации \n",
    "df_test = df_test.groupby(\"customer_id\", as_index=False).agg(\n",
    "    # Churn\n",
    "    # churn=(\"buy_post\", \"last\"),\n",
    "    \n",
    "    # Revenue\n",
    "    revenue_mean=(\"revenue\", \"mean\"),\n",
    "    revenue_sum=(\"revenue\", \"sum\"),\n",
    "    revenue_max=(\"revenue\", \"max\"),\n",
    "    revenue_min=(\"revenue\", \"min\"),\n",
    "    revenue_std=(\"revenue\", \"std\"),\n",
    "    revenue_last=(\"revenue\", \"last\"),\n",
    "\n",
    "    # Area\n",
    "    ownareaall_sqm_mean=(\"ownareaall_sqm\", \"mean\"),\n",
    "    ownareaall_sqm_max=(\"ownareaall_sqm\", \"max\"),\n",
    "    ownareaall_sqm_min=(\"ownareaall_sqm\", \"min\"),\n",
    "    ownareaall_sqm_std=(\"ownareaall_sqm\", \"std\"),\n",
    "    ownareaall_sqm_last=(\"ownareaall_sqm\", \"last\"),\n",
    "\n",
    "    # Format name\n",
    "    format_name_last=(\"format_name\", \"last\"),\n",
    "\n",
    "    # StartDateTime\n",
    "    startdatetime_count=(\"startdatetime\", \"count\"),\n",
    "    startdatetime_last=(\"startdatetime\", \"last\"),\n",
    "    startdatetime_std=(\"startdatetime\", \"std\"),\n",
    "\n",
    "    # Target Encoding\n",
    "    churn_mean_mean=(\"churn_mean\", \"mean\"),\n",
    "    churn_mean_std=(\"churn_mean\", \"std\"),\n",
    "    churn_mean_min=(\"churn_mean\", \"min\"),\n",
    "    churn_mean_max=(\"churn_mean\", \"max\"),\n",
    "\n",
    "    churn_std_mean=(\"churn_std\", \"mean\"),\n",
    "    churn_std_std=(\"churn_std\", \"std\"),\n",
    "    churn_std_min=(\"churn_std\", \"min\"),\n",
    "    churn_std_max=(\"churn_std\", \"max\"),\n",
    ")\n",
    "df_test['startdatetime_std'] = df_test['startdatetime_std'].dt.days\n",
    "df_test['startdatetime_last_day'] = df_test['startdatetime_last'].dt.day\n",
    "df_test['startdatetime_last_hour'] = df_test['startdatetime_last'].dt.hour\n",
    "df_test['startdatetime_last_day_of_week'] = df_test['startdatetime_last'].dt.day_of_week\n",
    "df_test['startdatetime_last_hour'] = df_test['startdatetime_last'].dt.hour\n",
    "df_test['startdatetime_last_hour'] = df_test['startdatetime_last'].dt.hour\n",
    "\n",
    "df_test = df_test.merge(test_customer_counts, how='left', on='customer_id')\n",
    "df_test = df_test.merge(feat, how='left', on='customer_id')\n",
    "# df_train = df_train.merge(dish_name, how='left', on='customer_id')\n",
    "df_test.shape"
   ]
  },
  {
   "cell_type": "code",
   "execution_count": 65,
   "id": "f57480c3-8b1d-4ee5-841b-2a23b2d003b2",
   "metadata": {},
   "outputs": [],
   "source": [
    "X_test_final = df_test[feature_columns]\n",
    "\n",
    "assert X_test_final.shape[1] == X_train.shape[1], \"Не совпадают размерности!\""
   ]
  },
  {
   "cell_type": "code",
   "execution_count": 66,
   "id": "0c1c17a7-817b-4eb7-9809-77f1ebbcf07d",
   "metadata": {},
   "outputs": [],
   "source": [
    "df_test['churn_pred'] = model.predict(X_test_final)"
   ]
  },
  {
   "cell_type": "code",
   "execution_count": 67,
   "id": "77b6cefa-71a6-4f5c-9b67-132b22c6277b",
   "metadata": {},
   "outputs": [],
   "source": [
    "submit = submit.merge(df_test[['customer_id', 'churn_pred']], how='left', on='customer_id')"
   ]
  },
  {
   "cell_type": "code",
   "execution_count": 68,
   "id": "a0924ced-408f-4a24-b676-71ca3c4d6139",
   "metadata": {},
   "outputs": [],
   "source": [
    "submit['buy_post'] = submit['churn_pred']\n",
    "submit = submit.drop(columns='churn_pred')"
   ]
  },
  {
   "cell_type": "code",
   "execution_count": 69,
   "id": "1c7a839c-011e-4322-9a6e-28af87b11861",
   "metadata": {},
   "outputs": [
    {
     "data": {
      "text/plain": [
       "buy_post\n",
       "1    56863\n",
       "0    55471\n",
       "Name: count, dtype: int64"
      ]
     },
     "execution_count": 69,
     "metadata": {},
     "output_type": "execute_result"
    }
   ],
   "source": [
    "submit['buy_post'].value_counts()"
   ]
  },
  {
   "cell_type": "code",
   "execution_count": 70,
   "id": "8e23e44e-b5ea-4c2c-bfa5-50ed21081c89",
   "metadata": {},
   "outputs": [],
   "source": [
    "submit.to_csv(\"Baseline_GibData.csv\", sep=';', index=False)"
   ]
  }
 ],
 "metadata": {
  "kernelspec": {
   "display_name": "Python 3 (ipykernel)",
   "language": "python",
   "name": "python3"
  },
  "language_info": {
   "codemirror_mode": {
    "name": "ipython",
    "version": 3
   },
   "file_extension": ".py",
   "mimetype": "text/x-python",
   "name": "python",
   "nbconvert_exporter": "python",
   "pygments_lexer": "ipython3",
   "version": "3.11.3"
  }
 },
 "nbformat": 4,
 "nbformat_minor": 5
}
